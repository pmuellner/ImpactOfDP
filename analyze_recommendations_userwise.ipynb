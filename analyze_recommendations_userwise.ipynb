{
 "cells": [
  {
   "cell_type": "code",
   "execution_count": 4,
   "outputs": [],
   "source": [
    "import pickle as pl\n",
    "import pandas as pd\n",
    "import numpy as np\n",
    "import matplotlib.pyplot as plt\n",
    "import os"
   ],
   "metadata": {
    "collapsed": false,
    "ExecuteTime": {
     "end_time": "2023-09-29T08:17:04.189538800Z",
     "start_time": "2023-09-29T08:17:01.695451700Z"
    }
   }
  },
  {
   "cell_type": "code",
   "execution_count": 119,
   "outputs": [],
   "source": [
    "def jaccard_distance(x, y):\n",
    "    return 1 - len(set(x).intersection(y)) / len(set(x).union(y))\n",
    "\n",
    "def sort_files(path):\n",
    "    base, dataset_name, model_name, eps = path.split(sep=\"/\")\n",
    "    files = []\n",
    "    for file in os.listdir(path):\n",
    "        if file.endswith(\".pkl\"):\n",
    "            files.append(file)\n",
    "\n",
    "    LEN_PREFIX = len(model_name)+1\n",
    "    LEN_SUFFIX = len(\".pkl\")\n",
    "    timestamps = [filename[LEN_PREFIX:-LEN_SUFFIX] for filename in files]\n",
    "    sorted_timestamps = sorted(timestamps)\n",
    "    sorted_files = [model_name + \"-\" + timestamp + \".pkl\" for timestamp in sorted_timestamps]\n",
    "\n",
    "    return sorted_files\n",
    "\n",
    "def _compute_metrics(recommendation_list, item_popularity, groundtruth, impacted_users=None):\n",
    "    cut = int(len(item_popularity) * 0.8)\n",
    "    tail_items = set(item_popularity.sort_values(ascending=True).iloc[:cut].index.tolist())\n",
    "\n",
    "    recall, ndcg, arp, aft = dict(), dict(), dict(), dict()\n",
    "    for uid, recs in recommendation_list.items():\n",
    "        if impacted_users is not None:\n",
    "            if uid not in impacted_users:\n",
    "                continue\n",
    "\n",
    "        recall[uid] = len(groundtruth.loc[uid].intersection([str(iid) for iid in recs])) / len(groundtruth.loc[uid])\n",
    "\n",
    "        dcg = 0.0\n",
    "        idcg = 0.0\n",
    "        for pos in range(1, len(recs)+1):\n",
    "            item_at_i = str(recs[pos-1])\n",
    "            rel_i = item_at_i in groundtruth.loc[uid]\n",
    "            dcg += rel_i / np.log2(pos + 1)\n",
    "            idcg += 1 / np.log2(pos + 1)\n",
    "        ndcg[uid] = dcg / idcg\n",
    "        arp[uid] = np.mean([item_popularity.loc[str(item_id)] for item_id in recs])\n",
    "        #aft[uid] = len(tail_items.intersection([str(iid) for iid in recs])) / len(recs)\n",
    "        aft[uid] = len(tail_items.intersection([str(iid) for iid in recs])) / len(recs)\n",
    "\n",
    "    return recall, ndcg, arp, aft\n",
    "\n",
    "\n",
    "def _analyze_recommendations(dirpath, item_popularity, groundtruth, impacted_users=None):\n",
    "    files = sort_files(dirpath)\n",
    "    recalls, ndcgs, arps, afts = [], [], [], []\n",
    "    for idx, file in enumerate(files):\n",
    "        with open(dirpath + \"/\" + file, \"rb\") as f:\n",
    "            recommendation_list = pl.load(f)\n",
    "        if impacted_users is not None:\n",
    "            recall, ndcg, arp, aft = _compute_metrics(recommendation_list, item_popularity, groundtruth, impacted_users=impacted_users[idx])\n",
    "        else:\n",
    "            recall, ndcg, arp, aft = _compute_metrics(recommendation_list, item_popularity, groundtruth)\n",
    "\n",
    "        recalls.append(recall)\n",
    "        ndcgs.append(ndcg)\n",
    "        arps.append(arp)\n",
    "        afts.append(aft)\n",
    "\n",
    "    return recalls, ndcgs, arps, afts\n",
    "\n",
    "def _get_impacted_users(dirpath_nodp, dirpath_dp):\n",
    "    files_nodp = sort_files(dirpath_nodp)\n",
    "    files_dp = sort_files(dirpath_dp)\n",
    "\n",
    "    impacted_users, frac_impacted_users, avg_dist = [], [], []\n",
    "    for file_nodp, file_dp in zip(files_nodp, files_dp):\n",
    "        with open(dirpath_nodp + \"/\" + file_nodp, \"rb\") as f:\n",
    "            recommendation_list_nodp = pl.load(f)\n",
    "\n",
    "        with open(dirpath_dp + \"/\" + file_dp, \"rb\") as f:\n",
    "            recommendation_list_dp = pl.load(f)\n",
    "\n",
    "        impacted_users_f, dist_f = [], []\n",
    "        for uid, recs_dp in recommendation_list_dp.items():\n",
    "            recs_nodp = recommendation_list_nodp[uid]\n",
    "\n",
    "            dist = jaccard_distance(recs_nodp, recs_dp)\n",
    "            if dist > 0:\n",
    "                impacted_users_f.append(uid)\n",
    "                dist_f.append(dist)\n",
    "\n",
    "        frac_impacted_users.append(len(impacted_users_f) / len(recommendation_list_dp))\n",
    "        impacted_users.append(impacted_users_f)\n",
    "        dist_f = dist_f if len(dist_f) > 0 else 0\n",
    "        avg_dist.append(np.mean(np.nanmean(dist_f)))\n",
    "    return impacted_users, np.mean(frac_impacted_users), np.mean(avg_dist)\n",
    "\n",
    "\n"
   ],
   "metadata": {
    "collapsed": false,
    "ExecuteTime": {
     "end_time": "2023-09-29T09:26:59.048422900Z",
     "start_time": "2023-09-29T09:26:59.037241800Z"
    }
   }
  },
  {
   "cell_type": "code",
   "execution_count": 147,
   "outputs": [],
   "source": [
    "def analyze(dataset_name, model_name, groundtruth, item_popularity):\n",
    "    dir = \"saved/\" + dataset_name + \"/\" + model_name + \"/\"\n",
    "    results_nodp = _analyze_recommendations(dirpath=dir + \"nodp\", item_popularity=item_popularity, groundtruth=groundtruth)\n",
    "    recall_nodp, ndcg_nodp, arp_nodp, aft_nodp = results_nodp\n",
    "    delta_recall, delta_ndcg, delta_arp, delta_aft = [], [], [], []\n",
    "    percentage_impacted_users, average_jaccard_distance = [], []\n",
    "\n",
    "    for eps in [0.001, 0.005, 0.01, 0.05, 0.1, 0.5, 1, 2, 3, 4, 5, 10][::-1]:\n",
    "    #for eps in [0.001, 0.005, 0.01, 0.05, 0.1, 0.5, 1][::-1]:\n",
    "        users, frac_impacted, jacc = _get_impacted_users(dirpath_nodp=dir + \"nodp\", dirpath_dp=dir + \"e\" + str(eps))\n",
    "\n",
    "        results_eps = _analyze_recommendations(dirpath=dir + \"e\" + str(eps), item_popularity=item_popularity, groundtruth=groundtruth, impacted_users=users)\n",
    "        recall_eps, ndcg_eps, arp_eps, aft_eps = results_eps\n",
    "\n",
    "        delta_recall_eps, delta_ndcg_eps, delta_arp_eps, delta_aft_eps = [], [], [], []\n",
    "        for file_idx in range(len(users)):\n",
    "            intersection = set(recall_nodp[file_idx].keys()).intersection(recall_eps[file_idx].keys())\n",
    "            delta_recall_eps_f, delta_ndcg_eps_f, delta_arp_eps_f, delta_aft_eps_f = [], [], [], []\n",
    "            \"\"\"for uid in intersection:\n",
    "                delta_recall_eps_f.append((recall_eps[file_idx][uid]))\n",
    "                delta_ndcg_eps_f.append((ndcg_eps[file_idx][uid]))\n",
    "                delta_arp_eps_f.append((arp_eps[file_idx][uid]))\n",
    "                delta_aft_eps_f.append((aft_eps[file_idx][uid]))\n",
    "            delta_recall_eps.append(np.nanmean(delta_recall_eps_f))\n",
    "            delta_ndcg_eps.append(np.nanmean(delta_ndcg_eps_f))\n",
    "            delta_arp_eps.append(np.nanmean(delta_arp_eps_f))\n",
    "            delta_aft_eps.append(np.nanmean(delta_aft_eps_f))\"\"\"\n",
    "            for uid in intersection:\n",
    "                delta_recall_eps_f.append((recall_eps[file_idx][uid] - recall_nodp[file_idx][uid]) / recall_nodp[file_idx][uid] if recall_nodp[file_idx][uid] != 0 else np.nan)\n",
    "                delta_ndcg_eps_f.append((ndcg_eps[file_idx][uid] - ndcg_nodp[file_idx][uid]) / ndcg_nodp[file_idx][uid] if ndcg_nodp[file_idx][uid] != 0 else np.nan)\n",
    "                delta_arp_eps_f.append((arp_eps[file_idx][uid] - arp_nodp[file_idx][uid]) / arp_nodp[file_idx][uid] if arp_nodp[file_idx][uid] != 0 else np.nan)\n",
    "                delta_aft_eps_f.append((aft_eps[file_idx][uid] - aft_nodp[file_idx][uid]) / aft_nodp[file_idx][uid] if aft_nodp[file_idx][uid] != 0 else np.nan)\n",
    "            delta_recall_eps.append(100 * np.nanmean(delta_recall_eps_f))\n",
    "            delta_ndcg_eps.append(100 * np.nanmean(delta_ndcg_eps_f))\n",
    "            delta_arp_eps.append(100 * np.nanmean(delta_arp_eps_f))\n",
    "            delta_aft_eps.append(100 * np.nanmean(delta_aft_eps_f))\n",
    "\n",
    "        delta_recall.append(np.mean(delta_recall_eps))\n",
    "        delta_ndcg.append(np.mean(delta_ndcg_eps))\n",
    "        delta_arp.append(np.mean(delta_arp_eps))\n",
    "        delta_aft.append(np.mean(delta_aft_eps))\n",
    "\n",
    "        percentage_impacted_users.append(100 * frac_impacted)\n",
    "        average_jaccard_distance.append(jacc)\n",
    "\n",
    "        print(\"eps: %f -> %f%% (recall), %f%% (ndcg), %f%% (arp), %f%% (aft), %f (No. Users), %f (Jacc)\" % (\n",
    "            eps, delta_recall[-1], delta_ndcg[-1], delta_arp[-1], delta_aft[-1], percentage_impacted_users[-1], average_jaccard_distance[-1]))\n",
    "    print()\n",
    "    return delta_recall, delta_ndcg, delta_arp, delta_aft, percentage_impacted_users, average_jaccard_distance"
   ],
   "metadata": {
    "collapsed": false,
    "ExecuteTime": {
     "end_time": "2023-09-29T09:51:34.423673100Z",
     "start_time": "2023-09-29T09:51:34.405626400Z"
    }
   }
  },
  {
   "cell_type": "code",
   "execution_count": 189,
   "outputs": [],
   "source": [
    "dataset_name = \"sportsandoutdoors\"\n",
    "\n",
    "test_df = pd.read_csv(\"dataset/\" + dataset_name + \"/\" + dataset_name + \".test.inter\", sep=\"\\t\")\n",
    "test_df.rename(columns={\"user_id:token\": \"user_id\", \"item_id:token\": \"item_id\"}, inplace=True)\n",
    "test_df[\"user_id\"] = test_df[\"user_id\"].astype(str)\n",
    "test_df[\"item_id\"] = test_df[\"item_id\"].astype(str)\n",
    "\n",
    "groundtruth = test_df.groupby(\"user_id\")[\"item_id\"].apply(set)\n",
    "\n",
    "df = pd.read_csv(\"dataset/\" + dataset_name + \"/\" + dataset_name + \".inter\", sep=\"\\t\")\n",
    "df.rename(columns={\"user_id:token\": \"user_id\", \"item_id:token\": \"item_id\"}, inplace=True)\n",
    "df[\"user_id\"] = df[\"user_id\"].astype(str)\n",
    "df[\"item_id\"] = df[\"item_id\"].astype(str)\n",
    "item_popularity = df.groupby(\"item_id\").size() / df[\"user_id\"].nunique()"
   ],
   "metadata": {
    "collapsed": false,
    "ExecuteTime": {
     "end_time": "2023-09-29T11:11:09.029670800Z",
     "start_time": "2023-09-29T11:11:07.329741200Z"
    }
   }
  },
  {
   "cell_type": "code",
   "execution_count": null,
   "outputs": [
    {
     "name": "stdout",
     "output_type": "stream",
     "text": [
      "eps: 10.000000 -> -43.700605% (recall), -38.029217% (ndcg), 25.560803% (arp), -5.834426% (aft), 99.977086 (No. Users), 0.848853 (Jacc)\n"
     ]
    }
   ],
   "source": [
    "delta_recall, delta_ndcg, delta_arp, delta_aft = dict(), dict(), dict(), dict()\n",
    "no_users, jacc_dist = dict(), dict()\n",
    "\n",
    "\"\"\"recall, ndcg, arp, aft, impacted_users, jacc = analyze(dataset_name=dataset_name, model_name=\"BPR\", groundtruth=groundtruth, item_popularity=item_popularity)\n",
    "delta_recall[\"BPR\"] = recall\n",
    "delta_ndcg[\"BPR\"] = ndcg\n",
    "delta_arp[\"BPR\"] = arp\n",
    "delta_aft[\"BPR\"] = aft\n",
    "no_users[\"BPR\"] = impacted_users\n",
    "jacc_dist[\"BPR\"] = jacc\n",
    "\n",
    "recall, ndcg, arp, aft, impacted_users, jacc = analyze(dataset_name=dataset_name, model_name=\"NeuMF\", groundtruth=groundtruth, item_popularity=item_popularity)\n",
    "delta_recall[\"NeuMF\"] = recall\n",
    "delta_ndcg[\"NeuMF\"] = ndcg\n",
    "delta_arp[\"NeuMF\"] = arp\n",
    "delta_aft[\"NeuMF\"] = aft\n",
    "no_users[\"NeuMF\"] = impacted_users\n",
    "jacc_dist[\"NeuMF\"] = jacc\n",
    "\n",
    "recall, ndcg, arp, aft, impacted_users, jacc = analyze(dataset_name=dataset_name, model_name=\"LightGCN\", groundtruth=groundtruth, item_popularity=item_popularity)\n",
    "delta_recall[\"LightGCN\"] = recall\n",
    "delta_ndcg[\"LightGCN\"] = ndcg\n",
    "delta_arp[\"LightGCN\"] = arp\n",
    "delta_aft[\"LightGCN\"] = aft\n",
    "no_users[\"LightGCN\"] = impacted_users\n",
    "jacc_dist[\"LightGCN\"] = jacc\"\"\"\n",
    "\n",
    "recall, ndcg, arp, aft, impacted_users, jacc = analyze(dataset_name=dataset_name, model_name=\"MultiVAE\", groundtruth=groundtruth, item_popularity=item_popularity)\n",
    "delta_recall[\"MultiVAE\"] = recall\n",
    "delta_ndcg[\"MultiVAE\"] = ndcg\n",
    "delta_arp[\"MultiVAE\"] = arp\n",
    "delta_aft[\"MultiVAE\"] = aft\n",
    "no_users[\"MultiVAE\"] = impacted_users\n",
    "jacc_dist[\"MultiVAE\"] = jacc"
   ],
   "metadata": {
    "collapsed": false,
    "is_executing": true,
    "ExecuteTime": {
     "start_time": "2023-09-29T11:12:17.947055200Z"
    }
   }
  },
  {
   "cell_type": "code",
   "execution_count": null,
   "outputs": [],
   "source": [],
   "metadata": {
    "collapsed": false,
    "is_executing": true
   }
  },
  {
   "cell_type": "code",
   "execution_count": null,
   "outputs": [],
   "source": [],
   "metadata": {
    "collapsed": false
   }
  },
  {
   "cell_type": "code",
   "execution_count": 145,
   "outputs": [],
   "source": [
    "%matplotlib inline\n",
    "all_eps = [0.001, 0.005, 0.01, 0.05, 0.1, 0.5, 1, 2, 3, 4, 5, 10][::-1]\n",
    "#all_eps = [0.001, 0.005, 0.01, 0.05, 0.1, 0.5, 1][::-1]"
   ],
   "metadata": {
    "collapsed": false,
    "ExecuteTime": {
     "end_time": "2023-09-29T09:51:15.190552900Z",
     "start_time": "2023-09-29T09:51:15.171878800Z"
    }
   }
  },
  {
   "cell_type": "code",
   "execution_count": 146,
   "outputs": [
    {
     "ename": "ValueError",
     "evalue": "x and y must have same first dimension, but have shapes (12,) and (7,)",
     "output_type": "error",
     "traceback": [
      "\u001B[1;31m---------------------------------------------------------------------------\u001B[0m",
      "\u001B[1;31mValueError\u001B[0m                                Traceback (most recent call last)",
      "Cell \u001B[1;32mIn[146], line 1\u001B[0m\n\u001B[1;32m----> 1\u001B[0m \u001B[43mplt\u001B[49m\u001B[38;5;241;43m.\u001B[39;49m\u001B[43mplot\u001B[49m\u001B[43m(\u001B[49m\u001B[43mall_eps\u001B[49m\u001B[43m,\u001B[49m\u001B[43m \u001B[49m\u001B[43mdelta_recall\u001B[49m\u001B[43m[\u001B[49m\u001B[38;5;124;43m\"\u001B[39;49m\u001B[38;5;124;43mBPR\u001B[39;49m\u001B[38;5;124;43m\"\u001B[39;49m\u001B[43m]\u001B[49m\u001B[43m,\u001B[49m\u001B[43m \u001B[49m\u001B[43mlabel\u001B[49m\u001B[38;5;241;43m=\u001B[39;49m\u001B[38;5;124;43m\"\u001B[39;49m\u001B[38;5;124;43mBPR\u001B[39;49m\u001B[38;5;124;43m\"\u001B[39;49m\u001B[43m)\u001B[49m\n\u001B[0;32m      2\u001B[0m plt\u001B[38;5;241m.\u001B[39mplot(all_eps, delta_recall[\u001B[38;5;124m\"\u001B[39m\u001B[38;5;124mNeuMF\u001B[39m\u001B[38;5;124m\"\u001B[39m], label\u001B[38;5;241m=\u001B[39m\u001B[38;5;124m\"\u001B[39m\u001B[38;5;124mNeuMF\u001B[39m\u001B[38;5;124m\"\u001B[39m)\n\u001B[0;32m      3\u001B[0m plt\u001B[38;5;241m.\u001B[39mplot(all_eps, delta_recall[\u001B[38;5;124m\"\u001B[39m\u001B[38;5;124mMultiVAE\u001B[39m\u001B[38;5;124m\"\u001B[39m], label\u001B[38;5;241m=\u001B[39m\u001B[38;5;124m\"\u001B[39m\u001B[38;5;124mMultiVAE\u001B[39m\u001B[38;5;124m\"\u001B[39m)\n",
      "File \u001B[1;32m~\\.conda\\envs\\ImpactOfDP\\lib\\site-packages\\matplotlib\\pyplot.py:2812\u001B[0m, in \u001B[0;36mplot\u001B[1;34m(scalex, scaley, data, *args, **kwargs)\u001B[0m\n\u001B[0;32m   2810\u001B[0m \u001B[38;5;129m@_copy_docstring_and_deprecators\u001B[39m(Axes\u001B[38;5;241m.\u001B[39mplot)\n\u001B[0;32m   2811\u001B[0m \u001B[38;5;28;01mdef\u001B[39;00m \u001B[38;5;21mplot\u001B[39m(\u001B[38;5;241m*\u001B[39margs, scalex\u001B[38;5;241m=\u001B[39m\u001B[38;5;28;01mTrue\u001B[39;00m, scaley\u001B[38;5;241m=\u001B[39m\u001B[38;5;28;01mTrue\u001B[39;00m, data\u001B[38;5;241m=\u001B[39m\u001B[38;5;28;01mNone\u001B[39;00m, \u001B[38;5;241m*\u001B[39m\u001B[38;5;241m*\u001B[39mkwargs):\n\u001B[1;32m-> 2812\u001B[0m     \u001B[38;5;28;01mreturn\u001B[39;00m \u001B[43mgca\u001B[49m\u001B[43m(\u001B[49m\u001B[43m)\u001B[49m\u001B[38;5;241;43m.\u001B[39;49m\u001B[43mplot\u001B[49m\u001B[43m(\u001B[49m\n\u001B[0;32m   2813\u001B[0m \u001B[43m        \u001B[49m\u001B[38;5;241;43m*\u001B[39;49m\u001B[43margs\u001B[49m\u001B[43m,\u001B[49m\u001B[43m \u001B[49m\u001B[43mscalex\u001B[49m\u001B[38;5;241;43m=\u001B[39;49m\u001B[43mscalex\u001B[49m\u001B[43m,\u001B[49m\u001B[43m \u001B[49m\u001B[43mscaley\u001B[49m\u001B[38;5;241;43m=\u001B[39;49m\u001B[43mscaley\u001B[49m\u001B[43m,\u001B[49m\n\u001B[0;32m   2814\u001B[0m \u001B[43m        \u001B[49m\u001B[38;5;241;43m*\u001B[39;49m\u001B[38;5;241;43m*\u001B[39;49m\u001B[43m(\u001B[49m\u001B[43m{\u001B[49m\u001B[38;5;124;43m\"\u001B[39;49m\u001B[38;5;124;43mdata\u001B[39;49m\u001B[38;5;124;43m\"\u001B[39;49m\u001B[43m:\u001B[49m\u001B[43m \u001B[49m\u001B[43mdata\u001B[49m\u001B[43m}\u001B[49m\u001B[43m \u001B[49m\u001B[38;5;28;43;01mif\u001B[39;49;00m\u001B[43m \u001B[49m\u001B[43mdata\u001B[49m\u001B[43m \u001B[49m\u001B[38;5;129;43;01mis\u001B[39;49;00m\u001B[43m \u001B[49m\u001B[38;5;129;43;01mnot\u001B[39;49;00m\u001B[43m \u001B[49m\u001B[38;5;28;43;01mNone\u001B[39;49;00m\u001B[43m \u001B[49m\u001B[38;5;28;43;01melse\u001B[39;49;00m\u001B[43m \u001B[49m\u001B[43m{\u001B[49m\u001B[43m}\u001B[49m\u001B[43m)\u001B[49m\u001B[43m,\u001B[49m\u001B[43m \u001B[49m\u001B[38;5;241;43m*\u001B[39;49m\u001B[38;5;241;43m*\u001B[39;49m\u001B[43mkwargs\u001B[49m\u001B[43m)\u001B[49m\n",
      "File \u001B[1;32m~\\.conda\\envs\\ImpactOfDP\\lib\\site-packages\\matplotlib\\axes\\_axes.py:1688\u001B[0m, in \u001B[0;36mAxes.plot\u001B[1;34m(self, scalex, scaley, data, *args, **kwargs)\u001B[0m\n\u001B[0;32m   1445\u001B[0m \u001B[38;5;250m\u001B[39m\u001B[38;5;124;03m\"\"\"\u001B[39;00m\n\u001B[0;32m   1446\u001B[0m \u001B[38;5;124;03mPlot y versus x as lines and/or markers.\u001B[39;00m\n\u001B[0;32m   1447\u001B[0m \n\u001B[1;32m   (...)\u001B[0m\n\u001B[0;32m   1685\u001B[0m \u001B[38;5;124;03m(``'green'``) or hex strings (``'#008000'``).\u001B[39;00m\n\u001B[0;32m   1686\u001B[0m \u001B[38;5;124;03m\"\"\"\u001B[39;00m\n\u001B[0;32m   1687\u001B[0m kwargs \u001B[38;5;241m=\u001B[39m cbook\u001B[38;5;241m.\u001B[39mnormalize_kwargs(kwargs, mlines\u001B[38;5;241m.\u001B[39mLine2D)\n\u001B[1;32m-> 1688\u001B[0m lines \u001B[38;5;241m=\u001B[39m [\u001B[38;5;241m*\u001B[39m\u001B[38;5;28mself\u001B[39m\u001B[38;5;241m.\u001B[39m_get_lines(\u001B[38;5;241m*\u001B[39margs, data\u001B[38;5;241m=\u001B[39mdata, \u001B[38;5;241m*\u001B[39m\u001B[38;5;241m*\u001B[39mkwargs)]\n\u001B[0;32m   1689\u001B[0m \u001B[38;5;28;01mfor\u001B[39;00m line \u001B[38;5;129;01min\u001B[39;00m lines:\n\u001B[0;32m   1690\u001B[0m     \u001B[38;5;28mself\u001B[39m\u001B[38;5;241m.\u001B[39madd_line(line)\n",
      "File \u001B[1;32m~\\.conda\\envs\\ImpactOfDP\\lib\\site-packages\\matplotlib\\axes\\_base.py:311\u001B[0m, in \u001B[0;36m_process_plot_var_args.__call__\u001B[1;34m(self, data, *args, **kwargs)\u001B[0m\n\u001B[0;32m    309\u001B[0m     this \u001B[38;5;241m+\u001B[39m\u001B[38;5;241m=\u001B[39m args[\u001B[38;5;241m0\u001B[39m],\n\u001B[0;32m    310\u001B[0m     args \u001B[38;5;241m=\u001B[39m args[\u001B[38;5;241m1\u001B[39m:]\n\u001B[1;32m--> 311\u001B[0m \u001B[38;5;28;01myield from\u001B[39;00m \u001B[38;5;28;43mself\u001B[39;49m\u001B[38;5;241;43m.\u001B[39;49m\u001B[43m_plot_args\u001B[49m\u001B[43m(\u001B[49m\n\u001B[0;32m    312\u001B[0m \u001B[43m    \u001B[49m\u001B[43mthis\u001B[49m\u001B[43m,\u001B[49m\u001B[43m \u001B[49m\u001B[43mkwargs\u001B[49m\u001B[43m,\u001B[49m\u001B[43m \u001B[49m\u001B[43mambiguous_fmt_datakey\u001B[49m\u001B[38;5;241;43m=\u001B[39;49m\u001B[43mambiguous_fmt_datakey\u001B[49m\u001B[43m)\u001B[49m\n",
      "File \u001B[1;32m~\\.conda\\envs\\ImpactOfDP\\lib\\site-packages\\matplotlib\\axes\\_base.py:504\u001B[0m, in \u001B[0;36m_process_plot_var_args._plot_args\u001B[1;34m(self, tup, kwargs, return_kwargs, ambiguous_fmt_datakey)\u001B[0m\n\u001B[0;32m    501\u001B[0m     \u001B[38;5;28mself\u001B[39m\u001B[38;5;241m.\u001B[39maxes\u001B[38;5;241m.\u001B[39myaxis\u001B[38;5;241m.\u001B[39mupdate_units(y)\n\u001B[0;32m    503\u001B[0m \u001B[38;5;28;01mif\u001B[39;00m x\u001B[38;5;241m.\u001B[39mshape[\u001B[38;5;241m0\u001B[39m] \u001B[38;5;241m!=\u001B[39m y\u001B[38;5;241m.\u001B[39mshape[\u001B[38;5;241m0\u001B[39m]:\n\u001B[1;32m--> 504\u001B[0m     \u001B[38;5;28;01mraise\u001B[39;00m \u001B[38;5;167;01mValueError\u001B[39;00m(\u001B[38;5;124mf\u001B[39m\u001B[38;5;124m\"\u001B[39m\u001B[38;5;124mx and y must have same first dimension, but \u001B[39m\u001B[38;5;124m\"\u001B[39m\n\u001B[0;32m    505\u001B[0m                      \u001B[38;5;124mf\u001B[39m\u001B[38;5;124m\"\u001B[39m\u001B[38;5;124mhave shapes \u001B[39m\u001B[38;5;132;01m{\u001B[39;00mx\u001B[38;5;241m.\u001B[39mshape\u001B[38;5;132;01m}\u001B[39;00m\u001B[38;5;124m and \u001B[39m\u001B[38;5;132;01m{\u001B[39;00my\u001B[38;5;241m.\u001B[39mshape\u001B[38;5;132;01m}\u001B[39;00m\u001B[38;5;124m\"\u001B[39m)\n\u001B[0;32m    506\u001B[0m \u001B[38;5;28;01mif\u001B[39;00m x\u001B[38;5;241m.\u001B[39mndim \u001B[38;5;241m>\u001B[39m \u001B[38;5;241m2\u001B[39m \u001B[38;5;129;01mor\u001B[39;00m y\u001B[38;5;241m.\u001B[39mndim \u001B[38;5;241m>\u001B[39m \u001B[38;5;241m2\u001B[39m:\n\u001B[0;32m    507\u001B[0m     \u001B[38;5;28;01mraise\u001B[39;00m \u001B[38;5;167;01mValueError\u001B[39;00m(\u001B[38;5;124mf\u001B[39m\u001B[38;5;124m\"\u001B[39m\u001B[38;5;124mx and y can be no greater than 2D, but have \u001B[39m\u001B[38;5;124m\"\u001B[39m\n\u001B[0;32m    508\u001B[0m                      \u001B[38;5;124mf\u001B[39m\u001B[38;5;124m\"\u001B[39m\u001B[38;5;124mshapes \u001B[39m\u001B[38;5;132;01m{\u001B[39;00mx\u001B[38;5;241m.\u001B[39mshape\u001B[38;5;132;01m}\u001B[39;00m\u001B[38;5;124m and \u001B[39m\u001B[38;5;132;01m{\u001B[39;00my\u001B[38;5;241m.\u001B[39mshape\u001B[38;5;132;01m}\u001B[39;00m\u001B[38;5;124m\"\u001B[39m)\n",
      "\u001B[1;31mValueError\u001B[0m: x and y must have same first dimension, but have shapes (12,) and (7,)"
     ]
    },
    {
     "data": {
      "text/plain": "<Figure size 640x480 with 1 Axes>",
      "image/png": "[encoded data removed]"
     },
     "metadata": {},
     "output_type": "display_data"
    }
   ],
   "source": [
    "plt.plot(all_eps, delta_recall[\"BPR\"], label=\"BPR\")\n",
    "plt.plot(all_eps, delta_recall[\"NeuMF\"], label=\"NeuMF\")\n",
    "plt.plot(all_eps, delta_recall[\"MultiVAE\"], label=\"MultiVAE\")\n",
    "plt.plot(all_eps, delta_recall[\"LightGCN\"], label=\"LightGCN\")\n",
    "#plt.plot(all_eps, delta_recall[\"Pop\"], label=\"Pop\")\n",
    "plt.xlabel(r\"Privacy Budget $\\epsilon$\")\n",
    "plt.ylabel(r\"$\\Delta Recall$ in %\")\n",
    "plt.axhline(y=0, linestyle=\"dashed\", c=\"gray\")\n",
    "plt.gca().invert_xaxis()\n",
    "plt.legend()"
   ],
   "metadata": {
    "collapsed": false,
    "ExecuteTime": {
     "end_time": "2023-09-29T09:51:18.735494300Z",
     "start_time": "2023-09-29T09:51:16.549556Z"
    }
   }
  },
  {
   "cell_type": "code",
   "execution_count": 174,
   "outputs": [
    {
     "ename": "KeyError",
     "evalue": "'NeuMF'",
     "output_type": "error",
     "traceback": [
      "\u001B[1;31m---------------------------------------------------------------------------\u001B[0m",
      "\u001B[1;31mKeyError\u001B[0m                                  Traceback (most recent call last)",
      "Cell \u001B[1;32mIn[174], line 2\u001B[0m\n\u001B[0;32m      1\u001B[0m plt\u001B[38;5;241m.\u001B[39mplot(all_eps, delta_ndcg[\u001B[38;5;124m\"\u001B[39m\u001B[38;5;124mBPR\u001B[39m\u001B[38;5;124m\"\u001B[39m], label\u001B[38;5;241m=\u001B[39m\u001B[38;5;124m\"\u001B[39m\u001B[38;5;124mBPR\u001B[39m\u001B[38;5;124m\"\u001B[39m)\n\u001B[1;32m----> 2\u001B[0m plt\u001B[38;5;241m.\u001B[39mplot(all_eps, \u001B[43mdelta_ndcg\u001B[49m\u001B[43m[\u001B[49m\u001B[38;5;124;43m\"\u001B[39;49m\u001B[38;5;124;43mNeuMF\u001B[39;49m\u001B[38;5;124;43m\"\u001B[39;49m\u001B[43m]\u001B[49m, label\u001B[38;5;241m=\u001B[39m\u001B[38;5;124m\"\u001B[39m\u001B[38;5;124mNeuMF\u001B[39m\u001B[38;5;124m\"\u001B[39m)\n\u001B[0;32m      3\u001B[0m plt\u001B[38;5;241m.\u001B[39mplot(all_eps, delta_ndcg[\u001B[38;5;124m\"\u001B[39m\u001B[38;5;124mMultiVAE\u001B[39m\u001B[38;5;124m\"\u001B[39m], label\u001B[38;5;241m=\u001B[39m\u001B[38;5;124m\"\u001B[39m\u001B[38;5;124mMultiVAE\u001B[39m\u001B[38;5;124m\"\u001B[39m)\n\u001B[0;32m      4\u001B[0m plt\u001B[38;5;241m.\u001B[39mplot(all_eps, delta_ndcg[\u001B[38;5;124m\"\u001B[39m\u001B[38;5;124mLightGCN\u001B[39m\u001B[38;5;124m\"\u001B[39m], label\u001B[38;5;241m=\u001B[39m\u001B[38;5;124m\"\u001B[39m\u001B[38;5;124mLightGCN\u001B[39m\u001B[38;5;124m\"\u001B[39m)\n",
      "\u001B[1;31mKeyError\u001B[0m: 'NeuMF'"
     ]
    },
    {
     "data": {
      "text/plain": "<Figure size 640x480 with 1 Axes>",
      "image/png": "[encoded data removed]"
     },
     "metadata": {},
     "output_type": "display_data"
    }
   ],
   "source": [
    "plt.plot(all_eps, delta_ndcg[\"BPR\"], label=\"BPR\")\n",
    "plt.plot(all_eps, delta_ndcg[\"NeuMF\"], label=\"NeuMF\")\n",
    "plt.plot(all_eps, delta_ndcg[\"MultiVAE\"], label=\"MultiVAE\")\n",
    "plt.plot(all_eps, delta_ndcg[\"LightGCN\"], label=\"LightGCN\")\n",
    "#plt.plot(all_eps, delta_ndcg[\"Pop\"], label=\"Pop\")\n",
    "plt.xlabel(r\"Privacy Budget $\\epsilon$\")\n",
    "plt.ylabel(r\"$\\Delta nDCG$ in %\")\n",
    "plt.axhline(y=0, linestyle=\"dashed\", c=\"gray\")\n",
    "plt.gca().invert_xaxis()\n",
    "plt.legend()"
   ],
   "metadata": {
    "collapsed": false,
    "ExecuteTime": {
     "end_time": "2023-09-28T11:13:22.435164100Z",
     "start_time": "2023-09-28T11:13:22.260003600Z"
    }
   }
  },
  {
   "cell_type": "code",
   "execution_count": 175,
   "outputs": [
    {
     "ename": "KeyError",
     "evalue": "'NeuMF'",
     "output_type": "error",
     "traceback": [
      "\u001B[1;31m---------------------------------------------------------------------------\u001B[0m",
      "\u001B[1;31mKeyError\u001B[0m                                  Traceback (most recent call last)",
      "Cell \u001B[1;32mIn[175], line 2\u001B[0m\n\u001B[0;32m      1\u001B[0m plt\u001B[38;5;241m.\u001B[39mplot(all_eps, delta_arp[\u001B[38;5;124m\"\u001B[39m\u001B[38;5;124mBPR\u001B[39m\u001B[38;5;124m\"\u001B[39m], label\u001B[38;5;241m=\u001B[39m\u001B[38;5;124m\"\u001B[39m\u001B[38;5;124mBPR\u001B[39m\u001B[38;5;124m\"\u001B[39m)\n\u001B[1;32m----> 2\u001B[0m plt\u001B[38;5;241m.\u001B[39mplot(all_eps, \u001B[43mdelta_arp\u001B[49m\u001B[43m[\u001B[49m\u001B[38;5;124;43m\"\u001B[39;49m\u001B[38;5;124;43mNeuMF\u001B[39;49m\u001B[38;5;124;43m\"\u001B[39;49m\u001B[43m]\u001B[49m, label\u001B[38;5;241m=\u001B[39m\u001B[38;5;124m\"\u001B[39m\u001B[38;5;124mNeuMF\u001B[39m\u001B[38;5;124m\"\u001B[39m)\n\u001B[0;32m      3\u001B[0m plt\u001B[38;5;241m.\u001B[39mplot(all_eps, delta_arp[\u001B[38;5;124m\"\u001B[39m\u001B[38;5;124mMultiVAE\u001B[39m\u001B[38;5;124m\"\u001B[39m], label\u001B[38;5;241m=\u001B[39m\u001B[38;5;124m\"\u001B[39m\u001B[38;5;124mMultiVAE\u001B[39m\u001B[38;5;124m\"\u001B[39m)\n\u001B[0;32m      4\u001B[0m plt\u001B[38;5;241m.\u001B[39mplot(all_eps, delta_arp[\u001B[38;5;124m\"\u001B[39m\u001B[38;5;124mLightGCN\u001B[39m\u001B[38;5;124m\"\u001B[39m], label\u001B[38;5;241m=\u001B[39m\u001B[38;5;124m\"\u001B[39m\u001B[38;5;124mLightGCN\u001B[39m\u001B[38;5;124m\"\u001B[39m)\n",
      "\u001B[1;31mKeyError\u001B[0m: 'NeuMF'"
     ]
    },
    {
     "data": {
      "text/plain": "<Figure size 640x480 with 1 Axes>",
      "image/png": "[encoded data removed]"
     },
     "metadata": {},
     "output_type": "display_data"
    }
   ],
   "source": [
    "plt.plot(all_eps, delta_arp[\"BPR\"], label=\"BPR\")\n",
    "plt.plot(all_eps, delta_arp[\"NeuMF\"], label=\"NeuMF\")\n",
    "plt.plot(all_eps, delta_arp[\"MultiVAE\"], label=\"MultiVAE\")\n",
    "plt.plot(all_eps, delta_arp[\"LightGCN\"], label=\"LightGCN\")\n",
    "#plt.plot(all_eps, delta_arp[\"Pop\"], label=\"Pop\")\n",
    "plt.xlabel(r\"Privacy Budget $\\epsilon$\")\n",
    "plt.ylabel(r\"$\\Delta$ ARP in %\")\n",
    "plt.axhline(y=0, linestyle=\"dashed\", c=\"gray\")\n",
    "plt.gca().invert_xaxis()\n",
    "plt.legend()"
   ],
   "metadata": {
    "collapsed": false,
    "ExecuteTime": {
     "end_time": "2023-09-28T11:13:34.825073Z",
     "start_time": "2023-09-28T11:13:34.653065100Z"
    }
   }
  },
  {
   "cell_type": "code",
   "execution_count": 176,
   "outputs": [
    {
     "ename": "KeyError",
     "evalue": "'NeuMF'",
     "output_type": "error",
     "traceback": [
      "\u001B[1;31m---------------------------------------------------------------------------\u001B[0m",
      "\u001B[1;31mKeyError\u001B[0m                                  Traceback (most recent call last)",
      "Cell \u001B[1;32mIn[176], line 2\u001B[0m\n\u001B[0;32m      1\u001B[0m plt\u001B[38;5;241m.\u001B[39mplot(all_eps, delta_aft[\u001B[38;5;124m\"\u001B[39m\u001B[38;5;124mBPR\u001B[39m\u001B[38;5;124m\"\u001B[39m], label\u001B[38;5;241m=\u001B[39m\u001B[38;5;124m\"\u001B[39m\u001B[38;5;124mBPR\u001B[39m\u001B[38;5;124m\"\u001B[39m)\n\u001B[1;32m----> 2\u001B[0m plt\u001B[38;5;241m.\u001B[39mplot(all_eps, \u001B[43mdelta_aft\u001B[49m\u001B[43m[\u001B[49m\u001B[38;5;124;43m\"\u001B[39;49m\u001B[38;5;124;43mNeuMF\u001B[39;49m\u001B[38;5;124;43m\"\u001B[39;49m\u001B[43m]\u001B[49m, label\u001B[38;5;241m=\u001B[39m\u001B[38;5;124m\"\u001B[39m\u001B[38;5;124mNeuMF\u001B[39m\u001B[38;5;124m\"\u001B[39m)\n\u001B[0;32m      3\u001B[0m plt\u001B[38;5;241m.\u001B[39mplot(all_eps, delta_aft[\u001B[38;5;124m\"\u001B[39m\u001B[38;5;124mMultiVAE\u001B[39m\u001B[38;5;124m\"\u001B[39m], label\u001B[38;5;241m=\u001B[39m\u001B[38;5;124m\"\u001B[39m\u001B[38;5;124mMultiVAE\u001B[39m\u001B[38;5;124m\"\u001B[39m)\n\u001B[0;32m      4\u001B[0m plt\u001B[38;5;241m.\u001B[39mplot(all_eps, delta_aft[\u001B[38;5;124m\"\u001B[39m\u001B[38;5;124mLightGCN\u001B[39m\u001B[38;5;124m\"\u001B[39m], label\u001B[38;5;241m=\u001B[39m\u001B[38;5;124m\"\u001B[39m\u001B[38;5;124mLightGCN\u001B[39m\u001B[38;5;124m\"\u001B[39m)\n",
      "\u001B[1;31mKeyError\u001B[0m: 'NeuMF'"
     ]
    },
    {
     "data": {
      "text/plain": "<Figure size 640x480 with 1 Axes>",
      "image/png": "[encoded data removed]"
     },
     "metadata": {},
     "output_type": "display_data"
    }
   ],
   "source": [
    "plt.plot(all_eps, delta_aft[\"BPR\"], label=\"BPR\")\n",
    "plt.plot(all_eps, delta_aft[\"NeuMF\"], label=\"NeuMF\")\n",
    "plt.plot(all_eps, delta_aft[\"MultiVAE\"], label=\"MultiVAE\")\n",
    "plt.plot(all_eps, delta_aft[\"LightGCN\"], label=\"LightGCN\")\n",
    "#plt.plot(all_eps, delta_aft[\"Pop\"], label=\"Pop\")\n",
    "plt.xlabel(r\"Privacy Budget $\\epsilon$\")\n",
    "plt.ylabel(r\"$\\Delta$ AFT in %\")\n",
    "plt.axhline(y=0, linestyle=\"dashed\", c=\"gray\")\n",
    "plt.gca().invert_xaxis()\n",
    "plt.legend()"
   ],
   "metadata": {
    "collapsed": false,
    "ExecuteTime": {
     "end_time": "2023-09-28T11:13:37.629640500Z",
     "start_time": "2023-09-28T11:13:37.494383100Z"
    }
   }
  },
  {
   "cell_type": "code",
   "execution_count": 177,
   "outputs": [
    {
     "ename": "KeyError",
     "evalue": "'NeuMF'",
     "output_type": "error",
     "traceback": [
      "\u001B[1;31m---------------------------------------------------------------------------\u001B[0m",
      "\u001B[1;31mKeyError\u001B[0m                                  Traceback (most recent call last)",
      "Cell \u001B[1;32mIn[177], line 2\u001B[0m\n\u001B[0;32m      1\u001B[0m plt\u001B[38;5;241m.\u001B[39mplot(all_eps, no_users[\u001B[38;5;124m\"\u001B[39m\u001B[38;5;124mBPR\u001B[39m\u001B[38;5;124m\"\u001B[39m], label\u001B[38;5;241m=\u001B[39m\u001B[38;5;124m\"\u001B[39m\u001B[38;5;124mBPR\u001B[39m\u001B[38;5;124m\"\u001B[39m)\n\u001B[1;32m----> 2\u001B[0m plt\u001B[38;5;241m.\u001B[39mplot(all_eps, \u001B[43mno_users\u001B[49m\u001B[43m[\u001B[49m\u001B[38;5;124;43m\"\u001B[39;49m\u001B[38;5;124;43mNeuMF\u001B[39;49m\u001B[38;5;124;43m\"\u001B[39;49m\u001B[43m]\u001B[49m, label\u001B[38;5;241m=\u001B[39m\u001B[38;5;124m\"\u001B[39m\u001B[38;5;124mNeuMF\u001B[39m\u001B[38;5;124m\"\u001B[39m)\n\u001B[0;32m      3\u001B[0m plt\u001B[38;5;241m.\u001B[39mplot(all_eps, no_users[\u001B[38;5;124m\"\u001B[39m\u001B[38;5;124mMultiVAE\u001B[39m\u001B[38;5;124m\"\u001B[39m], label\u001B[38;5;241m=\u001B[39m\u001B[38;5;124m\"\u001B[39m\u001B[38;5;124mMultiVAE\u001B[39m\u001B[38;5;124m\"\u001B[39m)\n\u001B[0;32m      4\u001B[0m plt\u001B[38;5;241m.\u001B[39mplot(all_eps, no_users[\u001B[38;5;124m\"\u001B[39m\u001B[38;5;124mLightGCN\u001B[39m\u001B[38;5;124m\"\u001B[39m], label\u001B[38;5;241m=\u001B[39m\u001B[38;5;124m\"\u001B[39m\u001B[38;5;124mLightGCN\u001B[39m\u001B[38;5;124m\"\u001B[39m)\n",
      "\u001B[1;31mKeyError\u001B[0m: 'NeuMF'"
     ]
    },
    {
     "data": {
      "text/plain": "<Figure size 640x480 with 1 Axes>",
      "image/png": "[encoded data removed]"
     },
     "metadata": {},
     "output_type": "display_data"
    }
   ],
   "source": [
    "plt.plot(all_eps, no_users[\"BPR\"], label=\"BPR\")\n",
    "plt.plot(all_eps, no_users[\"NeuMF\"], label=\"NeuMF\")\n",
    "plt.plot(all_eps, no_users[\"MultiVAE\"], label=\"MultiVAE\")\n",
    "plt.plot(all_eps, no_users[\"LightGCN\"], label=\"LightGCN\")\n",
    "#plt.plot(all_eps, no_users[\"Pop\"], label=\"Pop\")\n",
    "plt.xlabel(r\"Privacy Budget $\\epsilon$\")\n",
    "plt.ylabel(\"No. Users in %\")\n",
    "plt.gca().invert_xaxis()\n",
    "plt.legend()"
   ],
   "metadata": {
    "collapsed": false,
    "ExecuteTime": {
     "end_time": "2023-09-28T11:13:46.542230800Z",
     "start_time": "2023-09-28T11:13:46.388192400Z"
    }
   }
  },
  {
   "cell_type": "code",
   "execution_count": 178,
   "outputs": [
    {
     "ename": "KeyError",
     "evalue": "'NeuMF'",
     "output_type": "error",
     "traceback": [
      "\u001B[1;31m---------------------------------------------------------------------------\u001B[0m",
      "\u001B[1;31mKeyError\u001B[0m                                  Traceback (most recent call last)",
      "Cell \u001B[1;32mIn[178], line 2\u001B[0m\n\u001B[0;32m      1\u001B[0m plt\u001B[38;5;241m.\u001B[39mplot(all_eps, jacc_dist[\u001B[38;5;124m\"\u001B[39m\u001B[38;5;124mBPR\u001B[39m\u001B[38;5;124m\"\u001B[39m], label\u001B[38;5;241m=\u001B[39m\u001B[38;5;124m\"\u001B[39m\u001B[38;5;124mBPR\u001B[39m\u001B[38;5;124m\"\u001B[39m)\n\u001B[1;32m----> 2\u001B[0m plt\u001B[38;5;241m.\u001B[39mplot(all_eps, \u001B[43mjacc_dist\u001B[49m\u001B[43m[\u001B[49m\u001B[38;5;124;43m\"\u001B[39;49m\u001B[38;5;124;43mNeuMF\u001B[39;49m\u001B[38;5;124;43m\"\u001B[39;49m\u001B[43m]\u001B[49m, label\u001B[38;5;241m=\u001B[39m\u001B[38;5;124m\"\u001B[39m\u001B[38;5;124mNeuMF\u001B[39m\u001B[38;5;124m\"\u001B[39m)\n\u001B[0;32m      3\u001B[0m plt\u001B[38;5;241m.\u001B[39mplot(all_eps, jacc_dist[\u001B[38;5;124m\"\u001B[39m\u001B[38;5;124mMultiVAE\u001B[39m\u001B[38;5;124m\"\u001B[39m], label\u001B[38;5;241m=\u001B[39m\u001B[38;5;124m\"\u001B[39m\u001B[38;5;124mMultiVAE\u001B[39m\u001B[38;5;124m\"\u001B[39m)\n\u001B[0;32m      4\u001B[0m plt\u001B[38;5;241m.\u001B[39mplot(all_eps, jacc_dist[\u001B[38;5;124m\"\u001B[39m\u001B[38;5;124mLightGCN\u001B[39m\u001B[38;5;124m\"\u001B[39m], label\u001B[38;5;241m=\u001B[39m\u001B[38;5;124m\"\u001B[39m\u001B[38;5;124mLightGCN\u001B[39m\u001B[38;5;124m\"\u001B[39m)\n",
      "\u001B[1;31mKeyError\u001B[0m: 'NeuMF'"
     ]
    },
    {
     "data": {
      "text/plain": "<Figure size 640x480 with 1 Axes>",
      "image/png": "[encoded data removed]"
     },
     "metadata": {},
     "output_type": "display_data"
    }
   ],
   "source": [
    "plt.plot(all_eps, jacc_dist[\"BPR\"], label=\"BPR\")\n",
    "plt.plot(all_eps, jacc_dist[\"NeuMF\"], label=\"NeuMF\")\n",
    "plt.plot(all_eps, jacc_dist[\"MultiVAE\"], label=\"MultiVAE\")\n",
    "plt.plot(all_eps, jacc_dist[\"LightGCN\"], label=\"LightGCN\")\n",
    "#plt.plot(all_eps, jacc_dist[\"Pop\"], label=\"Pop\")\n",
    "plt.xlabel(r\"Privacy Budget $\\epsilon$\")\n",
    "plt.ylabel(\"Avg. Jaccard Distance\")\n",
    "plt.gca().invert_xaxis()\n",
    "plt.legend()"
   ],
   "metadata": {
    "collapsed": false,
    "ExecuteTime": {
     "end_time": "2023-09-28T11:13:49.982767900Z",
     "start_time": "2023-09-28T11:13:49.820731900Z"
    }
   }
  },
  {
   "cell_type": "code",
   "execution_count": 194,
   "outputs": [],
   "source": [],
   "metadata": {
    "collapsed": false,
    "ExecuteTime": {
     "end_time": "2023-09-15T18:54:17.258378800Z",
     "start_time": "2023-09-15T18:54:17.201378900Z"
    }
   }
  },
  {
   "cell_type": "code",
   "execution_count": 178,
   "outputs": [],
   "source": [],
   "metadata": {
    "collapsed": false,
    "ExecuteTime": {
     "end_time": "2023-09-15T14:53:53.733224500Z",
     "start_time": "2023-09-15T14:53:53.683206900Z"
    }
   }
  },
  {
   "cell_type": "code",
   "execution_count": 169,
   "outputs": [],
   "source": [
    "dataset_name = \"ml-1m\"\n",
    "\n",
    "test_df = pd.read_csv(\"dataset/\" + dataset_name + \"/\" + dataset_name + \".test.inter\", sep=\"\\t\")\n",
    "test_df.rename(columns={\"user_id:token\": \"user_id\", \"item_id:token\": \"item_id\"}, inplace=True)\n",
    "test_df[\"user_id\"] = test_df[\"user_id\"].astype(str)\n",
    "test_df[\"item_id\"] = test_df[\"item_id\"].astype(str)\n",
    "\n",
    "groundtruth = test_df.groupby(\"user_id\")[\"item_id\"].apply(set)\n",
    "\n",
    "df = pd.read_csv(\"dataset/\" + dataset_name + \"/\" + dataset_name + \".inter\", sep=\"\\t\")\n",
    "df.rename(columns={\"user_id:token\": \"user_id\", \"item_id:token\": \"item_id\"}, inplace=True)\n",
    "df[\"user_id\"] = df[\"user_id\"].astype(str)\n",
    "df[\"item_id\"] = df[\"item_id\"].astype(str)\n",
    "item_popularity = df.groupby(\"item_id\").size() / df[\"user_id\"].nunique()\n",
    "\n",
    "cut = int(len(item_popularity) * 0.2)\n",
    "head_items = set(item_popularity.sort_values(ascending=False).iloc[:cut].index.tolist())\n",
    "\n",
    "frac_pop_items = df.groupby(\"user_id\")[\"item_id\"].apply(set).apply(lambda items: len(items.intersection(head_items)) / len(items))\n",
    "frac_pop_items.name = \"frac\"\n",
    "\n",
    "cut = int(len(frac_pop_items) * 0.2)\n",
    "low_users = frac_pop_items.sort_values().head(cut).index.tolist()\n",
    "high_users = frac_pop_items.sort_values().tail(cut).index.tolist()"
   ],
   "metadata": {
    "collapsed": false,
    "ExecuteTime": {
     "end_time": "2023-09-29T10:33:55.345848200Z",
     "start_time": "2023-09-29T10:33:53.353548900Z"
    }
   }
  },
  {
   "cell_type": "code",
   "execution_count": 188,
   "outputs": [
    {
     "name": "stdout",
     "output_type": "stream",
     "text": [
      "eps: 10.000000 -> -7.09%/-2.02% (recall), -2.38%/0.91% (ndcg), -13.06%/-3.36% (arp), 26.78%/nan% (aft)\n"
     ]
    },
    {
     "name": "stderr",
     "output_type": "stream",
     "text": [
      "C:\\Users\\pmuellner\\AppData\\Local\\Temp\\ipykernel_21776\\1931061534.py:18: RuntimeWarning: Mean of empty slice\n",
      "  delta_aft_eps.append(100 * np.nanmean(delta_aft_eps_f))\n"
     ]
    },
    {
     "name": "stdout",
     "output_type": "stream",
     "text": [
      "eps: 5.000000 -> -6.72%/-3.57% (recall), -1.49%/-0.24% (ndcg), -8.73%/-2.17% (arp), 16.13%/nan% (aft)\n",
      "eps: 4.000000 -> -13.55%/-5.95% (recall), -7.54%/-2.74% (ndcg), 35.38%/1.29% (arp), -28.37%/nan% (aft)\n",
      "eps: 3.000000 -> -15.62%/-9.70% (recall), -12.34%/-7.75% (ndcg), 39.36%/1.97% (arp), -21.18%/nan% (aft)\n",
      "eps: 2.000000 -> -11.14%/-8.01% (recall), -5.35%/-4.56% (ndcg), 8.40%/-2.03% (arp), -34.19%/nan% (aft)\n",
      "eps: 1.000000 -> -22.17%/-12.82% (recall), -15.40%/-9.46% (ndcg), 76.29%/3.66% (arp), -75.37%/nan% (aft)\n",
      "eps: 0.500000 -> -24.87%/-17.84% (recall), -19.25%/-15.69% (ndcg), 77.79%/2.50% (arp), -83.96%/nan% (aft)\n",
      "eps: 0.100000 -> -30.58%/-21.38% (recall), -24.68%/-19.07% (ndcg), 106.65%/4.33% (arp), -80.17%/nan% (aft)\n",
      "eps: 0.050000 -> -32.24%/-20.66% (recall), -28.23%/-18.40% (ndcg), 106.52%/5.25% (arp), -88.49%/nan% (aft)\n",
      "eps: 0.010000 -> -33.02%/-19.95% (recall), -27.09%/-16.56% (ndcg), 113.09%/3.88% (arp), -77.89%/nan% (aft)\n",
      "eps: 0.005000 -> -31.58%/-20.37% (recall), -26.24%/-17.56% (ndcg), 108.74%/4.65% (arp), -89.39%/nan% (aft)\n",
      "eps: 0.001000 -> -32.60%/-19.86% (recall), -26.44%/-17.90% (ndcg), 113.06%/5.37% (arp), -86.79%/nan% (aft)\n",
      "\n"
     ]
    }
   ],
   "source": [
    "def analyze_groups(dataset_name, model_name, groundtruth, item_popularity, group1, group2):\n",
    "    def get_deltas(results_nodp, results_dp):\n",
    "        recall_nodp, ndcg_nodp, arp_nodp, aft_nodp = results_nodp\n",
    "        recall_eps, ndcg_eps, arp_eps, aft_eps = results_dp\n",
    "\n",
    "        delta_recall_eps, delta_ndcg_eps, delta_arp_eps, delta_aft_eps = [], [], [], []\n",
    "        for file_idx in range(5):\n",
    "            intersection = set(recall_nodp[file_idx].keys()).intersection(recall_eps[file_idx].keys())\n",
    "            delta_recall_eps_f, delta_ndcg_eps_f, delta_arp_eps_f, delta_aft_eps_f = [], [], [], []\n",
    "            for uid in intersection:\n",
    "                delta_recall_eps_f.append((recall_eps[file_idx][uid] - recall_nodp[file_idx][uid]) / recall_nodp[file_idx][uid] if recall_nodp[file_idx][uid] != 0 else np.nan)\n",
    "                delta_ndcg_eps_f.append((ndcg_eps[file_idx][uid] - ndcg_nodp[file_idx][uid]) / ndcg_nodp[file_idx][uid] if ndcg_nodp[file_idx][uid] != 0 else np.nan)\n",
    "                delta_arp_eps_f.append((arp_eps[file_idx][uid] - arp_nodp[file_idx][uid]) / arp_nodp[file_idx][uid] if arp_nodp[file_idx][uid] != 0 else np.nan)\n",
    "                delta_aft_eps_f.append((aft_eps[file_idx][uid] - aft_nodp[file_idx][uid]) / aft_nodp[file_idx][uid] if aft_nodp[file_idx][uid] != 0 else np.nan)\n",
    "            delta_recall_eps.append(100 * np.nanmean(delta_recall_eps_f))\n",
    "            delta_ndcg_eps.append(100 * np.nanmean(delta_ndcg_eps_f))\n",
    "            delta_arp_eps.append(100 * np.nanmean(delta_arp_eps_f))\n",
    "            delta_aft_eps.append(100 * np.nanmean(delta_aft_eps_f))\n",
    "\n",
    "        return np.mean(delta_recall_eps), np.mean(delta_ndcg_eps), np.mean(delta_arp_eps), np.mean(delta_aft_eps)\n",
    "\n",
    "    dir = \"saved/\" + dataset_name + \"/\" + model_name + \"/\"\n",
    "    results_nodp = _analyze_recommendations(dirpath=dir + \"nodp\", item_popularity=item_popularity, groundtruth=groundtruth)\n",
    "\n",
    "    delta_recall, delta_ndcg, delta_arp, delta_aft = [], [], [], []\n",
    "    for eps in [0.001, 0.005, 0.01, 0.05, 0.1, 0.5, 1, 2, 3, 4, 5, 10][::-1]:\n",
    "        users, _, _ = _get_impacted_users(dirpath_nodp=dir + \"nodp\", dirpath_dp=dir + \"e\" + str(eps))\n",
    "        group1_and_impacted, group2_and_impacted = [], []\n",
    "        for users_s in users:\n",
    "            group1_and_impacted.append(set([uid for uid in users_s]).intersection(group1))\n",
    "            group2_and_impacted.append(set([uid for uid in users_s]).intersection(group2))\n",
    "\n",
    "        results1_eps = _analyze_recommendations(dirpath=dir + \"e\" + str(eps), item_popularity=item_popularity, groundtruth=groundtruth, impacted_users=group1_and_impacted)\n",
    "        results2_eps = _analyze_recommendations(dirpath=dir + \"e\" + str(eps), item_popularity=item_popularity, groundtruth=groundtruth, impacted_users=group2_and_impacted)\n",
    "\n",
    "        delta_recall1, delta_ndcg1, delta_arp1, delta_aft1 = get_deltas(results_nodp=results_nodp, results_dp=results1_eps)\n",
    "        delta_recall2, delta_ndcg2, delta_arp2, delta_aft2 = get_deltas(results_nodp=results_nodp, results_dp=results2_eps)\n",
    "\n",
    "        print(\"eps: %f -> %.2f%%/%.2f%% (recall), %.2f%%/%.2f%% (ndcg), %.2f%%/%.2f%% (arp), %.2f%%/%.2f%% (aft)\" % (eps, delta_recall1, delta_recall2, delta_ndcg1, delta_ndcg2, delta_arp1, delta_arp2, delta_aft1, delta_aft2))\n",
    "\n",
    "    print()\n",
    "    return None\n",
    "\n",
    "analyze_groups(dataset_name=dataset_name, model_name=\"BPR\", groundtruth=groundtruth, item_popularity=item_popularity, group1=low_users, group2=high_users)"
   ],
   "metadata": {
    "collapsed": false,
    "ExecuteTime": {
     "end_time": "2023-09-29T11:08:28.161356600Z",
     "start_time": "2023-09-29T11:07:39.791613100Z"
    }
   }
  },
  {
   "cell_type": "code",
   "execution_count": null,
   "outputs": [],
   "source": [],
   "metadata": {
    "collapsed": false
   }
  },
  {
   "cell_type": "code",
   "execution_count": null,
   "outputs": [],
   "source": [
    "user_profile_pop = df.groupby(\"user_id\")[\"item_id\"].apply(list).apply(lambda iids: np.mean([item_popularity.loc[iid] for iid in iids]))"
   ],
   "metadata": {
    "collapsed": false
   }
  },
  {
   "cell_type": "code",
   "execution_count": null,
   "outputs": [],
   "source": [
    "def _compute_delta_gap(recommendation_list, item_popularity, user_profile_pop, impacted_users=None):\n",
    "    gap = []\n",
    "    for uid, recs in recommendation_list.items():\n",
    "        if impacted_users is not None:\n",
    "            if uid not in impacted_users:\n",
    "                continue\n",
    "\n",
    "        arp_u = np.mean([item_popularity.loc[item_id] for item_id in recs])\n",
    "        gap.append((arp_u - user_profile_pop.loc[int(uid)]) / user_profile_pop.loc[int(uid)])\n",
    "\n",
    "\n",
    "    return np.mean(gap)\n",
    "\n",
    "def analyze_delta_gap(dirpath, item_popularity, user_profile_popularity, impacted_users=None):\n",
    "    files = sort_files(dirpath)\n",
    "    gaps = []\n",
    "    #for file in os.listdir(dirpath):\n",
    "    for idx, file in enumerate(files):\n",
    "        with open(dirpath + \"/\" + file, \"rb\") as f:\n",
    "            recommendation_list = pl.load(f)\n",
    "        if impacted_users is not None:\n",
    "            gap = _compute_delta_gap(recommendation_list, item_popularity, user_profile_popularity, impacted_users=impacted_users[idx])\n",
    "        else:\n",
    "            gap = _compute_delta_gap(recommendation_list, item_popularity, user_profile_popularity)\n",
    "        gaps.append(gap)\n",
    "\n",
    "    return 100 * np.nanmean(gaps)"
   ],
   "metadata": {
    "collapsed": false
   }
  },
  {
   "cell_type": "code",
   "execution_count": null,
   "outputs": [],
   "source": [],
   "metadata": {
    "collapsed": false
   }
  }
 ],
 "metadata": {
  "kernelspec": {
   "display_name": "Python 3",
   "language": "python",
   "name": "python3"
  },
  "language_info": {
   "codemirror_mode": {
    "name": "ipython",
    "version": 2
   },
   "file_extension": ".py",
   "mimetype": "text/x-python",
   "name": "python",
   "nbconvert_exporter": "python",
   "pygments_lexer": "ipython2",
   "version": "2.7.6"
  }
 },
 "nbformat": 4,
 "nbformat_minor": 0
}
