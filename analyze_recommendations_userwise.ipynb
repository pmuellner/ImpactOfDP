{
 "cells": [
  {
   "cell_type": "code",
   "execution_count": 85,
   "outputs": [],
   "source": [
    "import pickle as pl\n",
    "import pandas as pd\n",
    "import numpy as np\n",
    "import matplotlib.pyplot as plt\n",
    "import os\n",
    "from matplotlib.lines import Line2D\n",
    "from collections import defaultdict\n",
    "from matplotlib.ticker import (MultipleLocator, AutoMinorLocator)\n",
    "plt.rcParams[\"text.usetex\"] =True\n",
    "\n",
    "#import matplotlib as mpl\n",
    "#mpl.rcParams.update(mpl.rcParamsDefault)"
   ],
   "metadata": {
    "collapsed": false,
    "ExecuteTime": {
     "end_time": "2023-10-24T13:39:54.029752500Z",
     "start_time": "2023-10-24T13:39:53.646328800Z"
    }
   }
  },
  {
   "cell_type": "code",
   "execution_count": 1,
   "outputs": [],
   "source": [],
   "metadata": {
    "collapsed": false,
    "ExecuteTime": {
     "end_time": "2023-10-24T07:37:57.491241700Z",
     "start_time": "2023-10-24T07:37:57.478224300Z"
    }
   }
  },
  {
   "cell_type": "code",
   "execution_count": 2,
   "outputs": [],
   "source": [
    "def jaccard_distance(x, y):\n",
    "    return 1 - len(set(x).intersection(y)) / len(set(x).union(y))\n",
    "\n",
    "def results_per_group(results, group=None):\n",
    "    if group is None:\n",
    "        return np.mean([np.mean([results_f[uid] for uid in results_f]) for idx, results_f in enumerate(results)])\n",
    "    else:\n",
    "        return np.mean([np.mean([results_f[uid] for uid in group if uid in results_f]) for idx, results_f in enumerate(results)])\n",
    "\n",
    "def recgap(x, y):\n",
    "    return np.abs(np.array(x) - np.array(y))\n",
    "\n",
    "def _gap(recommendation_list, item_popularity, user_profile_popularity):\n",
    "    arp = np.mean([item_popularity.loc[str(iid)] for iid in recommendation_list])\n",
    "    return (arp - user_profile_popularity) / user_profile_popularity\n",
    "\n",
    "def _compute_gap(dirpath, item_popularity, user_profile_popularity, impacted_users=None):\n",
    "    files = sort_files(dirpath)\n",
    "    gaps = []\n",
    "    for idx, file in enumerate(files):\n",
    "        with open(dirpath + \"/\" + file, \"rb\") as f:\n",
    "            recommendation_list = pl.load(f)\n",
    "        if impacted_users is not None:\n",
    "            gap = dict()\n",
    "            for uid, recs in recommendation_list.items():\n",
    "                if uid not in impacted_users[idx]:\n",
    "                    continue\n",
    "                gap[uid] = _gap(recommendation_list=recs, item_popularity=item_popularity, user_profile_popularity=user_profile_popularity[uid])\n",
    "            gaps.append(gap)\n",
    "        else:\n",
    "            gap = dict()\n",
    "            for uid, recs in recommendation_list.items():\n",
    "                gap[uid] = _gap(recommendation_list=recs, item_popularity=item_popularity, user_profile_popularity=user_profile_popularity[uid])\n",
    "            gaps.append(gap)\n",
    "\n",
    "    return gaps\n",
    "\n",
    "def sort_files(path):\n",
    "    base, dataset_name, model_name, eps = path.split(sep=\"/\")\n",
    "    files = []\n",
    "    for file in os.listdir(path):\n",
    "        if file.endswith(\".pkl\"):\n",
    "            files.append(file)\n",
    "\n",
    "    LEN_PREFIX = len(model_name)+1\n",
    "    LEN_SUFFIX = len(\".pkl\")\n",
    "    timestamps = [filename[LEN_PREFIX:-LEN_SUFFIX] for filename in files]\n",
    "    sorted_timestamps = sorted(timestamps)\n",
    "    sorted_files = [model_name + \"-\" + timestamp + \".pkl\" for timestamp in sorted_timestamps]\n",
    "\n",
    "    return sorted_files\n",
    "\n",
    "def _compute_metrics(recommendation_list, item_popularity, groundtruth, impacted_users=None):\n",
    "    cut = int(len(item_popularity) * 0.8)\n",
    "    tail_items = set(item_popularity.sort_values(ascending=True).iloc[:cut].index.tolist())\n",
    "\n",
    "    recall, ndcg, arp, aft = dict(), dict(), dict(), dict()\n",
    "    for uid, recs in recommendation_list.items():\n",
    "        if impacted_users is not None:\n",
    "            if uid not in impacted_users:\n",
    "                continue\n",
    "\n",
    "        recall[uid] = len(groundtruth.loc[uid].intersection([str(iid) for iid in recs])) / len(groundtruth.loc[uid])\n",
    "\n",
    "        dcg = 0.0\n",
    "        idcg = 0.0\n",
    "        for pos in range(1, len(recs)+1):\n",
    "            item_at_i = str(recs[pos-1])\n",
    "            rel_i = item_at_i in groundtruth.loc[uid]\n",
    "            dcg += rel_i / np.log2(pos + 1)\n",
    "            idcg += 1 / np.log2(pos + 1)\n",
    "        ndcg[uid] = dcg / idcg\n",
    "        arp[uid] = np.mean([item_popularity.loc[str(item_id)] for item_id in recs])\n",
    "        aft[uid] = len(tail_items.intersection([str(iid) for iid in recs])) / len(recs)\n",
    "\n",
    "\n",
    "    return recall, ndcg, arp, aft\n",
    "\n",
    "\n",
    "def _analyze_recommendations(dirpath, item_popularity, groundtruth, impacted_users=None):\n",
    "    files = sort_files(dirpath)\n",
    "    recalls, ndcgs, arps, afts = [], [], [], []\n",
    "    for idx, file in enumerate(files):\n",
    "        with open(dirpath + \"/\" + file, \"rb\") as f:\n",
    "            recommendation_list = pl.load(f)\n",
    "        if impacted_users is not None:\n",
    "            recall, ndcg, arp, aft = _compute_metrics(recommendation_list, item_popularity, groundtruth, impacted_users=impacted_users[idx])\n",
    "        else:\n",
    "            recall, ndcg, arp, aft = _compute_metrics(recommendation_list, item_popularity, groundtruth)\n",
    "\n",
    "        recalls.append(recall)\n",
    "        ndcgs.append(ndcg)\n",
    "        arps.append(arp)\n",
    "        afts.append(aft)\n",
    "\n",
    "    return recalls, ndcgs, arps, afts\n",
    "\n",
    "def _get_impacted_users(dirpath_nodp, dirpath_dp):\n",
    "    files_nodp = sort_files(dirpath_nodp)\n",
    "    files_dp = sort_files(dirpath_dp)\n",
    "\n",
    "    impacted_users, frac_impacted_users, avg_dist = [], [], []\n",
    "    for file_nodp, file_dp in zip(files_nodp, files_dp):\n",
    "        with open(dirpath_nodp + \"/\" + file_nodp, \"rb\") as f:\n",
    "            recommendation_list_nodp = pl.load(f)\n",
    "\n",
    "        with open(dirpath_dp + \"/\" + file_dp, \"rb\") as f:\n",
    "            recommendation_list_dp = pl.load(f)\n",
    "\n",
    "        impacted_users_f, dist_f = [], []\n",
    "        for uid, recs_dp in recommendation_list_dp.items():\n",
    "            recs_nodp = recommendation_list_nodp[uid]\n",
    "\n",
    "            dist = jaccard_distance(recs_nodp, recs_dp)\n",
    "            if dist > 0:\n",
    "                impacted_users_f.append(uid)\n",
    "                dist_f.append(dist)\n",
    "\n",
    "        frac_impacted_users.append(len(impacted_users_f) / len(recommendation_list_dp))\n",
    "        impacted_users.append(impacted_users_f)\n",
    "        dist_f = dist_f if len(dist_f) > 0 else 0\n",
    "        avg_dist.append(np.mean(np.nanmean(dist_f)))\n",
    "    return impacted_users, np.mean(frac_impacted_users), np.mean(avg_dist)\n",
    "\n",
    "\n"
   ],
   "metadata": {
    "collapsed": false,
    "ExecuteTime": {
     "end_time": "2023-10-24T07:37:57.546357700Z",
     "start_time": "2023-10-24T07:37:57.512309600Z"
    }
   }
  },
  {
   "cell_type": "code",
   "execution_count": 13,
   "outputs": [],
   "source": [
    "def analyze(dataset_name, model_name, groundtruth, item_popularity):\n",
    "    dir = \"saved/\" + dataset_name + \"/\" + model_name + \"/\"\n",
    "    results_nodp = _analyze_recommendations(dirpath=dir + \"nodp\", item_popularity=item_popularity, groundtruth=groundtruth)\n",
    "    recall_nodp, ndcg_nodp, arp_nodp, aft_nodp = results_nodp\n",
    "\n",
    "    print(\"No DP: %.4f (recall), %.4f (ndcg), %.4f (arp), %.4f (aft)\" % (results_per_group(recall_nodp), results_per_group(ndcg_nodp), results_per_group(arp_nodp), results_per_group(aft_nodp)))\n",
    "\n",
    "\n",
    "    delta_recall, delta_ndcg, delta_arp, delta_aft = [], [], [], []\n",
    "    percentage_impacted_users, average_jaccard_distance = [], []\n",
    "    for eps in [0.01, 0.1, 1, 2, 3, 4, 5][::-1]:\n",
    "    #for eps in [0.001, 0.005, 0.01, 0.05, 0.1, 0.5, 1][::-1]:\n",
    "        users, frac_impacted, jacc = _get_impacted_users(dirpath_nodp=dir + \"nodp\", dirpath_dp=dir + \"e\" + str(eps))\n",
    "\n",
    "        results_eps = _analyze_recommendations(dirpath=dir + \"e\" + str(eps), item_popularity=item_popularity, groundtruth=groundtruth, impacted_users=users)\n",
    "        recall_eps, ndcg_eps, arp_eps, aft_eps = results_eps\n",
    "\n",
    "        delta_recall_eps, delta_ndcg_eps, delta_arp_eps, delta_aft_eps = [], [], [], []\n",
    "        for file_idx in range(len(users)):\n",
    "            intersection = set(recall_nodp[file_idx].keys()).intersection(recall_eps[file_idx].keys())\n",
    "            delta_recall_eps_f, delta_ndcg_eps_f, delta_arp_eps_f, delta_aft_eps_f = [], [], [], []\n",
    "            \"\"\"for uid in intersection:\n",
    "                delta_recall_eps_f.append((recall_eps[file_idx][uid]))\n",
    "                delta_ndcg_eps_f.append((ndcg_eps[file_idx][uid]))\n",
    "                delta_arp_eps_f.append((arp_eps[file_idx][uid]))\n",
    "                delta_aft_eps_f.append((aft_eps[file_idx][uid]))\n",
    "            delta_recall_eps.append(np.nanmean(delta_recall_eps_f))\n",
    "            delta_ndcg_eps.append(np.nanmean(delta_ndcg_eps_f))\n",
    "            delta_arp_eps.append(np.nanmean(delta_arp_eps_f))\n",
    "            delta_aft_eps.append(np.nanmean(delta_aft_eps_f))\"\"\"\n",
    "            for uid in intersection:\n",
    "                delta_recall_eps_f.append((recall_eps[file_idx][uid] - recall_nodp[file_idx][uid]) / recall_nodp[file_idx][uid] if recall_nodp[file_idx][uid] != 0 else np.nan)\n",
    "                delta_ndcg_eps_f.append((ndcg_eps[file_idx][uid] - ndcg_nodp[file_idx][uid]) / ndcg_nodp[file_idx][uid] if ndcg_nodp[file_idx][uid] != 0 else np.nan)\n",
    "                delta_arp_eps_f.append((arp_eps[file_idx][uid] - arp_nodp[file_idx][uid]) / arp_nodp[file_idx][uid] if arp_nodp[file_idx][uid] != 0 else np.nan)\n",
    "                delta_aft_eps_f.append((aft_eps[file_idx][uid] - aft_nodp[file_idx][uid]) / aft_nodp[file_idx][uid] if aft_nodp[file_idx][uid] != 0 else np.nan)\n",
    "            delta_recall_eps.append(100 * np.nanmean(delta_recall_eps_f))\n",
    "            delta_ndcg_eps.append(100 * np.nanmean(delta_ndcg_eps_f))\n",
    "            delta_arp_eps.append(100 * np.nanmean(delta_arp_eps_f))\n",
    "            delta_aft_eps.append(100 * np.nanmean(delta_aft_eps_f))\n",
    "\n",
    "        delta_recall.append(np.mean(delta_recall_eps))\n",
    "        delta_ndcg.append(np.mean(delta_ndcg_eps))\n",
    "        delta_arp.append(np.mean(delta_arp_eps))\n",
    "        delta_aft.append(np.mean(delta_aft_eps))\n",
    "\n",
    "        percentage_impacted_users.append(100 * frac_impacted)\n",
    "        average_jaccard_distance.append(jacc)\n",
    "\n",
    "        print(\"eps: %f -> %f%% (recall), %f%% (ndcg), %f%% (arp), %f%% (aft), %f (No. Users), %f (Jacc)\" % (\n",
    "            eps, delta_recall[-1], delta_ndcg[-1], delta_arp[-1], delta_aft[-1], percentage_impacted_users[-1], average_jaccard_distance[-1]))\n",
    "    print()\n",
    "    return delta_recall, delta_ndcg, delta_arp, delta_aft, percentage_impacted_users, average_jaccard_distance"
   ],
   "metadata": {
    "collapsed": false,
    "ExecuteTime": {
     "end_time": "2023-10-24T08:51:52.675795200Z",
     "start_time": "2023-10-24T08:51:52.661086Z"
    }
   }
  },
  {
   "cell_type": "code",
   "execution_count": 14,
   "outputs": [],
   "source": [
    "dataset_name = \"ml-1m\"\n",
    "\n",
    "test_df = pd.read_csv(\"dataset/\" + dataset_name + \"/\" + dataset_name + \".test.inter\", sep=\"\\t\")\n",
    "test_df.rename(columns={\"user_id:token\": \"user_id\", \"item_id:token\": \"item_id\"}, inplace=True)\n",
    "test_df[\"user_id\"] = test_df[\"user_id\"].astype(str)\n",
    "test_df[\"item_id\"] = test_df[\"item_id\"].astype(str)\n",
    "\n",
    "groundtruth = test_df.groupby(\"user_id\")[\"item_id\"].apply(set)\n",
    "\n",
    "df = pd.read_csv(\"dataset/\" + dataset_name + \"/\" + dataset_name + \".inter\", sep=\"\\t\")\n",
    "df.rename(columns={\"user_id:token\": \"user_id\", \"item_id:token\": \"item_id\"}, inplace=True)\n",
    "df[\"user_id\"] = df[\"user_id\"].astype(str)\n",
    "df[\"item_id\"] = df[\"item_id\"].astype(str)\n",
    "item_popularity = df.groupby(\"item_id\").size() / df[\"user_id\"].nunique()"
   ],
   "metadata": {
    "collapsed": false,
    "ExecuteTime": {
     "end_time": "2023-10-24T08:51:54.777830700Z",
     "start_time": "2023-10-24T08:51:53.796422900Z"
    }
   }
  },
  {
   "cell_type": "code",
   "execution_count": 15,
   "outputs": [
    {
     "name": "stdout",
     "output_type": "stream",
     "text": [
      "No DP: 0.1697 (recall), 0.2641 (ndcg), 0.2172 (arp), 0.0025 (aft)\n",
      "eps: 5.000000 -> 1.481142% (recall), 3.229627% (ndcg), 1.567845% (arp), -44.238729% (aft), 99.410108 (No. Users), 0.511811 (Jacc)\n",
      "eps: 4.000000 -> 1.391720% (recall), 3.284976% (ndcg), 1.783187% (arp), -50.650891% (aft), 99.241094 (No. Users), 0.512890 (Jacc)\n",
      "eps: 3.000000 -> -1.549163% (recall), -0.150509% (ndcg), 2.569472% (arp), -51.911690% (aft), 99.579122 (No. Users), 0.540777 (Jacc)\n",
      "eps: 2.000000 -> -8.099214% (recall), -7.544594% (ndcg), 5.479865% (arp), -68.090756% (aft), 99.847556 (No. Users), 0.597360 (Jacc)\n",
      "eps: 1.000000 -> -20.842819% (recall), -20.663668% (ndcg), 11.439280% (arp), -84.602010% (aft), 99.993372 (No. Users), 0.700592 (Jacc)\n",
      "eps: 0.100000 -> -37.687966% (recall), -37.302279% (ndcg), 19.753692% (arp), -94.514673% (aft), 100.000000 (No. Users), 0.818337 (Jacc)\n",
      "eps: 0.010000 -> -39.736690% (recall), -39.127183% (ndcg), 21.891295% (arp), -86.755757% (aft), 100.000000 (No. Users), 0.826120 (Jacc)\n",
      "\n",
      "No DP: 0.1669 (recall), 0.2631 (ndcg), 0.1958 (arp), 0.0548 (aft)\n",
      "eps: 5.000000 -> 0.142982% (recall), 1.000468% (ndcg), 4.226288% (arp), -24.172285% (aft), 97.398509 (No. Users), 0.420652 (Jacc)\n",
      "eps: 4.000000 -> -1.840263% (recall), -1.154178% (ndcg), 5.355222% (arp), -29.693854% (aft), 97.991715 (No. Users), 0.448237 (Jacc)\n",
      "eps: 3.000000 -> -5.006397% (recall), -4.297483% (ndcg), 10.198258% (arp), -42.427759% (aft), 99.413422 (No. Users), 0.530710 (Jacc)\n",
      "eps: 2.000000 -> -12.204107% (recall), -11.152252% (ndcg), 18.980363% (arp), -62.153509% (aft), 99.864126 (No. Users), 0.625243 (Jacc)\n",
      "eps: 1.000000 -> -23.722650% (recall), -22.414852% (ndcg), 40.343077% (arp), -84.774131% (aft), 99.993372 (No. Users), 0.735191 (Jacc)\n",
      "eps: 0.100000 -> -37.385006% (recall), -36.113162% (ndcg), 69.198952% (arp), -90.622103% (aft), 99.993372 (No. Users), 0.829706 (Jacc)\n",
      "eps: 0.010000 -> -40.019069% (recall), -39.045594% (ndcg), 75.916291% (arp), -92.015828% (aft), 100.000000 (No. Users), 0.838465 (Jacc)\n",
      "\n",
      "No DP: 0.1694 (recall), 0.2496 (ndcg), 0.1990 (arp), 0.0670 (aft)\n",
      "eps: 5.000000 -> 3.608053% (recall), 7.728809% (ndcg), 5.112628% (arp), -18.735317% (aft), 99.711682 (No. Users), 0.590343 (Jacc)\n",
      "eps: 4.000000 -> 3.985381% (recall), 8.388078% (ndcg), 9.541176% (arp), -29.126139% (aft), 99.777962 (No. Users), 0.604465 (Jacc)\n",
      "eps: 3.000000 -> -0.148964% (recall), 3.392834% (ndcg), 6.972625% (arp), -24.398408% (aft), 99.867440 (No. Users), 0.634735 (Jacc)\n",
      "eps: 2.000000 -> -7.265182% (recall), -3.559550% (ndcg), 12.590001% (arp), -29.725454% (aft), 99.930406 (No. Users), 0.682751 (Jacc)\n",
      "eps: 1.000000 -> -21.048307% (recall), -18.125365% (ndcg), 20.004262% (arp), -45.448258% (aft), 99.996686 (No. Users), 0.759196 (Jacc)\n",
      "eps: 0.100000 -> -39.658005% (recall), -37.518083% (ndcg), 26.132820% (arp), -30.410881% (aft), 100.000000 (No. Users), 0.844736 (Jacc)\n",
      "eps: 0.010000 -> -43.277354% (recall), -41.199000% (ndcg), 23.008615% (arp), -20.037798% (aft), 100.000000 (No. Users), 0.856835 (Jacc)\n",
      "\n"
     ]
    }
   ],
   "source": [
    "delta_recall, delta_ndcg, delta_arp, delta_aft = dict(), dict(), dict(), dict()\n",
    "no_users, jacc_dist = dict(), dict()\n",
    "\n",
    "\"\"\"recall, ndcg, arp, aft, impacted_users, jacc = analyze(dataset_name=dataset_name, model_name=\"BPR\", groundtruth=groundtruth, item_popularity=item_popularity)\n",
    "delta_recall[\"BPR\"] = recall\n",
    "delta_ndcg[\"BPR\"] = ndcg\n",
    "delta_arp[\"BPR\"] = arp\n",
    "delta_aft[\"BPR\"] = aft\n",
    "no_users[\"BPR\"] = impacted_users\n",
    "jacc_dist[\"BPR\"] = jacc\"\"\"\n",
    "\n",
    "recall, ndcg, arp, aft, impacted_users, jacc = analyze(dataset_name=dataset_name, model_name=\"ENMF\", groundtruth=groundtruth, item_popularity=item_popularity)\n",
    "delta_recall[\"ENMF\"] = recall\n",
    "delta_ndcg[\"ENMF\"] = ndcg\n",
    "delta_arp[\"ENMF\"] = arp\n",
    "delta_aft[\"ENMF\"] = aft\n",
    "no_users[\"ENMF\"] = impacted_users\n",
    "jacc_dist[\"ENMF\"] = jacc\n",
    "\n",
    "recall, ndcg, arp, aft, impacted_users, jacc = analyze(dataset_name=dataset_name, model_name=\"LightGCN\", groundtruth=groundtruth, item_popularity=item_popularity)\n",
    "delta_recall[\"LightGCN\"] = recall\n",
    "delta_ndcg[\"LightGCN\"] = ndcg\n",
    "delta_arp[\"LightGCN\"] = arp\n",
    "delta_aft[\"LightGCN\"] = aft\n",
    "no_users[\"LightGCN\"] = impacted_users\n",
    "jacc_dist[\"LightGCN\"] = jacc\n",
    "\n",
    "recall, ndcg, arp, aft, impacted_users, jacc = analyze(dataset_name=dataset_name, model_name=\"MultiVAE\", groundtruth=groundtruth, item_popularity=item_popularity)\n",
    "delta_recall[\"MultiVAE\"] = recall\n",
    "delta_ndcg[\"MultiVAE\"] = ndcg\n",
    "delta_arp[\"MultiVAE\"] = arp\n",
    "delta_aft[\"MultiVAE\"] = aft\n",
    "no_users[\"MultiVAE\"] = impacted_users\n",
    "jacc_dist[\"MultiVAE\"] = jacc"
   ],
   "metadata": {
    "collapsed": false,
    "ExecuteTime": {
     "end_time": "2023-10-24T08:56:17.910587200Z",
     "start_time": "2023-10-24T08:51:54.786840200Z"
    }
   }
  },
  {
   "cell_type": "code",
   "execution_count": 18,
   "outputs": [],
   "source": [
    "%matplotlib inline\n",
    "all_eps = [0.01, 0.1, 1, 2, 3, 4, 5][::-1]\n",
    "#all_eps = [0.001, 0.005, 0.01, 0.05, 0.1, 0.5, 1][::-1]"
   ],
   "metadata": {
    "collapsed": false,
    "ExecuteTime": {
     "end_time": "2023-10-24T09:03:55.296329700Z",
     "start_time": "2023-10-24T09:03:55.259918100Z"
    }
   }
  },
  {
   "cell_type": "code",
   "execution_count": 24,
   "outputs": [
    {
     "data": {
      "text/plain": "<matplotlib.legend.Legend at 0x270c9a598e0>"
     },
     "execution_count": 24,
     "metadata": {},
     "output_type": "execute_result"
    },
    {
     "data": {
      "text/plain": "<Figure size 640x480 with 1 Axes>",
      "image/png": "[encoded data removed]"
     },
     "metadata": {},
     "output_type": "display_data"
    }
   ],
   "source": [
    "#plt.plot(all_eps, delta_recall[\"BPR\"], label=\"BPR\")\n",
    "plt.plot(all_eps, delta_recall[\"ENMF\"], label=\"ENMF\")\n",
    "#plt.plot(all_eps, delta_recall[\"LightGCN\"], label=\"LightGCN\")\n",
    "#plt.plot(all_eps, delta_recall[\"MultiVAE\"], label=\"MultiVAE\")\n",
    "#plt.plot(all_eps, delta_recall[\"Pop\"], label=\"Pop\")\n",
    "plt.xlabel(r\"Privacy Budget $\\epsilon$\")\n",
    "plt.ylabel(r\"$\\Delta Recall$ in %\")\n",
    "plt.axhline(y=0, linestyle=\"dashed\", c=\"gray\")\n",
    "\n",
    "from matplotlib.ticker import (MultipleLocator, AutoMinorLocator)\n",
    "plt.gca().yaxis.set_minor_locator(AutoMinorLocator())\n",
    "plt.gca().invert_xaxis()\n",
    "plt.legend()"
   ],
   "metadata": {
    "collapsed": false,
    "ExecuteTime": {
     "end_time": "2023-10-24T09:05:02.718490600Z",
     "start_time": "2023-10-24T09:05:02.481226900Z"
    }
   }
  },
  {
   "cell_type": "code",
   "execution_count": 88,
   "outputs": [
    {
     "data": {
      "text/plain": "<matplotlib.legend.Legend at 0x2b303514e80>"
     },
     "execution_count": 88,
     "metadata": {},
     "output_type": "execute_result"
    },
    {
     "data": {
      "text/plain": "<Figure size 640x480 with 1 Axes>",
      "image/png": "[encoded data removed]"
     },
     "metadata": {},
     "output_type": "display_data"
    }
   ],
   "source": [
    "#plt.plot(all_eps, delta_ndcg[\"BPR\"], label=\"BPR\")\n",
    "plt.plot(all_eps, delta_ndcg[\"ENMF\"], label=\"ENMF\")\n",
    "#plt.plot(all_eps, delta_ndcg[\"LightGCN\"], label=\"LightGCN\")\n",
    "#plt.plot(all_eps, delta_ndcg[\"MultiVAE\"], label=\"MultiVAE\")\n",
    "#plt.plot(all_eps, delta_ndcg[\"Pop\"], label=\"Pop\")\n",
    "plt.xlabel(r\"Privacy Budget $\\epsilon$\")\n",
    "plt.ylabel(r\"$\\Delta nDCG$ in %\")\n",
    "plt.axhline(y=0, linestyle=\"dashed\", c=\"gray\")\n",
    "plt.gca().invert_xaxis()\n",
    "plt.legend()"
   ],
   "metadata": {
    "collapsed": false,
    "ExecuteTime": {
     "end_time": "2023-10-19T08:25:15.099403600Z",
     "start_time": "2023-10-19T08:25:14.893463Z"
    }
   }
  },
  {
   "cell_type": "code",
   "execution_count": 89,
   "outputs": [
    {
     "data": {
      "text/plain": "<matplotlib.legend.Legend at 0x2b30a40fc40>"
     },
     "execution_count": 89,
     "metadata": {},
     "output_type": "execute_result"
    },
    {
     "data": {
      "text/plain": "<Figure size 640x480 with 1 Axes>",
      "image/png": "[encoded data removed]"
     },
     "metadata": {},
     "output_type": "display_data"
    }
   ],
   "source": [
    "#plt.plot(all_eps, delta_arp[\"BPR\"], label=\"BPR\")\n",
    "plt.plot(all_eps, delta_arp[\"ENMF\"], label=\"ENMF\")\n",
    "#plt.plot(all_eps, delta_arp[\"LightGCN\"], label=\"LightGCN\")\n",
    "#plt.plot(all_eps, delta_arp[\"MultiVAE\"], label=\"MultiVAE\")\n",
    "#plt.plot(all_eps, delta_arp[\"Pop\"], label=\"Pop\")\n",
    "plt.xlabel(r\"Privacy Budget $\\epsilon$\")\n",
    "plt.ylabel(r\"$\\Delta$ ARP in %\")\n",
    "plt.axhline(y=0, linestyle=\"dashed\", c=\"gray\")\n",
    "plt.gca().invert_xaxis()\n",
    "plt.legend()"
   ],
   "metadata": {
    "collapsed": false,
    "ExecuteTime": {
     "end_time": "2023-10-19T08:25:29.185072600Z",
     "start_time": "2023-10-19T08:25:27.371100900Z"
    }
   }
  },
  {
   "cell_type": "code",
   "execution_count": 80,
   "outputs": [
    {
     "data": {
      "text/plain": "<matplotlib.legend.Legend at 0x2b314c0f370>"
     },
     "execution_count": 80,
     "metadata": {},
     "output_type": "execute_result"
    },
    {
     "data": {
      "text/plain": "<Figure size 640x480 with 1 Axes>",
      "image/png": "[encoded data removed]"
     },
     "metadata": {},
     "output_type": "display_data"
    }
   ],
   "source": [
    "#plt.plot(all_eps, delta_aft[\"BPR\"], label=\"BPR\")\n",
    "plt.plot(all_eps, delta_aft[\"ENMF\"], label=\"ENMF\")\n",
    "plt.plot(all_eps, delta_aft[\"LightGCN\"], label=\"LightGCN\")\n",
    "plt.plot(all_eps, delta_aft[\"MultiVAE\"], label=\"MultiVAE\")\n",
    "#plt.plot(all_eps, delta_aft[\"Pop\"], label=\"Pop\")\n",
    "plt.xlabel(r\"Privacy Budget $\\epsilon$\")\n",
    "plt.ylabel(r\"$\\Delta$ AFT in %\")\n",
    "plt.axhline(y=0, linestyle=\"dashed\", c=\"gray\")\n",
    "plt.gca().invert_xaxis()\n",
    "plt.legend()"
   ],
   "metadata": {
    "collapsed": false,
    "ExecuteTime": {
     "end_time": "2023-10-19T08:10:24.350848200Z",
     "start_time": "2023-10-19T08:10:24.042189300Z"
    }
   }
  },
  {
   "cell_type": "code",
   "execution_count": 81,
   "outputs": [
    {
     "data": {
      "text/plain": "<matplotlib.legend.Legend at 0x2b31a3fc730>"
     },
     "execution_count": 81,
     "metadata": {},
     "output_type": "execute_result"
    },
    {
     "data": {
      "text/plain": "<Figure size 640x480 with 1 Axes>",
      "image/png": "[encoded data removed]"
     },
     "metadata": {},
     "output_type": "display_data"
    }
   ],
   "source": [
    "#plt.plot(all_eps, no_users[\"BPR\"], label=\"BPR\")\n",
    "plt.plot(all_eps, no_users[\"ENMF\"], label=\"ENMF\")\n",
    "plt.plot(all_eps, no_users[\"LightGCN\"], label=\"LightGCN\")\n",
    "plt.plot(all_eps, no_users[\"MultiVAE\"], label=\"MultiVAE\")\n",
    "#plt.plot(all_eps, no_users[\"Pop\"], label=\"Pop\")\n",
    "plt.xlabel(r\"Privacy Budget $\\epsilon$\")\n",
    "plt.ylabel(\"No. Users in %\")\n",
    "plt.gca().invert_xaxis()\n",
    "plt.legend()"
   ],
   "metadata": {
    "collapsed": false,
    "ExecuteTime": {
     "end_time": "2023-10-19T08:10:26.796847Z",
     "start_time": "2023-10-19T08:10:26.436743500Z"
    }
   }
  },
  {
   "cell_type": "code",
   "execution_count": 82,
   "outputs": [
    {
     "data": {
      "text/plain": "<matplotlib.legend.Legend at 0x2b3019b0640>"
     },
     "execution_count": 82,
     "metadata": {},
     "output_type": "execute_result"
    },
    {
     "data": {
      "text/plain": "<Figure size 640x480 with 1 Axes>",
      "image/png": "[encoded data removed]"
     },
     "metadata": {},
     "output_type": "display_data"
    }
   ],
   "source": [
    "#plt.plot(all_eps, jacc_dist[\"BPR\"], label=\"BPR\")\n",
    "plt.plot(all_eps, jacc_dist[\"ENMF\"], label=\"ENMF\")\n",
    "plt.plot(all_eps, jacc_dist[\"LightGCN\"], label=\"LightGCN\")\n",
    "plt.plot(all_eps, jacc_dist[\"MultiVAE\"], label=\"MultiVAE\")\n",
    "#plt.plot(all_eps, jacc_dist[\"Pop\"], label=\"Pop\")\n",
    "plt.xlabel(r\"Privacy Budget $\\epsilon$\")\n",
    "plt.ylabel(\"Avg. Jaccard Distance\")\n",
    "plt.gca().invert_xaxis()\n",
    "plt.legend()"
   ],
   "metadata": {
    "collapsed": false,
    "ExecuteTime": {
     "end_time": "2023-10-19T08:10:29.916935900Z",
     "start_time": "2023-10-19T08:10:29.657686Z"
    }
   }
  },
  {
   "cell_type": "code",
   "execution_count": 32,
   "outputs": [],
   "source": [],
   "metadata": {
    "collapsed": false,
    "ExecuteTime": {
     "end_time": "2023-10-18T09:12:44.304755Z",
     "start_time": "2023-10-18T09:12:44.257133200Z"
    }
   }
  },
  {
   "cell_type": "code",
   "execution_count": 26,
   "outputs": [
    {
     "name": "stdout",
     "output_type": "stream",
     "text": [
      "No DP: 0.1697 (recall), 0.2641 (ndcg), 0.2172 (arp), 0.0025 (aft)\n",
      "eps: 5.000000 -> 1.481142% (recall), 3.229627% (ndcg), 1.567845% (arp), -44.238729% (aft), 99.410108 (No. Users), 0.511811 (Jacc)\n",
      "eps: 4.000000 -> 1.391720% (recall), 3.284976% (ndcg), 1.783187% (arp), -50.650891% (aft), 99.241094 (No. Users), 0.512890 (Jacc)\n",
      "eps: 3.000000 -> -1.549163% (recall), -0.150509% (ndcg), 2.569472% (arp), -51.911690% (aft), 99.579122 (No. Users), 0.540777 (Jacc)\n",
      "eps: 2.000000 -> -8.099214% (recall), -7.544594% (ndcg), 5.479865% (arp), -68.090756% (aft), 99.847556 (No. Users), 0.597360 (Jacc)\n",
      "eps: 1.000000 -> -20.842819% (recall), -20.663668% (ndcg), 11.439280% (arp), -84.602010% (aft), 99.993372 (No. Users), 0.700592 (Jacc)\n",
      "eps: 0.100000 -> -37.687966% (recall), -37.302279% (ndcg), 19.753692% (arp), -94.514673% (aft), 100.000000 (No. Users), 0.818337 (Jacc)\n",
      "eps: 0.010000 -> -39.736690% (recall), -39.127183% (ndcg), 21.891295% (arp), -86.755757% (aft), 100.000000 (No. Users), 0.826120 (Jacc)\n",
      "\n",
      "No DP: 0.1669 (recall), 0.2631 (ndcg), 0.1958 (arp), 0.0548 (aft)\n",
      "eps: 5.000000 -> 0.142982% (recall), 1.000468% (ndcg), 4.226288% (arp), -24.172285% (aft), 97.398509 (No. Users), 0.420652 (Jacc)\n",
      "eps: 4.000000 -> -1.840263% (recall), -1.154178% (ndcg), 5.355222% (arp), -29.693854% (aft), 97.991715 (No. Users), 0.448237 (Jacc)\n",
      "eps: 3.000000 -> -5.006397% (recall), -4.297483% (ndcg), 10.198258% (arp), -42.427759% (aft), 99.413422 (No. Users), 0.530710 (Jacc)\n",
      "eps: 2.000000 -> -12.204107% (recall), -11.152252% (ndcg), 18.980363% (arp), -62.153509% (aft), 99.864126 (No. Users), 0.625243 (Jacc)\n",
      "eps: 1.000000 -> -23.722650% (recall), -22.414852% (ndcg), 40.343077% (arp), -84.774131% (aft), 99.993372 (No. Users), 0.735191 (Jacc)\n",
      "eps: 0.100000 -> -37.385006% (recall), -36.113162% (ndcg), 69.198952% (arp), -90.622103% (aft), 99.993372 (No. Users), 0.829706 (Jacc)\n",
      "eps: 0.010000 -> -40.019069% (recall), -39.045594% (ndcg), 75.916291% (arp), -92.015828% (aft), 100.000000 (No. Users), 0.838465 (Jacc)\n",
      "\n",
      "No DP: 0.1694 (recall), 0.2496 (ndcg), 0.1990 (arp), 0.0670 (aft)\n",
      "eps: 5.000000 -> 3.608053% (recall), 7.728809% (ndcg), 5.112628% (arp), -18.735317% (aft), 99.711682 (No. Users), 0.590343 (Jacc)\n",
      "eps: 4.000000 -> 3.985381% (recall), 8.388078% (ndcg), 9.541176% (arp), -29.126139% (aft), 99.777962 (No. Users), 0.604465 (Jacc)\n",
      "eps: 3.000000 -> -0.148964% (recall), 3.392834% (ndcg), 6.972625% (arp), -24.398408% (aft), 99.867440 (No. Users), 0.634735 (Jacc)\n",
      "eps: 2.000000 -> -7.265182% (recall), -3.559550% (ndcg), 12.590001% (arp), -29.725454% (aft), 99.930406 (No. Users), 0.682751 (Jacc)\n",
      "eps: 1.000000 -> -21.048307% (recall), -18.125365% (ndcg), 20.004262% (arp), -45.448258% (aft), 99.996686 (No. Users), 0.759196 (Jacc)\n",
      "eps: 0.100000 -> -39.658005% (recall), -37.518083% (ndcg), 26.132820% (arp), -30.410881% (aft), 100.000000 (No. Users), 0.844736 (Jacc)\n",
      "eps: 0.010000 -> -43.277354% (recall), -41.199000% (ndcg), 23.008615% (arp), -20.037798% (aft), 100.000000 (No. Users), 0.856835 (Jacc)\n",
      "\n",
      "No DP: 0.0971 (recall), 0.2021 (ndcg), 0.0836 (arp), 0.0011 (aft)\n",
      "eps: 5.000000 -> -0.267241% (recall), 0.702653% (ndcg), 3.514481% (arp), -11.725146% (aft), 98.058058 (No. Users), 0.498834 (Jacc)\n",
      "eps: 4.000000 -> -1.633159% (recall), -0.492103% (ndcg), 3.992856% (arp), -8.425731% (aft), 98.278278 (No. Users), 0.500912 (Jacc)\n",
      "eps: 3.000000 -> -4.516945% (recall), -4.145616% (ndcg), 5.811748% (arp), -14.990643% (aft), 98.798799 (No. Users), 0.521131 (Jacc)\n",
      "eps: 2.000000 -> -12.471946% (recall), -12.940030% (ndcg), 11.548521% (arp), -44.732999% (aft), 99.639640 (No. Users), 0.575685 (Jacc)\n",
      "eps: 1.000000 -> -27.906841% (recall), -29.230124% (ndcg), 27.188074% (arp), -82.021721% (aft), 99.953287 (No. Users), 0.685809 (Jacc)\n",
      "eps: 0.100000 -> -48.001487% (recall), -48.757771% (ndcg), 47.003554% (arp), -98.000000% (aft), 100.000000 (No. Users), 0.805761 (Jacc)\n",
      "eps: 0.010000 -> -48.989567% (recall), -49.705259% (ndcg), 51.340368% (arp), -88.338012% (aft), 99.993327 (No. Users), 0.817018 (Jacc)\n",
      "\n",
      "No DP: 0.0925 (recall), 0.1938 (ndcg), 0.0800 (arp), 0.0313 (aft)\n",
      "eps: 5.000000 -> -0.138462% (recall), 1.229924% (ndcg), 12.172907% (arp), -10.531086% (aft), 99.139139 (No. Users), 0.511179 (Jacc)\n",
      "eps: 4.000000 -> -1.433535% (recall), -0.655734% (ndcg), 14.027344% (arp), -5.766139% (aft), 99.207541 (No. Users), 0.522632 (Jacc)\n",
      "eps: 3.000000 -> -5.849709% (recall), -5.242383% (ndcg), 20.957167% (arp), 1.642414% (aft), 99.666333 (No. Users), 0.577218 (Jacc)\n",
      "eps: 2.000000 -> -14.799283% (recall), -14.591874% (ndcg), 34.734720% (arp), 9.649149% (aft), 99.919920 (No. Users), 0.651834 (Jacc)\n",
      "eps: 1.000000 -> -30.190814% (recall), -30.691607% (ndcg), 80.771319% (arp), 33.812730% (aft), 99.993327 (No. Users), 0.746428 (Jacc)\n",
      "eps: 0.100000 -> -51.917981% (recall), -53.300067% (ndcg), 191.418556% (arp), -3.461015% (aft), 100.000000 (No. Users), 0.849018 (Jacc)\n",
      "eps: 0.010000 -> -53.123886% (recall), -53.948380% (ndcg), 200.677229% (arp), -4.239217% (aft), 100.000000 (No. Users), 0.857618 (Jacc)\n",
      "\n",
      "No DP: 0.0835 (recall), 0.1648 (ndcg), 0.0576 (arp), 0.0165 (aft)\n",
      "eps: 5.000000 -> -4.120150% (recall), -0.081004% (ndcg), 10.408403% (arp), -31.114491% (aft), 99.679680 (No. Users), 0.698325 (Jacc)\n",
      "eps: 4.000000 -> -5.116484% (recall), -1.010900% (ndcg), 7.258092% (arp), -11.269128% (aft), 99.719720 (No. Users), 0.706454 (Jacc)\n",
      "eps: 3.000000 -> -8.257284% (recall), -4.785603% (ndcg), 8.999242% (arp), 11.915554% (aft), 99.773106 (No. Users), 0.722655 (Jacc)\n",
      "eps: 2.000000 -> -18.298366% (recall), -14.197233% (ndcg), 10.278451% (arp), 108.310270% (aft), 100.000000 (No. Users), 0.794952 (Jacc)\n",
      "eps: 1.000000 -> -38.200978% (recall), -36.318126% (ndcg), 45.204692% (arp), 153.560462% (aft), 100.000000 (No. Users), 0.840840 (Jacc)\n",
      "eps: 0.100000 -> -63.636212% (recall), -62.938391% (ndcg), 134.791515% (arp), 230.065088% (aft), 100.000000 (No. Users), 0.924988 (Jacc)\n",
      "eps: 0.010000 -> -66.326036% (recall), -65.732053% (ndcg), 185.951112% (arp), 211.521198% (aft), 100.000000 (No. Users), 0.930998 (Jacc)\n",
      "\n",
      "No DP: 0.0932 (recall), 0.0584 (ndcg), 0.0180 (arp), 0.0628 (aft)\n",
      "eps: 5.000000 -> -13.480685% (recall), -9.132066% (ndcg), 4.383393% (arp), -33.039651% (aft), 99.955961 (No. Users), 0.787187 (Jacc)\n",
      "eps: 4.000000 -> -14.918717% (recall), -11.079910% (ndcg), 3.523542% (arp), -30.103523% (aft), 99.943378 (No. Users), 0.790031 (Jacc)\n",
      "eps: 3.000000 -> -19.023401% (recall), -16.515556% (ndcg), 8.571805% (arp), -38.692711% (aft), 99.987417 (No. Users), 0.831331 (Jacc)\n",
      "eps: 2.000000 -> -26.585774% (recall), -25.878158% (ndcg), 8.485748% (arp), -26.258515% (aft), 100.000000 (No. Users), 0.862016 (Jacc)\n",
      "eps: 1.000000 -> -47.504981% (recall), -49.491003% (ndcg), 13.970181% (arp), -5.722927% (aft), 100.000000 (No. Users), 0.925330 (Jacc)\n",
      "eps: 0.100000 -> -70.066677% (recall), -76.192404% (ndcg), 156.689337% (arp), -14.868042% (aft), 100.000000 (No. Users), 0.974265 (Jacc)\n",
      "eps: 0.010000 -> -72.305505% (recall), -77.913604% (ndcg), 148.336590% (arp), -0.332535% (aft), 100.000000 (No. Users), 0.976776 (Jacc)\n",
      "\n",
      "No DP: 0.0836 (recall), 0.0480 (ndcg), 0.0259 (arp), 0.1062 (aft)\n",
      "eps: 5.000000 -> -17.372704% (recall), -11.890499% (ndcg), 8.661777% (arp), -0.991278% (aft), 99.943378 (No. Users), 0.738196 (Jacc)\n",
      "eps: 4.000000 -> -19.142989% (recall), -12.391471% (ndcg), 17.643089% (arp), -11.560881% (aft), 99.968544 (No. Users), 0.742912 (Jacc)\n",
      "eps: 3.000000 -> -20.418910% (recall), -14.571379% (ndcg), 19.574387% (arp), -11.779126% (aft), 99.981126 (No. Users), 0.765708 (Jacc)\n",
      "eps: 2.000000 -> -27.790736% (recall), -24.020540% (ndcg), 24.930651% (arp), -5.934346% (aft), 99.987417 (No. Users), 0.813248 (Jacc)\n",
      "eps: 1.000000 -> -42.405190% (recall), -39.955236% (ndcg), 77.950490% (arp), -13.536195% (aft), 100.000000 (No. Users), 0.877538 (Jacc)\n",
      "eps: 0.100000 -> -57.096288% (recall), -57.514476% (ndcg), 132.853492% (arp), 16.954470% (aft), 100.000000 (No. Users), 0.936033 (Jacc)\n",
      "eps: 0.010000 -> -59.707549% (recall), -59.660759% (ndcg), 110.675241% (arp), 49.917153% (aft), 100.000000 (No. Users), 0.944079 (Jacc)\n",
      "\n",
      "No DP: 0.0643 (recall), 0.0353 (ndcg), 0.0199 (arp), 0.1654 (aft)\n",
      "eps: 5.000000 -> -29.700254% (recall), -21.246248% (ndcg), 17.564378% (arp), -3.135957% (aft), 100.000000 (No. Users), 0.920425 (Jacc)\n",
      "eps: 4.000000 -> -30.575121% (recall), -21.289414% (ndcg), 15.802775% (arp), -5.227072% (aft), 100.000000 (No. Users), 0.922347 (Jacc)\n",
      "eps: 3.000000 -> -34.197670% (recall), -26.156192% (ndcg), 18.485152% (arp), -3.279594% (aft), 100.000000 (No. Users), 0.928174 (Jacc)\n",
      "eps: 2.000000 -> -41.057259% (recall), -36.565422% (ndcg), 14.467294% (arp), 18.725450% (aft), 100.000000 (No. Users), 0.944694 (Jacc)\n",
      "eps: 1.000000 -> -50.148896% (recall), -47.667463% (ndcg), 231.151195% (arp), -50.452506% (aft), 100.000000 (No. Users), 0.956722 (Jacc)\n",
      "eps: 0.100000 -> -58.601736% (recall), -59.489795% (ndcg), 288.034307% (arp), -55.926519% (aft), 100.000000 (No. Users), 0.963473 (Jacc)\n",
      "eps: 0.010000 -> -60.136299% (recall), -61.683580% (ndcg), 272.738219% (arp), -38.132614% (aft), 100.000000 (No. Users), 0.964724 (Jacc)\n",
      "\n"
     ]
    }
   ],
   "source": [
    "def get_results(dataset_name, algos):\n",
    "    test_df = pd.read_csv(\"dataset/\" + dataset_name + \"/\" + dataset_name + \".test.inter\", sep=\"\\t\")\n",
    "    test_df.rename(columns={\"user_id:token\": \"user_id\", \"item_id:token\": \"item_id\"}, inplace=True)\n",
    "    test_df[\"user_id\"] = test_df[\"user_id\"].astype(str)\n",
    "    test_df[\"item_id\"] = test_df[\"item_id\"].astype(str)\n",
    "    groundtruth = test_df.groupby(\"user_id\")[\"item_id\"].apply(set)\n",
    "\n",
    "    df = pd.read_csv(\"dataset/\" + dataset_name + \"/\" + dataset_name + \".inter\", sep=\"\\t\")\n",
    "    df.rename(columns={\"user_id:token\": \"user_id\", \"item_id:token\": \"item_id\"}, inplace=True)\n",
    "    df[\"user_id\"] = df[\"user_id\"].astype(str)\n",
    "    df[\"item_id\"] = df[\"item_id\"].astype(str)\n",
    "    item_popularity = df.groupby(\"item_id\").size() / df[\"user_id\"].nunique()\n",
    "\n",
    "\n",
    "    recall, arp, aft = dict(), dict(), dict()\n",
    "    for algo in algos:\n",
    "        recall_a, _, arp_a, aft_a, _, _ = analyze(dataset_name=dataset_name, model_name=algo, groundtruth=groundtruth, item_popularity=item_popularity)\n",
    "        recall[algo] = recall_a\n",
    "        arp[algo] = arp_a\n",
    "        aft[algo] = aft_a\n",
    "\n",
    "    return recall, arp, aft\n",
    "\n",
    "recall_ml1m, arp_ml1m, aft_ml1m = get_results(dataset_name=\"ml-1m\", algos=[\"ENMF\", \"LightGCN\", \"MultiVAE\"])\n",
    "recall_lfm, arp_lfm, aft_lfm = get_results(dataset_name=\"LFM-3k\", algos=[\"ENMF\", \"LightGCN\", \"MultiVAE\"])\n",
    "recall_amazon, arp_amazon, aft_amazon = get_results(dataset_name=\"grocery\", algos=[\"ENMF\", \"LightGCN\", \"MultiVAE\"])"
   ],
   "metadata": {
    "collapsed": false,
    "ExecuteTime": {
     "end_time": "2023-10-24T09:13:53.472546100Z",
     "start_time": "2023-10-24T09:05:28.008842600Z"
    }
   }
  },
  {
   "cell_type": "code",
   "execution_count": null,
   "outputs": [],
   "source": [],
   "metadata": {
    "collapsed": false
   }
  },
  {
   "cell_type": "code",
   "execution_count": 43,
   "outputs": [
    {
     "name": "stdout",
     "output_type": "stream",
     "text": [
      "[('ENMF', -39.736690410351386), ('LightGCN', -40.01906908881053), ('MultiVAE', -43.27735393417695)]\n",
      "[('ENMF', -48.98956690615172), ('LightGCN', -53.12388627329867), ('MultiVAE', -66.32603574159856)]\n",
      "[('ENMF', -72.305504707558), ('LightGCN', -59.70754942859291), ('MultiVAE', -60.13629949852374)]\n"
     ]
    }
   ],
   "source": [
    "print([(model, recalls[-1])for model, recalls in recall_ml1m.items()])\n",
    "print([(model, recalls[-1])for model, recalls in recall_lfm.items()])\n",
    "print([(model, recalls[-1])for model, recalls in recall_amazon.items()])"
   ],
   "metadata": {
    "collapsed": false,
    "ExecuteTime": {
     "end_time": "2023-10-24T09:49:32.226505100Z",
     "start_time": "2023-10-24T09:49:32.208468Z"
    }
   }
  },
  {
   "cell_type": "code",
   "execution_count": 78,
   "outputs": [
    {
     "name": "stdout",
     "output_type": "stream",
     "text": [
      "[('ENMF', 21.891294657952972), ('LightGCN', 75.91629110886068), ('MultiVAE', 23.00861456687334)]\n",
      "[('ENMF', 51.34036836954988), ('LightGCN', 200.6772292469635), ('MultiVAE', 185.95111201120784)]\n",
      "[('ENMF', 148.33658964161492), ('LightGCN', 110.67524095310937), ('MultiVAE', 272.73821945095244)]\n"
     ]
    }
   ],
   "source": [
    "print([(model, arps[-1])for model, arps in arp_ml1m.items()])\n",
    "print([(model, arps[-1])for model, arps in arp_lfm.items()])\n",
    "print([(model, arps[-1])for model, arps in arp_amazon.items()])"
   ],
   "metadata": {
    "collapsed": false,
    "ExecuteTime": {
     "end_time": "2023-10-24T12:21:16.607384Z",
     "start_time": "2023-10-24T12:21:16.584275600Z"
    }
   }
  },
  {
   "cell_type": "code",
   "execution_count": 70,
   "outputs": [],
   "source": [
    "%matplotlib qt\n",
    "\n",
    "def f(x):\n",
    "    return x\n",
    "\n",
    "all_eps = [0.001, 0.01, 0.1, 1, 2, 3, 4, 5][1:]\n",
    "\n",
    "fig = plt.figure(figsize=(10, 4))\n",
    "ax1 = plt.subplot2grid(shape=(1,3), loc=(0,0), fig=fig)\n",
    "ax2 = plt.subplot2grid((1,3), (0,1))\n",
    "ax3 = plt.subplot2grid((1,3), (0,2))\n",
    "\n",
    "ax1.axhline(y=0, linestyle=\"dashed\", c=\"gray\")\n",
    "ax2.axhline(y=0, linestyle=\"dashed\", c=\"gray\")\n",
    "ax3.axhline(y=0, linestyle=\"dashed\", c=\"gray\")\n",
    "\n",
    "ax1.plot(all_eps, f(recall_ml1m[\"ENMF\"][::-1]), color=\"C0\", linewidth=3, linestyle=\"dotted\")\n",
    "ax1.plot(all_eps, f(recall_ml1m[\"LightGCN\"][::-1]), color=\"C1\", linewidth=3, linestyle=\"dashed\")\n",
    "ax1.plot(all_eps, f(recall_ml1m[\"MultiVAE\"][::-1]), color=\"C2\", linewidth=3, linestyle=\"dashdot\")\n",
    "ax1.invert_xaxis()\n",
    "\n",
    "ax2.plot(all_eps, f(recall_lfm[\"ENMF\"][::-1]), color=\"C0\", linewidth=3, linestyle=\"dotted\")\n",
    "ax2.plot(all_eps, f(recall_lfm[\"LightGCN\"][::-1]), color=\"C1\", linewidth=3, linestyle=\"dashed\")\n",
    "ax2.plot(all_eps, f(recall_lfm[\"MultiVAE\"][::-1]), color=\"C2\", linewidth=3, linestyle=\"dashdot\")\n",
    "ax2.invert_xaxis()\n",
    "\n",
    "ax3.plot(all_eps, f(recall_amazon[\"ENMF\"][::-1]), color=\"C0\", linewidth=3, linestyle=\"dotted\")\n",
    "ax3.plot(all_eps, f(recall_amazon[\"LightGCN\"][::-1]), color=\"C1\", linewidth=3, linestyle=\"dashed\")\n",
    "ax3.plot(all_eps, f(recall_amazon[\"MultiVAE\"][::-1]), color=\"C2\", linewidth=3, linestyle=\"dashdot\")\n",
    "ax3.invert_xaxis()\n",
    "\n",
    "ax1.set_ylabel(r\"$\\Delta Recall$ in \\%\", fontsize=\"large\")\n",
    "ax1.set_xlabel(r\"Privacy Budget $\\epsilon$\", fontsize=\"large\")\n",
    "ax2.set_xlabel(r\"Privacy Budget $\\epsilon$\", fontsize=\"large\")\n",
    "ax3.set_xlabel(r\"Privacy Budget $\\epsilon$\", fontsize=\"large\")\n",
    "\n",
    "ax1.set_title(r\"\\emph{MovieLens 1M}\")\n",
    "ax2.set_title(r\"\\emph{LastFM User Groups}\")\n",
    "ax3.set_title(r\"\\emph{Grocery \\& Gourmet}\")\n",
    "\n",
    "ax1.yaxis.set_minor_locator(AutoMinorLocator())\n",
    "ax2.yaxis.set_minor_locator(AutoMinorLocator())\n",
    "ax3.yaxis.set_minor_locator(AutoMinorLocator())\n",
    "\n",
    "ax1.xaxis.set_minor_locator(AutoMinorLocator())\n",
    "ax2.xaxis.set_minor_locator(AutoMinorLocator())\n",
    "ax3.xaxis.set_minor_locator(AutoMinorLocator())\n",
    "\n",
    "lines = []\n",
    "lines.append(Line2D([0], [0], color=\"C0\", linestyle=\"dotted\"))\n",
    "lines.append(Line2D([0], [0], color=\"C1\", linestyle=\"dashed\"))\n",
    "lines.append(Line2D([0], [0], color=\"C2\", linestyle=\"dashdot\"))\n",
    "labels = [\"ENMF\", \"LightGCN\", \"MultVAE\"]\n",
    "\n",
    "fig.legend(lines, labels, ncol=3, loc='upper center', bbox_to_anchor=(0.5, .99), fontsize=\"large\")\n",
    "fig.tight_layout()\n",
    "fig.subplots_adjust(top=.8, bottom=0.15, wspace=0.25)\n",
    "fig.align_ylabels([ax1, ax2, ax3])\n",
    "\n",
    "plt.savefig(\"plots/delta_recall.png\", dpi=300)"
   ],
   "metadata": {
    "collapsed": false,
    "ExecuteTime": {
     "end_time": "2023-10-24T11:20:39.554448200Z",
     "start_time": "2023-10-24T11:20:38.092290700Z"
    }
   }
  },
  {
   "cell_type": "code",
   "execution_count": null,
   "outputs": [],
   "source": [],
   "metadata": {
    "collapsed": false
   }
  },
  {
   "cell_type": "code",
   "execution_count": 76,
   "outputs": [],
   "source": [
    "%matplotlib qt\n",
    "\n",
    "def f(x):\n",
    "    #return np.log10(x)\n",
    "    return x\n",
    "\n",
    "\n",
    "\n",
    "fig = plt.figure(figsize=(10, 4))\n",
    "ax1 = plt.subplot2grid(shape=(1,3), loc=(0,0), fig=fig)\n",
    "ax2 = plt.subplot2grid((1,3), (0,1))\n",
    "ax3 = plt.subplot2grid((1,3), (0,2))\n",
    "\n",
    "ax1.axhline(y=0, linestyle=\"dashed\", c=\"gray\")\n",
    "ax2.axhline(y=0, linestyle=\"dashed\", c=\"gray\")\n",
    "ax3.axhline(y=0, linestyle=\"dashed\", c=\"gray\")\n",
    "\n",
    "ax1.plot(all_eps, f(arp_ml1m[\"ENMF\"][::-1]), color=\"C0\", linewidth=3, linestyle=\"dotted\")\n",
    "ax1.plot(all_eps, f(arp_ml1m[\"LightGCN\"][::-1]), color=\"C1\", linewidth=3, linestyle=\"dashed\")\n",
    "ax1.plot(all_eps, f(arp_ml1m[\"MultiVAE\"][::-1]), color=\"C2\", linewidth=3, linestyle=\"dashdot\")\n",
    "ax1.invert_xaxis()\n",
    "\n",
    "ax2.plot(all_eps, f(arp_lfm[\"ENMF\"][::-1]), color=\"C0\", linewidth=3, linestyle=\"dotted\")\n",
    "ax2.plot(all_eps, f(arp_lfm[\"LightGCN\"][::-1]), color=\"C1\", linewidth=3, linestyle=\"dashed\")\n",
    "ax2.plot(all_eps, f(arp_lfm[\"MultiVAE\"][::-1]), color=\"C2\", linewidth=3, linestyle=\"dashdot\")\n",
    "ax2.invert_xaxis()\n",
    "\n",
    "ax3.plot(all_eps, f(arp_amazon[\"ENMF\"][::-1]), color=\"C0\", linewidth=3, linestyle=\"dotted\")\n",
    "ax3.plot(all_eps, f(arp_amazon[\"LightGCN\"][::-1]), color=\"C1\", linewidth=3, linestyle=\"dashed\")\n",
    "ax3.plot(all_eps, f(arp_amazon[\"MultiVAE\"][::-1]), color=\"C2\", linewidth=3, linestyle=\"dashdot\")\n",
    "ax3.invert_xaxis()\n",
    "\n",
    "ax1.set_ylabel(r\"$\\Delta ARP$ in \\%\", fontsize=\"large\")\n",
    "ax1.set_xlabel(r\"Privacy Budget $\\epsilon$\", fontsize=\"large\")\n",
    "ax2.set_xlabel(r\"Privacy Budget $\\epsilon$\", fontsize=\"large\")\n",
    "ax3.set_xlabel(r\"Privacy Budget $\\epsilon$\", fontsize=\"large\")\n",
    "\n",
    "ax1.set_title(r\"\\emph{MovieLens 1M}\")\n",
    "ax2.set_title(r\"\\emph{LastFM User Groups}\")\n",
    "ax3.set_title(r\"\\emph{Grocery \\& Gourmet}\")\n",
    "\n",
    "ax1.yaxis.set_minor_locator(AutoMinorLocator())\n",
    "ax2.yaxis.set_minor_locator(AutoMinorLocator())\n",
    "ax3.yaxis.set_minor_locator(AutoMinorLocator())\n",
    "\n",
    "ax1.xaxis.set_minor_locator(AutoMinorLocator())\n",
    "ax2.xaxis.set_minor_locator(AutoMinorLocator())\n",
    "ax3.xaxis.set_minor_locator(AutoMinorLocator())\n",
    "\n",
    "#ax1.set_yscale('symlog')\n",
    "#ax2.set_yscale('symlog')\n",
    "##ax3.set_yscale('symlog')\n",
    "\n",
    "lines = []\n",
    "lines.append(Line2D([0], [0], color=\"C0\", linestyle=\"dotted\"))\n",
    "lines.append(Line2D([0], [0], color=\"C1\", linestyle=\"dashed\"))\n",
    "lines.append(Line2D([0], [0], color=\"C2\", linestyle=\"dashdot\"))\n",
    "labels = [\"ENMF\", \"LightGCN\", \"MultVAE\"]\n",
    "\n",
    "fig.legend(lines, labels, ncol=3, loc='upper center', bbox_to_anchor=(0.5, .99), fontsize=\"large\")\n",
    "fig.tight_layout()\n",
    "fig.subplots_adjust(top=.8, bottom=0.15, wspace=0.25)\n",
    "fig.align_ylabels([ax1, ax2, ax3])\n",
    "plt.savefig(\"plots/delta_arp.png\", dpi=300)"
   ],
   "metadata": {
    "collapsed": false,
    "ExecuteTime": {
     "end_time": "2023-10-24T11:23:25.869729100Z",
     "start_time": "2023-10-24T11:23:24.516067400Z"
    }
   }
  },
  {
   "cell_type": "code",
   "execution_count": 34,
   "outputs": [],
   "source": [
    "%matplotlib qt\n",
    "\n",
    "def f(x):\n",
    "    return x\n",
    "\n",
    "all_eps = [0.01, 0.1, 1, 2, 3, 4, 5][1:]\n",
    "\n",
    "fig = plt.figure(figsize=(10, 4))\n",
    "ax1 = plt.subplot2grid(shape=(1,3), loc=(0,0), fig=fig)\n",
    "ax2 = plt.subplot2grid((1,3), (0,1))\n",
    "ax3 = plt.subplot2grid((1,3), (0,2))\n",
    "\n",
    "ax1.axhline(y=0, linestyle=\"dashed\", c=\"gray\")\n",
    "ax2.axhline(y=0, linestyle=\"dashed\", c=\"gray\")\n",
    "ax3.axhline(y=0, linestyle=\"dashed\", c=\"gray\")\n",
    "\n",
    "ax1.plot(all_eps, f(aft_ml1m[\"ENMF\"][::-1][1:]), color=\"C0\", linewidth=2)\n",
    "ax1.plot(all_eps, f(aft_ml1m[\"LightGCN\"][::-1][1:]), color=\"C1\", linewidth=2)\n",
    "ax1.plot(all_eps, f(aft_ml1m[\"MultiVAE\"][::-1][1:]), color=\"C2\", linewidth=2)\n",
    "ax1.invert_xaxis()\n",
    "\n",
    "ax2.plot(all_eps, f(aft_lfm[\"ENMF\"][::-1][1:]), color=\"C0\", linewidth=2)\n",
    "ax2.plot(all_eps, f(aft_lfm[\"LightGCN\"][::-1][1:]), color=\"C1\", linewidth=2)\n",
    "ax2.plot(all_eps, f(aft_lfm[\"MultiVAE\"][::-1][1:]), color=\"C2\", linewidth=2)\n",
    "ax2.invert_xaxis()\n",
    "\n",
    "ax3.plot(all_eps, f(aft_amazon[\"ENMF\"][::-1][1:]), color=\"C0\", linewidth=2)\n",
    "ax3.plot(all_eps, f(aft_amazon[\"LightGCN\"][::-1][1:]), color=\"C1\", linewidth=2)\n",
    "ax3.plot(all_eps, f(aft_amazon[\"MultiVAE\"][::-1][1:]), color=\"C2\", linewidth=2)\n",
    "ax3.invert_xaxis()\n",
    "\n",
    "ax1.set_ylabel(r\"$\\Delta AFT$ in \\%\", fontsize=\"large\")\n",
    "ax1.set_xlabel(r\"Privacy Budget $\\epsilon$\", fontsize=\"large\")\n",
    "ax2.set_xlabel(r\"Privacy Budget $\\epsilon$\", fontsize=\"large\")\n",
    "ax3.set_xlabel(r\"Privacy Budget $\\epsilon$\", fontsize=\"large\")\n",
    "\n",
    "ax1.set_title(r\"\\emph{MovieLens 1M}\")\n",
    "ax2.set_title(r\"\\emph{LFM User Groups}\")\n",
    "ax3.set_title(r\"\\emph{Grocery and Gourmet}\")\n",
    "\n",
    "ax1.yaxis.set_minor_locator(AutoMinorLocator())\n",
    "ax2.yaxis.set_minor_locator(AutoMinorLocator())\n",
    "ax3.yaxis.set_minor_locator(AutoMinorLocator())\n",
    "\n",
    "ax1.xaxis.set_minor_locator(AutoMinorLocator())\n",
    "ax2.xaxis.set_minor_locator(AutoMinorLocator())\n",
    "ax3.xaxis.set_minor_locator(AutoMinorLocator())\n",
    "\n",
    "lines = []\n",
    "lines.append(Line2D([0], [0], color=\"C0\", linestyle=\"solid\"))\n",
    "lines.append(Line2D([0], [0], color=\"C1\", linestyle=\"solid\"))\n",
    "lines.append(Line2D([0], [0], color=\"C2\", linestyle=\"solid\"))\n",
    "labels = [\"ENMF\", \"LightGCN\", \"MultVAE\"]\n",
    "\n",
    "fig.legend(lines, labels, ncol=3, loc='upper center', bbox_to_anchor=(0.5, .99), fontsize=\"large\")\n",
    "fig.tight_layout()\n",
    "fig.subplots_adjust(top=.8, bottom=0.15, wspace=0.25)\n",
    "fig.align_ylabels([ax1, ax2, ax3])\n",
    "plt.savefig(\"plots/delta_aft.png\", dpi=300)"
   ],
   "metadata": {
    "collapsed": false,
    "ExecuteTime": {
     "end_time": "2023-10-24T09:32:12.785775Z",
     "start_time": "2023-10-24T09:32:11.548851600Z"
    }
   }
  },
  {
   "cell_type": "code",
   "execution_count": 161,
   "outputs": [],
   "source": [],
   "metadata": {
    "collapsed": false,
    "ExecuteTime": {
     "end_time": "2023-10-05T13:51:37.185310400Z",
     "start_time": "2023-10-05T13:51:37.165312700Z"
    }
   }
  },
  {
   "cell_type": "code",
   "execution_count": 13,
   "outputs": [],
   "source": [
    "dataset_name = \"LFM-3k\"\n",
    "\n",
    "test_df = pd.read_csv(\"dataset/\" + dataset_name + \"/\" + dataset_name + \".test.inter\", sep=\"\\t\")\n",
    "test_df.rename(columns={\"user_id:token\": \"user_id\", \"item_id:token\": \"item_id\"}, inplace=True)\n",
    "test_df[\"user_id\"] = test_df[\"user_id\"].astype(str)\n",
    "test_df[\"item_id\"] = test_df[\"item_id\"].astype(str)\n",
    "\n",
    "groundtruth = test_df.groupby(\"user_id\")[\"item_id\"].apply(set)\n",
    "\n",
    "df = pd.read_csv(\"dataset/\" + dataset_name + \"/\" + dataset_name + \".inter\", sep=\"\\t\")\n",
    "df.rename(columns={\"user_id:token\": \"user_id\", \"item_id:token\": \"item_id\"}, inplace=True)\n",
    "df[\"user_id\"] = df[\"user_id\"].astype(str)\n",
    "df[\"item_id\"] = df[\"item_id\"].astype(str)\n",
    "item_popularity = df.groupby(\"item_id\").size() / df[\"user_id\"].nunique()\n",
    "\n",
    "cut = int(len(item_popularity) * 0.2)\n",
    "head_items = set(item_popularity.sort_values(ascending=False).iloc[:cut].index.tolist())\n",
    "\n",
    "frac_pop_items = df.groupby(\"user_id\")[\"item_id\"].apply(set).apply(lambda items: len(items.intersection(head_items)) / len(items))\n",
    "frac_pop_items.name = \"frac\"\n",
    "\n",
    "cut = int(len(frac_pop_items) * 0.2)\n",
    "low_users = frac_pop_items.sort_values().head(cut).index.tolist()\n",
    "high_users = frac_pop_items.sort_values().tail(cut).index.tolist()"
   ],
   "metadata": {
    "collapsed": false,
    "ExecuteTime": {
     "end_time": "2023-10-16T05:45:19.552114300Z",
     "start_time": "2023-10-16T05:45:18.362914800Z"
    }
   }
  },
  {
   "cell_type": "code",
   "execution_count": 14,
   "outputs": [
    {
     "name": "stdout",
     "output_type": "stream",
     "text": [
      "\n",
      "LightGCN (LFM-3k)\n",
      "No DP: 0.0401/0.1525 (recall), 0.1123/0.2353 (ndcg), 0.0404/0.1184 (arp), 0.1227/0.0004 (aft)\n",
      "[599, 598, 598, 598, 598]\n",
      "[588, 580, 575, 576, 581]\n",
      "[2981, 2971, 2961, 2966, 2968]\n"
     ]
    },
    {
     "name": "stderr",
     "output_type": "stream",
     "text": [
      "C:\\Users\\pmuellner\\AppData\\Local\\Temp\\ipykernel_19352\\1900368229.py:27: RuntimeWarning: Mean of empty slice\n",
      "  delta_aft_eps.append(np.nanmean(delta_aft_eps_f))\n"
     ]
    },
    {
     "name": "stdout",
     "output_type": "stream",
     "text": [
      "eps: 5.000000 -> -12.57%/1.58% (recall), -6.37%/2.00% (ndcg), 38.22%/-0.52% (arp), -3.40%/nan% (aft)\n",
      "[599, 599, 599, 599, 599]\n",
      "[594, 596, 595, 597, 596]\n",
      "[2993, 2995, 2994, 2996, 2996]\n",
      "eps: 2.000000 -> -33.08%/-13.45% (recall), -28.32%/-14.00% (ndcg), 96.40%/1.39% (arp), 25.78%/nan% (aft)\n",
      "[599, 599, 599, 599, 599]\n",
      "[596, 597, 597, 597, 597]\n",
      "[2996, 2997, 2997, 2997, 2997]\n",
      "eps: 1.000000 -> -49.84%/-27.60% (recall), -46.64%/-29.00% (ndcg), 221.69%/13.74% (arp), 43.71%/nan% (aft)\n",
      "[599, 599, 599, 599, 599]\n",
      "[597, 597, 597, 597, 597]\n",
      "[2997, 2997, 2997, 2997, 2997]\n",
      "eps: 0.100000 -> -76.24%/-44.56% (recall), -74.18%/-46.14% (ndcg), 578.99%/22.70% (arp), 24.54%/nan% (aft)\n",
      "Diff Recall: [14.15350865 19.62796378 22.23681838 31.6796175 ]\n",
      "Diff nDCG: [ 8.36404327 14.31975726 17.63381489 28.0438291 ]\n",
      "Diff ARP: [ 38.74016728  95.00706228 207.95335381 556.28573293]\n",
      "Diff AFT: [nan nan nan nan]\n"
     ]
    },
    {
     "data": {
      "text/plain": "(([-12.570517317120705,\n   -33.08045899032271,\n   -49.83556890027805,\n   -76.24212292949431],\n  [-6.365851713413898,\n   -28.323443129120733,\n   -46.63643620908028,\n   -74.18179591790684],\n  [38.22105765483959,\n   96.39564721297056,\n   221.69084336957297,\n   578.9868557863911],\n  [-3.399999024064518,\n   25.784768662619967,\n   43.71355136131479,\n   24.536464067643447]),\n ([1.5829913362791657,\n   -13.452495208514957,\n   -27.598750523585768,\n   -44.56250542539433],\n  [1.9981915588722459,\n   -14.003685866526041,\n   -29.002621316261912,\n   -46.13796681543192],\n  [-0.5191096280410396,\n   1.3885849375340722,\n   13.73748956061917,\n   22.701122855285917],\n  [nan, nan, nan, nan]),\n (array([14.15350865, 19.62796378, 22.23681838, 31.6796175 ]),\n  array([ 8.36404327, 14.31975726, 17.63381489, 28.0438291 ]),\n  array([ 38.74016728,  95.00706228, 207.95335381, 556.28573293]),\n  array([nan, nan, nan, nan])))"
     },
     "execution_count": 14,
     "metadata": {},
     "output_type": "execute_result"
    }
   ],
   "source": [
    "def analyze_groups(dataset_name, model_name, groundtruth, item_popularity, group1, group2, absolute_values=False, compute_diff=True):\n",
    "    def recgap(x, y):\n",
    "        return np.abs(np.array(x) - np.array(y))\n",
    "\n",
    "    def get_deltas(results_nodp, results_dp, abs=False):\n",
    "        recall_nodp, ndcg_nodp, arp_nodp, aft_nodp = results_nodp\n",
    "        recall_eps, ndcg_eps, arp_eps, aft_eps = results_dp\n",
    "\n",
    "        delta_recall_eps, delta_ndcg_eps, delta_arp_eps, delta_aft_eps = [], [], [], []\n",
    "        for file_idx in range(5):\n",
    "            intersection = set(recall_nodp[file_idx].keys()).intersection(recall_eps[file_idx].keys())\n",
    "            delta_recall_eps_f, delta_ndcg_eps_f, delta_arp_eps_f, delta_aft_eps_f = [], [], [], []\n",
    "            for uid in intersection:\n",
    "                if abs:\n",
    "                    delta_recall_eps_f.append(recall_eps[file_idx][uid])\n",
    "                    delta_ndcg_eps_f.append(ndcg_eps[file_idx][uid])\n",
    "                    delta_arp_eps_f.append(arp_eps[file_idx][uid])\n",
    "                    delta_aft_eps_f.append(aft_eps[file_idx][uid])\n",
    "                else:\n",
    "                    delta_recall_eps_f.append(100 * (recall_eps[file_idx][uid] - recall_nodp[file_idx][uid]) / recall_nodp[file_idx][uid] if recall_nodp[file_idx][uid] != 0 else np.nan)\n",
    "                    delta_ndcg_eps_f.append(100 * (ndcg_eps[file_idx][uid] - ndcg_nodp[file_idx][uid]) / ndcg_nodp[file_idx][uid] if ndcg_nodp[file_idx][uid] != 0 else np.nan)\n",
    "                    delta_arp_eps_f.append(100 * (arp_eps[file_idx][uid] - arp_nodp[file_idx][uid]) / arp_nodp[file_idx][uid] if arp_nodp[file_idx][uid] != 0 else np.nan)\n",
    "                    delta_aft_eps_f.append(100 * (aft_eps[file_idx][uid] - aft_nodp[file_idx][uid]) / aft_nodp[file_idx][uid] if aft_nodp[file_idx][uid] != 0 else np.nan)\n",
    "            delta_recall_eps.append(np.nanmean(delta_recall_eps_f))\n",
    "            delta_ndcg_eps.append(np.nanmean(delta_ndcg_eps_f))\n",
    "            delta_arp_eps.append(np.nanmean(delta_arp_eps_f))\n",
    "            delta_aft_eps.append(np.nanmean(delta_aft_eps_f))\n",
    "\n",
    "        return np.mean(delta_recall_eps), np.mean(delta_ndcg_eps), np.mean(delta_arp_eps), np.mean(delta_aft_eps)\n",
    "\n",
    "    print()\n",
    "    print(model_name + \" (\" + dataset_name + \")\")\n",
    "\n",
    "    dir = \"saved/\" + dataset_name + \"/\" + model_name + \"/\"\n",
    "    results_nodp = _analyze_recommendations(dirpath=dir + \"nodp\", item_popularity=item_popularity, groundtruth=groundtruth)\n",
    "    recall_nodp, ndcg_nodp, arp_nodp, aft_nodp = results_nodp\n",
    "\n",
    "    print(\"No DP: %.4f/%.4f (recall), %.4f/%.4f (ndcg), %.4f/%.4f (arp), %.4f/%.4f (aft)\" % (results_per_group(recall_nodp, group1), results_per_group(recall_nodp, group2), results_per_group(ndcg_nodp, group1), results_per_group(ndcg_nodp, group2), results_per_group(arp_nodp, group1), results_per_group(arp_nodp, group2), results_per_group(aft_nodp, group1), results_per_group(aft_nodp, group2)))\n",
    "\n",
    "    delta_recall1, delta_ndcg1, delta_arp1, delta_aft1 = [], [], [], []\n",
    "    delta_recall2, delta_ndcg2, delta_arp2, delta_aft2 = [], [], [], []\n",
    "    for eps in [0.1, 1, 2, 5][::-1]:\n",
    "        users, frac, _ = _get_impacted_users(dirpath_nodp=dir + \"nodp\", dirpath_dp=dir + \"e\" + str(eps))\n",
    "        group1_and_impacted, group2_and_impacted = [], []\n",
    "        for users_s in users:\n",
    "            group1_and_impacted.append(set([uid for uid in users_s]).intersection(group1))\n",
    "            group2_and_impacted.append(set([uid for uid in users_s]).intersection(group2))\n",
    "\n",
    "        print([len(g) for g in group1_and_impacted])\n",
    "        print([len(g) for g in group2_and_impacted])\n",
    "        print([len(u) for u in users])\n",
    "\n",
    "        results1_eps = _analyze_recommendations(dirpath=dir + \"e\" + str(eps), item_popularity=item_popularity, groundtruth=groundtruth, impacted_users=group1_and_impacted)\n",
    "        results2_eps = _analyze_recommendations(dirpath=dir + \"e\" + str(eps), item_popularity=item_popularity, groundtruth=groundtruth, impacted_users=group2_and_impacted)\n",
    "\n",
    "        delta_recall1_eps, delta_ndcg1_eps, delta_arp1_eps, delta_aft1_eps = get_deltas(results_nodp=results_nodp, results_dp=results1_eps, abs=absolute_values)\n",
    "        delta_recall2_eps, delta_ndcg2_eps, delta_arp2_eps, delta_aft2_eps = get_deltas(results_nodp=results_nodp, results_dp=results2_eps, abs=absolute_values)\n",
    "\n",
    "        delta_recall1.append(delta_recall1_eps)\n",
    "        delta_ndcg1.append(delta_ndcg1_eps)\n",
    "        delta_arp1.append(delta_arp1_eps)\n",
    "        delta_aft1.append(delta_aft1_eps)\n",
    "\n",
    "        delta_recall2.append(delta_recall2_eps)\n",
    "        delta_ndcg2.append(delta_ndcg2_eps)\n",
    "        delta_arp2.append(delta_arp2_eps)\n",
    "        delta_aft2.append(delta_aft2_eps)\n",
    "\n",
    "        if absolute_values:\n",
    "            print(\"eps: %f -> %.2f/%.2f (recall), %.2f/%.2f (ndcg), %.2f/%.2f (arp), %.2f/%.2f (aft)\" % (eps, delta_recall1[-1], delta_recall2[-1], delta_ndcg1[-1], delta_ndcg2[-1], delta_arp1[-1], delta_arp2[-1], delta_aft1[-1], delta_aft2[-1]))\n",
    "        else:\n",
    "            print(\"eps: %f -> %.2f%%/%.2f%% (recall), %.2f%%/%.2f%% (ndcg), %.2f%%/%.2f%% (arp), %.2f%%/%.2f%% (aft)\" % (eps, delta_recall1[-1], delta_recall2[-1], delta_ndcg1[-1], delta_ndcg2[-1], delta_arp1[-1], delta_arp2[-1], delta_aft1[-1], delta_aft2[-1]))\n",
    "\n",
    "    if compute_diff:\n",
    "        print(\"Diff Recall: %s\" % recgap(delta_recall1, delta_recall2))\n",
    "        print(\"Diff nDCG: %s\" % recgap(delta_ndcg1, delta_ndcg2))\n",
    "        print(\"Diff ARP: %s\" % recgap(delta_arp1, delta_arp2))\n",
    "        print(\"Diff AFT: %s\" % recgap(delta_aft1, delta_aft2))\n",
    "\n",
    "        return (delta_recall1, delta_ndcg1, delta_arp1, delta_aft1), (delta_recall2, delta_ndcg2, delta_arp2, delta_aft2), (recgap(delta_recall1, delta_recall2), recgap(delta_ndcg1, delta_ndcg2), recgap(delta_arp1, delta_arp2), recgap(delta_aft1, delta_aft2))\n",
    "    else:\n",
    "        return (delta_recall1, delta_ndcg1, delta_arp1, delta_aft1), (delta_recall2, delta_ndcg2, delta_arp2, delta_aft2)\n",
    "\n",
    "#analyze_groups(dataset_name=dataset_name, model_name=\"BPR\", groundtruth=groundtruth, item_popularity=item_popularity, group1=low_users, group2=high_users, compute_diff=True)\n",
    "#analyze_groups(dataset_name=dataset_name, model_name=\"NeuMF\", groundtruth=groundtruth, item_popularity=item_popularity, group1=low_users, group2=high_users, compute_diff=True)\n",
    "analyze_groups(dataset_name=dataset_name, model_name=\"LightGCN\", groundtruth=groundtruth, item_popularity=item_popularity, group1=low_users, group2=high_users,compute_diff=True)\n",
    "#analyze_groups(dataset_name=dataset_name, model_name=\"MultiVAE\", groundtruth=groundtruth, item_popularity=item_popularity, group1=low_users, group2=high_users, compute_diff=True)"
   ],
   "metadata": {
    "collapsed": false,
    "ExecuteTime": {
     "end_time": "2023-10-16T05:45:58.016597600Z",
     "start_time": "2023-10-16T05:45:44.314482200Z"
    }
   }
  },
  {
   "cell_type": "code",
   "execution_count": null,
   "outputs": [],
   "source": [],
   "metadata": {
    "collapsed": false
   }
  },
  {
   "cell_type": "code",
   "execution_count": 31,
   "outputs": [],
   "source": [],
   "metadata": {
    "collapsed": false,
    "ExecuteTime": {
     "end_time": "2023-10-04T13:32:56.528312300Z",
     "start_time": "2023-10-04T13:32:56.509959800Z"
    }
   }
  },
  {
   "cell_type": "code",
   "execution_count": 31,
   "outputs": [
    {
     "name": "stdout",
     "output_type": "stream",
     "text": [
      "\n",
      "ENMF (sportsandoutdoors)\n",
      "No DP: 3.4146/1.1878 (delta gap)\n"
     ]
    },
    {
     "ename": "IndexError",
     "evalue": "list index out of range",
     "output_type": "error",
     "traceback": [
      "\u001B[1;31m---------------------------------------------------------------------------\u001B[0m",
      "\u001B[1;31mIndexError\u001B[0m                                Traceback (most recent call last)",
      "Cell \u001B[1;32mIn[31], line 72\u001B[0m\n\u001B[0;32m     69\u001B[0m high_users \u001B[38;5;241m=\u001B[39m frac_pop_items\u001B[38;5;241m.\u001B[39msort_values()\u001B[38;5;241m.\u001B[39mtail(cut)\u001B[38;5;241m.\u001B[39mindex\u001B[38;5;241m.\u001B[39mtolist()\n\u001B[0;32m     71\u001B[0m \u001B[38;5;66;03m#analyze_groups_gap(dataset_name=dataset_name, model_name=\"BPR\", user_profile_pop=user_profile_pop, item_popularity=item_popularity, group1=low_users, group2=high_users, absolute_values=True, compute_diff=True)\u001B[39;00m\n\u001B[1;32m---> 72\u001B[0m \u001B[43manalyze_groups_gap\u001B[49m\u001B[43m(\u001B[49m\u001B[43mdataset_name\u001B[49m\u001B[38;5;241;43m=\u001B[39;49m\u001B[43mdataset_name\u001B[49m\u001B[43m,\u001B[49m\u001B[43m \u001B[49m\u001B[43mmodel_name\u001B[49m\u001B[38;5;241;43m=\u001B[39;49m\u001B[38;5;124;43m\"\u001B[39;49m\u001B[38;5;124;43mENMF\u001B[39;49m\u001B[38;5;124;43m\"\u001B[39;49m\u001B[43m,\u001B[49m\u001B[43m \u001B[49m\u001B[43muser_profile_pop\u001B[49m\u001B[38;5;241;43m=\u001B[39;49m\u001B[43muser_profile_pop\u001B[49m\u001B[43m,\u001B[49m\u001B[43m \u001B[49m\u001B[43mitem_popularity\u001B[49m\u001B[38;5;241;43m=\u001B[39;49m\u001B[43mitem_popularity\u001B[49m\u001B[43m,\u001B[49m\u001B[43m \u001B[49m\u001B[43mgroup1\u001B[49m\u001B[38;5;241;43m=\u001B[39;49m\u001B[43mlow_users\u001B[49m\u001B[43m,\u001B[49m\u001B[43m \u001B[49m\u001B[43mgroup2\u001B[49m\u001B[38;5;241;43m=\u001B[39;49m\u001B[43mhigh_users\u001B[49m\u001B[43m,\u001B[49m\u001B[43m \u001B[49m\u001B[43mabsolute_values\u001B[49m\u001B[38;5;241;43m=\u001B[39;49m\u001B[38;5;28;43;01mTrue\u001B[39;49;00m\u001B[43m,\u001B[49m\u001B[43m \u001B[49m\u001B[43mcompute_diff\u001B[49m\u001B[38;5;241;43m=\u001B[39;49m\u001B[38;5;28;43;01mTrue\u001B[39;49;00m\u001B[43m)\u001B[49m\n",
      "Cell \u001B[1;32mIn[31], line 33\u001B[0m, in \u001B[0;36manalyze_groups_gap\u001B[1;34m(dataset_name, model_name, user_profile_pop, item_popularity, group1, group2, absolute_values, compute_diff)\u001B[0m\n\u001B[0;32m     31\u001B[0m gaps1_eps \u001B[38;5;241m=\u001B[39m _compute_gap(dirpath\u001B[38;5;241m=\u001B[39m\u001B[38;5;28mdir\u001B[39m \u001B[38;5;241m+\u001B[39m \u001B[38;5;124m\"\u001B[39m\u001B[38;5;124me\u001B[39m\u001B[38;5;124m\"\u001B[39m \u001B[38;5;241m+\u001B[39m \u001B[38;5;28mstr\u001B[39m(eps), item_popularity\u001B[38;5;241m=\u001B[39mitem_popularity, user_profile_popularity\u001B[38;5;241m=\u001B[39muser_profile_pop, impacted_users\u001B[38;5;241m=\u001B[39mgroup1_and_impacted)\n\u001B[0;32m     32\u001B[0m gaps2_eps \u001B[38;5;241m=\u001B[39m _compute_gap(dirpath\u001B[38;5;241m=\u001B[39m\u001B[38;5;28mdir\u001B[39m \u001B[38;5;241m+\u001B[39m \u001B[38;5;124m\"\u001B[39m\u001B[38;5;124me\u001B[39m\u001B[38;5;124m\"\u001B[39m \u001B[38;5;241m+\u001B[39m \u001B[38;5;28mstr\u001B[39m(eps), item_popularity\u001B[38;5;241m=\u001B[39mitem_popularity, user_profile_popularity\u001B[38;5;241m=\u001B[39muser_profile_pop, impacted_users\u001B[38;5;241m=\u001B[39mgroup2_and_impacted)\n\u001B[1;32m---> 33\u001B[0m delta_gap1_eps \u001B[38;5;241m=\u001B[39m \u001B[43mget_deltas\u001B[49m\u001B[43m(\u001B[49m\u001B[43mgaps_nodp\u001B[49m\u001B[38;5;241;43m=\u001B[39;49m\u001B[43mgaps_nodp\u001B[49m\u001B[43m,\u001B[49m\u001B[43m \u001B[49m\u001B[43mgaps_eps\u001B[49m\u001B[38;5;241;43m=\u001B[39;49m\u001B[43mgaps1_eps\u001B[49m\u001B[43m,\u001B[49m\u001B[43m \u001B[49m\u001B[38;5;28;43mabs\u001B[39;49m\u001B[38;5;241;43m=\u001B[39;49m\u001B[43mabsolute_values\u001B[49m\u001B[43m)\u001B[49m\n\u001B[0;32m     34\u001B[0m delta_gap2_eps \u001B[38;5;241m=\u001B[39m get_deltas(gaps_nodp\u001B[38;5;241m=\u001B[39mgaps_nodp, gaps_eps\u001B[38;5;241m=\u001B[39mgaps2_eps, \u001B[38;5;28mabs\u001B[39m\u001B[38;5;241m=\u001B[39mabsolute_values)\n\u001B[0;32m     36\u001B[0m delta_gap1\u001B[38;5;241m.\u001B[39mappend(delta_gap1_eps)\n",
      "Cell \u001B[1;32mIn[31], line 5\u001B[0m, in \u001B[0;36manalyze_groups_gap.<locals>.get_deltas\u001B[1;34m(gaps_nodp, gaps_eps, abs)\u001B[0m\n\u001B[0;32m      3\u001B[0m delta_gap_eps \u001B[38;5;241m=\u001B[39m []\n\u001B[0;32m      4\u001B[0m \u001B[38;5;28;01mfor\u001B[39;00m file_idx \u001B[38;5;129;01min\u001B[39;00m \u001B[38;5;28mrange\u001B[39m(\u001B[38;5;241m5\u001B[39m):\n\u001B[1;32m----> 5\u001B[0m     intersection \u001B[38;5;241m=\u001B[39m \u001B[38;5;28mset\u001B[39m(\u001B[43mgaps_nodp\u001B[49m\u001B[43m[\u001B[49m\u001B[43mfile_idx\u001B[49m\u001B[43m]\u001B[49m\u001B[38;5;241m.\u001B[39mkeys())\u001B[38;5;241m.\u001B[39mintersection(gaps_eps[file_idx]\u001B[38;5;241m.\u001B[39mkeys())\n\u001B[0;32m      6\u001B[0m     delta_gap_eps_f \u001B[38;5;241m=\u001B[39m []\n\u001B[0;32m      7\u001B[0m     \u001B[38;5;28;01mfor\u001B[39;00m uid \u001B[38;5;129;01min\u001B[39;00m intersection:\n",
      "\u001B[1;31mIndexError\u001B[0m: list index out of range"
     ]
    }
   ],
   "source": [
    "def analyze_groups_gap(dataset_name, model_name, user_profile_pop, item_popularity, group1, group2, absolute_values=False, compute_diff=True):\n",
    "    def get_deltas(gaps_nodp, gaps_eps, abs=False):\n",
    "        delta_gap_eps = []\n",
    "        for file_idx in range(5):\n",
    "            intersection = set(gaps_nodp[file_idx].keys()).intersection(gaps_eps[file_idx].keys())\n",
    "            delta_gap_eps_f = []\n",
    "            for uid in intersection:\n",
    "                if abs:\n",
    "                    delta_gap_eps_f.append(gaps_eps[file_idx][uid])\n",
    "                else:\n",
    "                    delta_gap_eps_f.append(100 * np.abs(gaps_eps[file_idx][uid] - gaps_nodp[file_idx][uid]) / gaps_nodp[file_idx][uid] if gaps_nodp[file_idx][uid] != 0 else np.nan)\n",
    "            delta_gap_eps.append(np.nanmean(delta_gap_eps_f))\n",
    "\n",
    "        return np.mean(delta_gap_eps)\n",
    "    print()\n",
    "    print(model_name + \" (\" + dataset_name + \")\")\n",
    "    dir = \"saved/\" + dataset_name + \"/\" + model_name + \"/\"\n",
    "\n",
    "    gaps_nodp = _compute_gap(dirpath=dir + \"nodp\", item_popularity=item_popularity, user_profile_popularity=user_profile_pop)\n",
    "    print(\"No DP: %.4f/%.4f (delta gap)\" % (results_per_group(gaps_nodp, group1), results_per_group(gaps_nodp, group2)))\n",
    "\n",
    "\n",
    "    delta_gap1, delta_gap2 = [], []\n",
    "    for eps in [0.1, 1, 2, 5][::-1]:\n",
    "        users, _, _ = _get_impacted_users(dirpath_nodp=dir + \"nodp\", dirpath_dp=dir + \"e\" + str(eps))\n",
    "        group1_and_impacted, group2_and_impacted = [], []\n",
    "        for users_s in users:\n",
    "            group1_and_impacted.append(set([uid for uid in users_s]).intersection(group1))\n",
    "            group2_and_impacted.append(set([uid for uid in users_s]).intersection(group2))\n",
    "\n",
    "        gaps1_eps = _compute_gap(dirpath=dir + \"e\" + str(eps), item_popularity=item_popularity, user_profile_popularity=user_profile_pop, impacted_users=group1_and_impacted)\n",
    "        gaps2_eps = _compute_gap(dirpath=dir + \"e\" + str(eps), item_popularity=item_popularity, user_profile_popularity=user_profile_pop, impacted_users=group2_and_impacted)\n",
    "        delta_gap1_eps = get_deltas(gaps_nodp=gaps_nodp, gaps_eps=gaps1_eps, abs=absolute_values)\n",
    "        delta_gap2_eps = get_deltas(gaps_nodp=gaps_nodp, gaps_eps=gaps2_eps, abs=absolute_values)\n",
    "\n",
    "        delta_gap1.append(delta_gap1_eps)\n",
    "        delta_gap2.append(delta_gap2_eps)\n",
    "\n",
    "        if absolute_values:\n",
    "            print(\"eps: %f -> %.4f/%.4f (delta gap)\" % (eps, delta_gap1[-1], delta_gap2[-1]))\n",
    "        else:\n",
    "            print(\"eps: %f -> %.4f%%/%.4f%% (delta gap)\" % (eps, delta_gap1[-1], delta_gap2[-1]))\n",
    "    #print()\n",
    "    if compute_diff:\n",
    "        print(\"Diff Delta GAP: %s\" % recgap(delta_gap1, delta_gap2))\n",
    "        return delta_gap1, delta_gap2, recgap(delta_gap1, delta_gap2)\n",
    "    else:\n",
    "        return delta_gap1, delta_gap2\n",
    "\n",
    "\n",
    "dataset_name = \"sportsandoutdoors\"\n",
    "\n",
    "df = pd.read_csv(\"dataset/\" + dataset_name + \"/\" + dataset_name + \".inter\", sep=\"\\t\")\n",
    "df.rename(columns={\"user_id:token\": \"user_id\", \"item_id:token\": \"item_id\"}, inplace=True)\n",
    "df[\"user_id\"] = df[\"user_id\"].astype(str)\n",
    "df[\"item_id\"] = df[\"item_id\"].astype(str)\n",
    "item_popularity = df.groupby(\"item_id\").size() / df[\"user_id\"].nunique()\n",
    "\n",
    "user_profile_pop = df.groupby(\"user_id\")[\"item_id\"].apply(list).apply(lambda iids: np.mean([item_popularity.loc[iid] for iid in iids]))\n",
    "\n",
    "cut = int(len(item_popularity) * 0.2)\n",
    "head_items = set(item_popularity.sort_values(ascending=False).iloc[:cut].index.tolist())\n",
    "\n",
    "frac_pop_items = df.groupby(\"user_id\")[\"item_id\"].apply(set).apply(lambda items: len(items.intersection(head_items)) / len(items))\n",
    "frac_pop_items.name = \"frac\"\n",
    "\n",
    "cut = int(len(frac_pop_items) * 0.2)\n",
    "low_users = frac_pop_items.sort_values().head(cut).index.tolist()\n",
    "high_users = frac_pop_items.sort_values().tail(cut).index.tolist()\n",
    "\n",
    "#analyze_groups_gap(dataset_name=dataset_name, model_name=\"BPR\", user_profile_pop=user_profile_pop, item_popularity=item_popularity, group1=low_users, group2=high_users, absolute_values=True, compute_diff=True)\n",
    "analyze_groups_gap(dataset_name=dataset_name, model_name=\"ENMF\", user_profile_pop=user_profile_pop, item_popularity=item_popularity, group1=low_users, group2=high_users, absolute_values=True, compute_diff=True)\n",
    "#analyze_groups_gap(dataset_name=dataset_name, model_name=\"LightGCN\", user_profile_pop=user_profile_pop, item_popularity=item_popularity, group1=low_users, group2=high_users, absolute_values=True, compute_diff=True)\n",
    "#analyze_groups_gap(dataset_name=dataset_name, model_name=\"MultiVAE\", user_profile_pop=user_profile_pop, item_popularity=item_popularity, group1=low_users, group2=high_users, absolute_values=True, compute_diff=True)"
   ],
   "metadata": {
    "collapsed": false,
    "ExecuteTime": {
     "end_time": "2023-10-17T06:03:46.734187300Z",
     "start_time": "2023-10-17T06:03:43.792999600Z"
    }
   }
  },
  {
   "cell_type": "code",
   "execution_count": 37,
   "outputs": [],
   "source": [],
   "metadata": {
    "collapsed": false,
    "ExecuteTime": {
     "end_time": "2023-10-04T13:37:59.373137400Z",
     "start_time": "2023-10-04T13:37:58.170481Z"
    }
   }
  },
  {
   "cell_type": "code",
   "execution_count": 190,
   "outputs": [
    {
     "name": "stdout",
     "output_type": "stream",
     "text": [
      "152.0033388981636 77.12020033388981\n",
      "\n",
      "ENMF (LFM-3k)\n",
      "No DP: 4.1028/1.1578 & 2.9450\n",
      "eps: 5.000000 -> -0.0056/0.0051 & -0.0107\n",
      "eps: 2.000000 -> 0.4464/0.0756 & 0.3708\n",
      "eps: 1.000000 -> 1.1283/0.1732 & 0.9551\n",
      "eps: 0.100000 -> 1.6189/0.2870 & 1.3319\n",
      "\n",
      "LightGCN (LFM-3k)\n",
      "No DP: 2.7848/1.3273 & 1.4576\n",
      "eps: 5.000000 -> 0.0104/-0.0482 & 0.0586\n",
      "eps: 2.000000 -> 0.3668/-0.0379 & 0.4047\n",
      "eps: 1.000000 -> 1.0269/0.1994 & 0.8275\n",
      "eps: 0.100000 -> 2.9384/0.3187 & 2.6197\n",
      "\n",
      "MultiVAE (LFM-3k)\n",
      "No DP: 0.7441/0.9092 & 0.1651\n",
      "eps: 5.000000 -> -0.0198/-0.0164 & 0.0034\n",
      "eps: 2.000000 -> -0.5547/0.1432 & 0.6979\n",
      "eps: 1.000000 -> -0.4046/0.4047 & 0.8093\n",
      "eps: 0.100000 -> 0.3319/0.8781 & 0.5462\n"
     ]
    },
    {
     "data": {
      "text/plain": "([0.7243526746758786,\n  0.1894142384216815,\n  0.3395276819932526,\n  1.0760348244948403],\n [0.8928299515941525,\n  1.0523592826074968,\n  1.3138814572025197,\n  1.7873084372085473])"
     },
     "execution_count": 190,
     "metadata": {},
     "output_type": "execute_result"
    }
   ],
   "source": [
    "def analyze_poplift(dataset_name, model_name, user_profile_pop, item_popularity, group1, group2):\n",
    "    def _compute_poplift(dirpath, item_popularity, user_profile_popularity, group):\n",
    "        files = sort_files(dirpath)\n",
    "        poplifts = []\n",
    "        for idx, file in enumerate(files):\n",
    "            with open(dirpath + \"/\" + file, \"rb\") as f:\n",
    "                recommendation_list = pl.load(f)\n",
    "                arp_g, upp_g = [], []\n",
    "                for uid, recs in recommendation_list.items():\n",
    "                    if uid not in group[idx]:\n",
    "                        continue\n",
    "\n",
    "                    arp_g.append(np.mean([item_popularity.loc[str(iid)] for iid in recs]))\n",
    "                    upp_g.append(user_profile_popularity.loc[uid])\n",
    "\n",
    "                poplifts.append((np.mean(arp_g) - np.mean(upp_g)) / np.mean(upp_g))\n",
    "        return np.mean(poplifts)\n",
    "\n",
    "    print()\n",
    "    print(model_name + \" (\" + dataset_name + \")\")\n",
    "    dir = \"saved/\" + dataset_name + \"/\" + model_name + \"/\"\n",
    "\n",
    "    pl1_nodp = _compute_poplift(dirpath=dir + \"nodp\", item_popularity=item_popularity, user_profile_popularity=user_profile_pop, group=[group1] * 5)\n",
    "    pl2_nodp = _compute_poplift(dirpath=dir + \"nodp\", item_popularity=item_popularity, user_profile_popularity=user_profile_pop, group=[group2] * 5)\n",
    "    #print(\"No DP: %.4f/%.4f (PopLift), %.4f\" % (pl1_nodp, pl2_nodp, np.abs(pl1_nodp - pl2_nodp)))\n",
    "    print(\"No DP: %.4f/%.4f & %.4f\" % (pl1_nodp, pl2_nodp, np.abs(pl1_nodp - pl2_nodp)))\n",
    "\n",
    "    poplifts1, poplifts2 = [], []\n",
    "    for eps in [0.1, 1, 2, 5][::-1]:\n",
    "        users, _, _ = _get_impacted_users(dirpath_nodp=dir + \"nodp\", dirpath_dp=dir + \"e\" + str(eps))\n",
    "        group1_and_impacted, group2_and_impacted = [], []\n",
    "        for users_s in users:\n",
    "            group1_and_impacted.append(set([uid for uid in users_s]).intersection(group1))\n",
    "            group2_and_impacted.append(set([uid for uid in users_s]).intersection(group2))\n",
    "\n",
    "        pl1_eps = _compute_poplift(dirpath=dir + \"e\" + str(eps), item_popularity=item_popularity, user_profile_popularity=user_profile_pop, group=group1_and_impacted)\n",
    "        pl2_eps = _compute_poplift(dirpath=dir + \"e\" + str(eps), item_popularity=item_popularity, user_profile_popularity=user_profile_pop, group=group2_and_impacted)\n",
    "\n",
    "        poplifts1.append(pl1_eps)\n",
    "        poplifts2.append(pl2_eps)\n",
    "\n",
    "        #print(\"eps: %f -> %.4f/%.4f (PopLift), %.4f (Gap)\" % (eps, poplifts1[-1], poplifts2[-1], np.abs(poplifts1[-1] - poplifts2[-1])))\n",
    "        #print(\"eps: %f -> %.4f/%.4f & %.4f\" % (eps, poplifts1[-1], poplifts2[-1], np.abs(poplifts1[-1] - poplifts2[-1])))\n",
    "        #print(\"eps: %f -> %.4f/%.4f & %.4f\" % (eps, poplifts1[-1], poplifts2[-1], (poplifts1[-1] - poplifts2[-1])))\n",
    "\n",
    "        delta_pl1 = (poplifts1[-1] - pl1_nodp)\n",
    "        delta_pl2 = (poplifts2[-1] - pl2_nodp)\n",
    "        delta_gap = np.abs(poplifts1[-1] - poplifts2[-1]) - np.abs(pl1_nodp - pl2_nodp)\n",
    "\n",
    "        print(\"eps: %f -> %.4f/%.4f & %.4f\" % (eps, delta_pl1, delta_pl2, delta_gap))\n",
    "\n",
    "\n",
    "    return poplifts1, poplifts2\n",
    "\n",
    "dataset_name = \"LFM-3k\"\n",
    "\n",
    "df = pd.read_csv(\"dataset/\" + dataset_name + \"/\" + dataset_name + \".inter\", sep=\"\\t\")\n",
    "df.rename(columns={\"user_id:token\": \"user_id\", \"item_id:token\": \"item_id\"}, inplace=True)\n",
    "df[\"user_id\"] = df[\"user_id\"].astype(str)\n",
    "df[\"item_id\"] = df[\"item_id\"].astype(str)\n",
    "item_popularity = df.groupby(\"item_id\").size() / df[\"user_id\"].nunique()\n",
    "\n",
    "user_profile_pop = df.groupby(\"user_id\")[\"item_id\"].apply(list).apply(lambda iids: np.mean([item_popularity.loc[iid] for iid in iids]))\n",
    "\n",
    "cut = int(len(item_popularity) * 0.2)\n",
    "head_items = set(item_popularity.sort_values(ascending=False).iloc[:cut].index.tolist())\n",
    "\n",
    "frac_pop_items = df.groupby(\"user_id\")[\"item_id\"].apply(set).apply(lambda items: len(items.intersection(head_items)) / len(items))\n",
    "frac_pop_items.name = \"frac\"\n",
    "\n",
    "cut = int(len(frac_pop_items) * 0.2)\n",
    "low_users = frac_pop_items.sort_values().head(cut).index.tolist()\n",
    "high_users = frac_pop_items.sort_values().tail(cut).index.tolist()\n",
    "\n",
    "user_profile_size = df.groupby(\"user_id\").size()\n",
    "print(user_profile_size.loc[low_users].mean(), user_profile_size.loc[high_users].mean())\n",
    "\n",
    "#analyze_groups_gap(dataset_name=dataset_name, model_name=\"BPR\", user_profile_pop=user_profile_pop, item_popularity=item_popularity, group1=low_users, group2=high_users, absolute_values=True, compute_diff=True)\n",
    "analyze_poplift(dataset_name=dataset_name, model_name=\"ENMF\", user_profile_pop=user_profile_pop, item_popularity=item_popularity, group1=low_users, group2=high_users)\n",
    "analyze_poplift(dataset_name=dataset_name, model_name=\"LightGCN\", user_profile_pop=user_profile_pop, item_popularity=item_popularity, group1=low_users, group2=high_users)\n",
    "analyze_poplift(dataset_name=dataset_name, model_name=\"MultiVAE\", user_profile_pop=user_profile_pop, item_popularity=item_popularity, group1=low_users, group2=high_users)"
   ],
   "metadata": {
    "collapsed": false,
    "ExecuteTime": {
     "end_time": "2023-10-26T20:41:40.730335400Z",
     "start_time": "2023-10-26T20:41:18.575167Z"
    }
   }
  },
  {
   "cell_type": "code",
   "execution_count": 178,
   "outputs": [
    {
     "name": "stdout",
     "output_type": "stream",
     "text": [
      "4369.4 450.6\n",
      "0.021845701488698792 0.13625621717568612\n",
      "2600.2\n"
     ]
    }
   ],
   "source": [
    "dataset_name = \"LFM-3k\"\n",
    "model_name = \"MultiVAE\"\n",
    "\n",
    "df = pd.read_csv(\"dataset/\" + dataset_name + \"/\" + dataset_name + \".inter\", sep=\"\\t\")\n",
    "df.rename(columns={\"user_id:token\": \"user_id\", \"item_id:token\": \"item_id\"}, inplace=True)\n",
    "df[\"user_id\"] = df[\"user_id\"].astype(str)\n",
    "df[\"item_id\"] = df[\"item_id\"].astype(str)\n",
    "item_popularity = df.groupby(\"item_id\").size() / df[\"user_id\"].nunique()\n",
    "user_profile_pop = df.groupby(\"user_id\")[\"item_id\"].apply(list).apply(lambda iids: np.mean([item_popularity.loc[iid] for iid in iids]))\n",
    "cut = int(len(item_popularity) * 0.2)\n",
    "head_items = set(item_popularity.sort_values(ascending=False).iloc[:cut].index.tolist())\n",
    "frac_pop_items = df.groupby(\"user_id\")[\"item_id\"].apply(set).apply(lambda items: len(items.intersection(head_items)) / len(items))\n",
    "frac_pop_items.name = \"frac\"\n",
    "cut = int(len(frac_pop_items) * 0.2)\n",
    "low_users = frac_pop_items.sort_values().head(cut).index.tolist()\n",
    "high_users = frac_pop_items.sort_values().tail(cut).index.tolist()\n",
    "\n",
    "#dirpath = \"saved/\" + dataset_name + \"/\" + model_name + \"/nodp\"\n",
    "dirpath = \"saved/\" + dataset_name + \"/\" + model_name + \"/e0.1\"\n",
    "files = sort_files(dirpath)\n",
    "\n",
    "frac_tail_items = []\n",
    "item_coverage_low, item_coverage_high = [], []\n",
    "arp_low, arp_high = [], []\n",
    "for idx, file in enumerate(files):\n",
    "    item_coverage_low_f, item_coverage_high_f = set(), set()\n",
    "    arp_low_f, arp_high_f = [], []\n",
    "    frac_tail_items_f = []\n",
    "    with open(dirpath + \"/\" + file, \"rb\") as f:\n",
    "        recommendation_list = pl.load(f)\n",
    "        for uid, recs in recommendation_list.items():\n",
    "            if uid in low_users:\n",
    "                item_coverage_low_f = item_coverage_low_f.union(recs)\n",
    "                arp_low_f.append(np.mean([item_popularity.loc[str(iid)] for iid in recs]))\n",
    "            elif uid in high_users:\n",
    "                item_coverage_high_f = item_coverage_high_f.union(recs)\n",
    "                arp_high_f.append(np.mean([item_popularity.loc[str(iid)] for iid in recs]))\n",
    "\n",
    "        all_items = item_coverage_low_f#.union(item_coverage_high)\n",
    "        tail_items = all_items.difference(head_items)\n",
    "        frac_tail_items_f.append(len(tail_items))\n",
    "\n",
    "    item_coverage_low.append(len(item_coverage_low_f))\n",
    "    item_coverage_high.append(len(item_coverage_high_f))\n",
    "    arp_low.append(np.mean(arp_low_f))\n",
    "    arp_high.append(np.mean(arp_high_f))\n",
    "    frac_tail_items.append(frac_tail_items_f)\n",
    "print(np.mean(item_coverage_low), np.mean(item_coverage_high))\n",
    "print(np.mean(arp_low), np.mean(arp_high))\n",
    "print(np.mean(frac_tail_items))"
   ],
   "metadata": {
    "collapsed": false,
    "ExecuteTime": {
     "end_time": "2023-10-26T15:56:14.843784400Z",
     "start_time": "2023-10-26T15:56:09.295696500Z"
    }
   }
  },
  {
   "cell_type": "code",
   "execution_count": null,
   "outputs": [],
   "source": [],
   "metadata": {
    "collapsed": false
   }
  },
  {
   "cell_type": "code",
   "execution_count": null,
   "outputs": [],
   "source": [],
   "metadata": {
    "collapsed": false
   }
  },
  {
   "cell_type": "code",
   "execution_count": 38,
   "outputs": [
    {
     "name": "stdout",
     "output_type": "stream",
     "text": [
      "\n",
      "ENMF (ml-1m)\n",
      "No DP: 0.7084/0.7084 & 0.0000\n",
      "eps: 5.000000 -> 0.7157/0.7157 & 0.0000\n",
      "eps: 4.000000 -> 0.7189/0.7189 & 0.0000\n",
      "eps: 3.000000 -> 0.7272/0.7272 & 0.0000\n",
      "eps: 2.000000 -> 0.7661/0.7661 & 0.0000\n",
      "eps: 1.000000 -> 0.8473/0.8473 & 0.0000\n",
      "eps: 0.100000 -> 0.9618/0.9618 & 0.0000\n",
      "eps: 0.010000 -> 0.9933/0.9933 & 0.0000\n",
      "eps: 0.001000 -> 0.9908/0.9908 & 0.0000\n",
      "\n",
      "LightGCN (ml-1m)\n",
      "No DP: 0.5405/0.5405 & 0.0000\n",
      "eps: 5.000000 -> 0.5765/0.5765 & 0.0000\n",
      "eps: 4.000000 -> 0.5886/0.5886 & 0.0000\n",
      "eps: 3.000000 -> 0.6412/0.6412 & 0.0000\n",
      "eps: 2.000000 -> 0.7383/0.7383 & 0.0000\n",
      "eps: 1.000000 -> 0.9672/0.9672 & 0.0000\n",
      "eps: 0.100000 -> 1.2468/1.2468 & 0.0000\n",
      "eps: 0.010000 -> 1.3141/1.3141 & 0.0000\n",
      "eps: 0.001000 -> 1.3008/1.3008 & 0.0000\n",
      "\n",
      "MultiVAE (ml-1m)\n",
      "No DP: 0.5657/0.5657 & 0.0000\n",
      "eps: 5.000000 -> 0.6002/0.6002 & 0.0000\n",
      "eps: 4.000000 -> 0.6638/0.6638 & 0.0000\n",
      "eps: 3.000000 -> 0.6219/0.6219 & 0.0000\n",
      "eps: 2.000000 -> 0.6938/0.6938 & 0.0000\n",
      "eps: 1.000000 -> 0.7758/0.7758 & 0.0000\n",
      "eps: 0.100000 -> 0.8223/0.8223 & 0.0000\n",
      "eps: 0.010000 -> 0.7828/0.7828 & 0.0000\n",
      "eps: 0.001000 -> 0.8648/0.8648 & 0.0000\n",
      "\n",
      "ENMF (LFM-3k)\n",
      "No DP: 1.8816/1.8816 & 0.0000\n",
      "eps: 5.000000 -> 1.8986/1.8986 & 0.0000\n",
      "eps: 4.000000 -> 1.9133/1.9133 & 0.0000\n",
      "eps: 3.000000 -> 1.9486/1.9486 & 0.0000\n",
      "eps: 2.000000 -> 2.0223/2.0223 & 0.0000\n",
      "eps: 1.000000 -> 2.2116/2.2116 & 0.0000\n",
      "eps: 0.100000 -> 2.4175/2.4175 & 0.0000\n",
      "eps: 0.010000 -> 2.4370/2.4370 & 0.0000\n",
      "eps: 0.001000 -> 2.4660/2.4660 & 0.0000\n",
      "\n",
      "LightGCN (LFM-3k)\n",
      "No DP: 1.7585/1.7585 & 0.0000\n",
      "eps: 5.000000 -> 1.7168/1.7168 & 0.0000\n",
      "eps: 4.000000 -> 1.7625/1.7625 & 0.0000\n",
      "eps: 3.000000 -> 1.8201/1.8201 & 0.0000\n",
      "eps: 2.000000 -> 1.8823/1.8823 & 0.0000\n",
      "eps: 1.000000 -> 2.2958/2.2958 & 0.0000\n",
      "eps: 0.100000 -> 2.7739/2.7739 & 0.0000\n",
      "eps: 0.010000 -> 2.7901/2.7901 & 0.0000\n",
      "eps: 0.001000 -> 2.6790/2.6790 & 0.0000\n",
      "\n",
      "MultiVAE (LFM-3k)\n",
      "No DP: 0.9864/0.9864 & 0.0000\n",
      "eps: 5.000000 -> 0.9498/0.9498 & 0.0000\n",
      "eps: 4.000000 -> 0.9370/0.9370 & 0.0000\n",
      "eps: 3.000000 -> 0.9704/0.9704 & 0.0000\n",
      "eps: 2.000000 -> 1.0783/1.0783 & 0.0000\n",
      "eps: 1.000000 -> 1.4068/1.4068 & 0.0000\n",
      "eps: 0.100000 -> 2.0061/2.0061 & 0.0000\n",
      "eps: 0.010000 -> 2.3756/2.3756 & 0.0000\n",
      "eps: 0.001000 -> 2.7930/2.7930 & 0.0000\n",
      "\n",
      "ENMF (grocery)\n",
      "No DP: 0.5143/0.5143 & 0.0000\n",
      "eps: 5.000000 -> 0.5157/0.5157 & 0.0000\n",
      "eps: 4.000000 -> 0.5023/0.5023 & 0.0000\n",
      "eps: 3.000000 -> 0.5691/0.5691 & 0.0000\n",
      "eps: 2.000000 -> 0.5565/0.5565 & 0.0000\n",
      "eps: 1.000000 -> 0.6019/0.6019 & 0.0000\n",
      "eps: 0.100000 -> 2.4886/2.4886 & 0.0000\n",
      "eps: 0.010000 -> 2.3910/2.3910 & 0.0000\n",
      "eps: 0.001000 -> 0.6774/0.6774 & 0.0000\n",
      "\n",
      "LightGCN (grocery)\n",
      "No DP: 1.1796/1.1796 & 0.0000\n",
      "eps: 5.000000 -> 1.1303/1.1303 & 0.0000\n",
      "eps: 4.000000 -> 1.2678/1.2678 & 0.0000\n",
      "eps: 3.000000 -> 1.3063/1.3063 & 0.0000\n",
      "eps: 2.000000 -> 1.3246/1.3246 & 0.0000\n",
      "eps: 1.000000 -> 2.0615/2.0615 & 0.0000\n",
      "eps: 0.100000 -> 2.6395/2.6395 & 0.0000\n",
      "eps: 0.010000 -> 2.3849/2.3849 & 0.0000\n",
      "eps: 0.001000 -> 2.5453/2.5453 & 0.0000\n",
      "\n",
      "MultiVAE (grocery)\n",
      "No DP: 0.6734/0.6734 & 0.0000\n",
      "eps: 5.000000 -> 0.7282/0.7282 & 0.0000\n",
      "eps: 4.000000 -> 0.6992/0.6992 & 0.0000\n",
      "eps: 3.000000 -> 0.7353/0.7353 & 0.0000\n",
      "eps: 2.000000 -> 0.6376/0.6376 & 0.0000\n",
      "eps: 1.000000 -> 3.3217/3.3217 & 0.0000\n",
      "eps: 0.100000 -> 3.9003/3.9003 & 0.0000\n",
      "eps: 0.010000 -> 3.7465/3.7465 & 0.0000\n",
      "eps: 0.001000 -> 3.5357/3.5357 & 0.0000\n"
     ]
    }
   ],
   "source": [
    "poplift_ml, poplift_lfm, poplift_amazon = dict(), dict(), dict()\n",
    "\n",
    "dataset_name = \"ml-1m\"\n",
    "df = pd.read_csv(\"dataset/\" + dataset_name + \"/\" + dataset_name + \".inter\", sep=\"\\t\")\n",
    "df.rename(columns={\"user_id:token\": \"user_id\", \"item_id:token\": \"item_id\"}, inplace=True)\n",
    "df[\"user_id\"] = df[\"user_id\"].astype(str)\n",
    "df[\"item_id\"] = df[\"item_id\"].astype(str)\n",
    "item_popularity = df.groupby(\"item_id\").size() / df[\"user_id\"].nunique()\n",
    "user_profile_pop = df.groupby(\"user_id\")[\"item_id\"].apply(list).apply(lambda iids: np.mean([item_popularity.loc[iid] for iid in iids]))\n",
    "all_users = user_profile_pop.index.tolist()\n",
    "\n",
    "poplift_ml[\"ENMF\"], _ = analyze_poplift(dataset_name=dataset_name, model_name=\"ENMF\", user_profile_pop=user_profile_pop, item_popularity=item_popularity, group1=all_users, group2=all_users)\n",
    "poplift_ml[\"LightGCN\"], _ = analyze_poplift(dataset_name=dataset_name, model_name=\"LightGCN\", user_profile_pop=user_profile_pop, item_popularity=item_popularity, group1=all_users, group2=all_users)\n",
    "poplift_ml[\"MultiVAE\"], _ = analyze_poplift(dataset_name=dataset_name, model_name=\"MultiVAE\", user_profile_pop=user_profile_pop, item_popularity=item_popularity, group1=all_users, group2=all_users)\n",
    "\n",
    "\n",
    "dataset_name = \"LFM-3k\"\n",
    "df = pd.read_csv(\"dataset/\" + dataset_name + \"/\" + dataset_name + \".inter\", sep=\"\\t\")\n",
    "df.rename(columns={\"user_id:token\": \"user_id\", \"item_id:token\": \"item_id\"}, inplace=True)\n",
    "df[\"user_id\"] = df[\"user_id\"].astype(str)\n",
    "df[\"item_id\"] = df[\"item_id\"].astype(str)\n",
    "item_popularity = df.groupby(\"item_id\").size() / df[\"user_id\"].nunique()\n",
    "user_profile_pop = df.groupby(\"user_id\")[\"item_id\"].apply(list).apply(lambda iids: np.mean([item_popularity.loc[iid] for iid in iids]))\n",
    "all_users = user_profile_pop.index.tolist()\n",
    "\n",
    "poplift_lfm[\"ENMF\"], _ = analyze_poplift(dataset_name=dataset_name, model_name=\"ENMF\", user_profile_pop=user_profile_pop, item_popularity=item_popularity, group1=all_users, group2=all_users)\n",
    "poplift_lfm[\"LightGCN\"], _ = analyze_poplift(dataset_name=dataset_name, model_name=\"LightGCN\", user_profile_pop=user_profile_pop, item_popularity=item_popularity, group1=all_users, group2=all_users)\n",
    "poplift_lfm[\"MultiVAE\"], _ = analyze_poplift(dataset_name=dataset_name, model_name=\"MultiVAE\", user_profile_pop=user_profile_pop, item_popularity=item_popularity, group1=all_users, group2=all_users)\n",
    "\n",
    "dataset_name = \"grocery\"\n",
    "df = pd.read_csv(\"dataset/\" + dataset_name + \"/\" + dataset_name + \".inter\", sep=\"\\t\")\n",
    "df.rename(columns={\"user_id:token\": \"user_id\", \"item_id:token\": \"item_id\"}, inplace=True)\n",
    "df[\"user_id\"] = df[\"user_id\"].astype(str)\n",
    "df[\"item_id\"] = df[\"item_id\"].astype(str)\n",
    "item_popularity = df.groupby(\"item_id\").size() / df[\"user_id\"].nunique()\n",
    "user_profile_pop = df.groupby(\"user_id\")[\"item_id\"].apply(list).apply(lambda iids: np.mean([item_popularity.loc[iid] for iid in iids]))\n",
    "all_users = user_profile_pop.index.tolist()\n",
    "\n",
    "poplift_amazon[\"ENMF\"], _ = analyze_poplift(dataset_name=dataset_name, model_name=\"ENMF\", user_profile_pop=user_profile_pop, item_popularity=item_popularity, group1=all_users, group2=all_users)\n",
    "poplift_amazon[\"LightGCN\"], _ = analyze_poplift(dataset_name=dataset_name, model_name=\"LightGCN\", user_profile_pop=user_profile_pop, item_popularity=item_popularity, group1=all_users, group2=all_users)\n",
    "poplift_amazon[\"MultiVAE\"], _ = analyze_poplift(dataset_name=dataset_name, model_name=\"MultiVAE\", user_profile_pop=user_profile_pop, item_popularity=item_popularity, group1=all_users, group2=all_users)"
   ],
   "metadata": {
    "collapsed": false,
    "ExecuteTime": {
     "end_time": "2023-10-24T09:42:10.966460400Z",
     "start_time": "2023-10-24T09:33:09.597535900Z"
    }
   }
  },
  {
   "cell_type": "code",
   "execution_count": 99,
   "outputs": [
    {
     "name": "stdout",
     "output_type": "stream",
     "text": [
      "[('ENMF', 0.9932990168257934), ('LightGCN', 1.314114915648702), ('MultiVAE', 0.7827698715525143)]\n",
      "[('ENMF', 2.437028895080134), ('LightGCN', 2.7901041329297582), ('MultiVAE', 2.375623384795756)]\n",
      "[('ENMF', 2.3910490394795327), ('LightGCN', 2.384921877875038), ('MultiVAE', 3.7464884341539273)]\n"
     ]
    }
   ],
   "source": [
    "print([(model, poplifts[-2])for model, poplifts in poplift_ml.items()])\n",
    "print([(model, poplifts[-2])for model, poplifts in poplift_lfm.items()])\n",
    "print([(model, poplifts[-2])for model, poplifts in poplift_amazon.items()])"
   ],
   "metadata": {
    "collapsed": false,
    "ExecuteTime": {
     "end_time": "2023-10-24T13:54:16.883217800Z",
     "start_time": "2023-10-24T13:54:16.864428200Z"
    }
   }
  },
  {
   "cell_type": "code",
   "execution_count": 100,
   "outputs": [
    {
     "name": "stdout",
     "output_type": "stream",
     "text": [
      "[('ENMF', 40.21725251634575), ('LightGCN', 143.1294941070679), ('MultiVAE', 38.37190587811814)]\n",
      "[('ENMF', 29.51896763818741), ('LightGCN', 58.663868804649326), ('MultiVAE', 140.83773162974006)]\n",
      "[('ENMF', 364.9132878630241), ('LightGCN', 102.18055933155628), ('MultiVAE', 456.35408882594703)]\n"
     ]
    }
   ],
   "source": [
    "nodp_poplift_ml = {\"ENMF\": 0.7084, \"LightGCN\": 0.5405, \"MultiVAE\": 0.5657}\n",
    "nodp_poplift_lfm = {\"ENMF\": 1.8816, \"LightGCN\": 1.7585, \"MultiVAE\": 0.9864}\n",
    "nodp_poplift_amazon = {\"ENMF\": 0.5143, \"LightGCN\": 1.1796, \"MultiVAE\": 0.6734}\n",
    "\n",
    "delta_poplift_ml, delta_poplift_lfm, delta_poplift_amazon = defaultdict(list), defaultdict(list), defaultdict(list)\n",
    "for model, values in poplift_ml.items():\n",
    "    delta_poplift_ml[model] = (100 * (np.array(values) - nodp_poplift_ml[model]) / nodp_poplift_ml[model])\n",
    "for model, values in poplift_lfm.items():\n",
    "    delta_poplift_lfm[model] = (100 * (np.array(values) - nodp_poplift_lfm[model]) / nodp_poplift_lfm[model])\n",
    "for model, values in poplift_amazon.items():\n",
    "    delta_poplift_amazon[model] = (100 * (np.array(values) - nodp_poplift_amazon[model]) / nodp_poplift_amazon[model])\n",
    "\n",
    "print([(model, poplifts[-2]) for model, poplifts in delta_poplift_ml.items()])\n",
    "print([(model, poplifts[-2]) for model, poplifts in delta_poplift_lfm.items()])\n",
    "print([(model, poplifts[-2]) for model, poplifts in delta_poplift_amazon.items()])"
   ],
   "metadata": {
    "collapsed": false,
    "ExecuteTime": {
     "end_time": "2023-10-24T13:54:26.373069800Z",
     "start_time": "2023-10-24T13:54:26.347919300Z"
    }
   }
  },
  {
   "cell_type": "code",
   "execution_count": 98,
   "outputs": [
    {
     "data": {
      "text/plain": "array([ 1.03516416,  1.47734032,  2.65539449,  8.14150866, 19.61318598,\n       35.7646688 , 40.21725252, 39.8678754 ])"
     },
     "execution_count": 98,
     "metadata": {},
     "output_type": "execute_result"
    }
   ],
   "source": [
    "delta_poplift_ml[\"ENMF\"]"
   ],
   "metadata": {
    "collapsed": false,
    "ExecuteTime": {
     "end_time": "2023-10-24T13:53:19.640631300Z",
     "start_time": "2023-10-24T13:53:19.613969100Z"
    }
   }
  },
  {
   "cell_type": "code",
   "execution_count": 95,
   "outputs": [],
   "source": [
    "%matplotlib qt\n",
    "\n",
    "def f(x):\n",
    "    return x\n",
    "\n",
    "all_eps = [0.01, 0.1, 1, 2, 3, 4, 5]\n",
    "\n",
    "fig = plt.figure(figsize=(10, 4))\n",
    "ax1 = plt.subplot2grid(shape=(1,3), loc=(0,0), fig=fig)\n",
    "ax2 = plt.subplot2grid((1,3), (0,1))\n",
    "ax3 = plt.subplot2grid((1,3), (0,2))\n",
    "\n",
    "ax1.axhline(y=0, linestyle=\"dashed\", c=\"gray\")\n",
    "ax2.axhline(y=0, linestyle=\"dashed\", c=\"gray\")\n",
    "ax3.axhline(y=0, linestyle=\"dashed\", c=\"gray\")\n",
    "\n",
    "ax1.plot(all_eps, f(delta_poplift_ml[\"ENMF\"][::-1][1:]), color=\"C0\", linewidth=3, linestyle=\"dotted\")\n",
    "ax1.plot(all_eps, f(delta_poplift_ml[\"LightGCN\"][::-1][1:]), color=\"C1\", linewidth=3, linestyle=\"dashed\")\n",
    "ax1.plot(all_eps, f(delta_poplift_ml[\"MultiVAE\"][::-1][1:]), color=\"C2\", linewidth=3, linestyle=\"dashdot\")\n",
    "ax1.invert_xaxis()\n",
    "\n",
    "ax2.plot(all_eps, f(delta_poplift_lfm[\"ENMF\"][::-1][1:]), color=\"C0\", linewidth=3, linestyle=\"dotted\")\n",
    "ax2.plot(all_eps, f(delta_poplift_lfm[\"LightGCN\"][::-1][1:]), color=\"C1\", linewidth=3, linestyle=\"dashed\")\n",
    "ax2.plot(all_eps, f(delta_poplift_lfm[\"MultiVAE\"][::-1][1:]), color=\"C2\", linewidth=3, linestyle=\"dashdot\")\n",
    "ax2.invert_xaxis()\n",
    "\n",
    "ax3.plot(all_eps, f(delta_poplift_amazon[\"ENMF\"][::-1][1:]), color=\"C0\", linewidth=3, linestyle=\"dotted\")\n",
    "ax3.plot(all_eps, f(delta_poplift_amazon[\"LightGCN\"][::-1][1:]), color=\"C1\", linewidth=3, linestyle=\"dashed\")\n",
    "ax3.plot(all_eps, f(delta_poplift_amazon[\"MultiVAE\"][::-1][1:]), color=\"C2\", linewidth=3, linestyle=\"dashdot\")\n",
    "ax3.invert_xaxis()\n",
    "\n",
    "ax1.set_ylabel(r\"$\\Delta PopLift$ in \\%\", fontsize=\"large\")\n",
    "ax1.set_xlabel(r\"Privacy Budget $\\epsilon$\", fontsize=\"large\")\n",
    "ax2.set_xlabel(r\"Privacy Budget $\\epsilon$\", fontsize=\"large\")\n",
    "ax3.set_xlabel(r\"Privacy Budget $\\epsilon$\", fontsize=\"large\")\n",
    "\n",
    "ax1.set_title(r\"\\emph{MovieLens 1M}\")\n",
    "ax2.set_title(r\"\\emph{LastFM User Groups}\")\n",
    "ax3.set_title(r\"\\emph{Grocery \\& Gourmet}\")\n",
    "\n",
    "ax1.yaxis.set_minor_locator(AutoMinorLocator())\n",
    "ax2.yaxis.set_minor_locator(AutoMinorLocator())\n",
    "ax3.yaxis.set_minor_locator(AutoMinorLocator())\n",
    "\n",
    "ax1.xaxis.set_minor_locator(AutoMinorLocator())\n",
    "ax2.xaxis.set_minor_locator(AutoMinorLocator())\n",
    "ax3.xaxis.set_minor_locator(AutoMinorLocator())\n",
    "\n",
    "lines = []\n",
    "lines.append(Line2D([0], [0], color=\"C0\", linestyle=\"dotted\"))\n",
    "lines.append(Line2D([0], [0], color=\"C1\", linestyle=\"dashed\"))\n",
    "lines.append(Line2D([0], [0], color=\"C2\", linestyle=\"dashdot\"))\n",
    "labels = [\"ENMF\", \"LightGCN\", \"MultVAE\"]\n",
    "\n",
    "fig.legend(lines, labels, ncol=3, loc='upper center', bbox_to_anchor=(0.5, .99), fontsize=\"large\")\n",
    "fig.tight_layout()\n",
    "fig.subplots_adjust(top=.8, bottom=0.15, wspace=0.25)\n",
    "fig.align_ylabels([ax1, ax2, ax3])\n",
    "plt.savefig(\"plots/delta_pl.png\", dpi=300)"
   ],
   "metadata": {
    "collapsed": false,
    "ExecuteTime": {
     "end_time": "2023-10-24T13:48:54.809324300Z",
     "start_time": "2023-10-24T13:48:52.353715900Z"
    }
   }
  },
  {
   "cell_type": "code",
   "execution_count": 77,
   "outputs": [],
   "source": [
    "%matplotlib qt\n",
    "\n",
    "def f(x):\n",
    "    return x\n",
    "\n",
    "all_eps = [0.01, 0.1, 1, 2, 3, 4, 5]\n",
    "\n",
    "fig = plt.figure(figsize=(10, 4))\n",
    "ax1 = plt.subplot2grid(shape=(1,3), loc=(0,0), fig=fig)\n",
    "ax2 = plt.subplot2grid((1,3), (0,1))\n",
    "ax3 = plt.subplot2grid((1,3), (0,2))\n",
    "\n",
    "ax1.axhline(y=0, linestyle=\"dashed\", c=\"gray\")\n",
    "ax2.axhline(y=0, linestyle=\"dashed\", c=\"gray\")\n",
    "ax3.axhline(y=0, linestyle=\"dashed\", c=\"gray\")\n",
    "\n",
    "ax1.plot(all_eps, f(poplift_ml[\"ENMF\"][::-1][1:]), color=\"C0\", linewidth=3, linestyle=\"dotted\")\n",
    "ax1.plot(all_eps, f(poplift_ml[\"LightGCN\"][::-1][1:]), color=\"C1\", linewidth=3, linestyle=\"dashed\")\n",
    "ax1.plot(all_eps, f(poplift_ml[\"MultiVAE\"][::-1][1:]), color=\"C2\", linewidth=3, linestyle=\"dashdot\")\n",
    "ax1.invert_xaxis()\n",
    "\n",
    "ax2.plot(all_eps, f(poplift_lfm[\"ENMF\"][::-1][1:]), color=\"C0\", linewidth=3, linestyle=\"dotted\")\n",
    "ax2.plot(all_eps, f(poplift_lfm[\"LightGCN\"][::-1][1:]), color=\"C1\", linewidth=3, linestyle=\"dashed\")\n",
    "ax2.plot(all_eps, f(poplift_lfm[\"MultiVAE\"][::-1][1:]), color=\"C2\", linewidth=3, linestyle=\"dashdot\")\n",
    "ax2.invert_xaxis()\n",
    "\n",
    "ax3.plot(all_eps, f(poplift_amazon[\"ENMF\"][::-1][1:]), color=\"C0\", linewidth=3, linestyle=\"dotted\")\n",
    "ax3.plot(all_eps, f(poplift_amazon[\"LightGCN\"][::-1][1:]), color=\"C1\", linewidth=3, linestyle=\"dashed\")\n",
    "ax3.plot(all_eps, f(poplift_amazon[\"MultiVAE\"][::-1][1:]), color=\"C2\", linewidth=3, linestyle=\"dashdot\")\n",
    "ax3.invert_xaxis()\n",
    "\n",
    "ax1.set_ylabel(r\"$PopLift$\", fontsize=\"large\")\n",
    "ax1.set_xlabel(r\"Privacy Budget $\\epsilon$\", fontsize=\"large\")\n",
    "ax2.set_xlabel(r\"Privacy Budget $\\epsilon$\", fontsize=\"large\")\n",
    "ax3.set_xlabel(r\"Privacy Budget $\\epsilon$\", fontsize=\"large\")\n",
    "\n",
    "ax1.set_title(r\"\\emph{MovieLens 1M}\")\n",
    "ax2.set_title(r\"\\emph{LastFM User Groups}\")\n",
    "ax3.set_title(r\"\\emph{Grocery \\& Gourmet}\")\n",
    "\n",
    "ax1.yaxis.set_minor_locator(AutoMinorLocator())\n",
    "ax2.yaxis.set_minor_locator(AutoMinorLocator())\n",
    "ax3.yaxis.set_minor_locator(AutoMinorLocator())\n",
    "\n",
    "ax1.xaxis.set_minor_locator(AutoMinorLocator())\n",
    "ax2.xaxis.set_minor_locator(AutoMinorLocator())\n",
    "ax3.xaxis.set_minor_locator(AutoMinorLocator())\n",
    "\n",
    "lines = []\n",
    "lines.append(Line2D([0], [0], color=\"C0\", linestyle=\"dotted\"))\n",
    "lines.append(Line2D([0], [0], color=\"C1\", linestyle=\"dashed\"))\n",
    "lines.append(Line2D([0], [0], color=\"C2\", linestyle=\"dashdot\"))\n",
    "labels = [\"ENMF\", \"LightGCN\", \"MultVAE\"]\n",
    "\n",
    "fig.legend(lines, labels, ncol=3, loc='upper center', bbox_to_anchor=(0.5, .99), fontsize=\"large\")\n",
    "fig.tight_layout()\n",
    "fig.subplots_adjust(top=.8, bottom=0.15, wspace=0.25)\n",
    "fig.align_ylabels([ax1, ax2, ax3])\n",
    "plt.savefig(\"plots/pl.png\", dpi=300)"
   ],
   "metadata": {
    "collapsed": false,
    "ExecuteTime": {
     "end_time": "2023-10-24T11:24:34.701524Z",
     "start_time": "2023-10-24T11:24:33.593429900Z"
    }
   }
  },
  {
   "cell_type": "code",
   "execution_count": null,
   "outputs": [],
   "source": [],
   "metadata": {
    "collapsed": false
   }
  }
 ],
 "metadata": {
  "kernelspec": {
   "display_name": "Python 3",
   "language": "python",
   "name": "python3"
  },
  "language_info": {
   "codemirror_mode": {
    "name": "ipython",
    "version": 2
   },
   "file_extension": ".py",
   "mimetype": "text/x-python",
   "name": "python",
   "nbconvert_exporter": "python",
   "pygments_lexer": "ipython2",
   "version": "2.7.6"
  }
 },
 "nbformat": 4,
 "nbformat_minor": 0
}
