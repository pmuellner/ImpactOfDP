{
 "cells": [
  {
   "cell_type": "code",
   "execution_count": 370,
   "outputs": [],
   "source": [
    "import pickle as pl\n",
    "import pandas as pd\n",
    "import numpy as np\n",
    "import matplotlib.pyplot as plt\n",
    "import os\n",
    "from matplotlib.lines import Line2D"
   ],
   "metadata": {
    "collapsed": false,
    "ExecuteTime": {
     "end_time": "2023-10-09T11:05:20.472460800Z",
     "start_time": "2023-10-09T11:05:20.462657200Z"
    }
   }
  },
  {
   "cell_type": "code",
   "execution_count": null,
   "outputs": [],
   "source": [],
   "metadata": {
    "collapsed": false
   }
  },
  {
   "cell_type": "code",
   "execution_count": null,
   "outputs": [],
   "source": [],
   "metadata": {
    "collapsed": false
   }
  },
  {
   "cell_type": "code",
   "execution_count": 346,
   "outputs": [],
   "source": [
    "def jaccard_distance(x, y):\n",
    "    return 1 - len(set(x).intersection(y)) / len(set(x).union(y))\n",
    "\n",
    "def results_per_group(results, group=None):\n",
    "    if group is None:\n",
    "        return np.mean([np.mean([results_f[uid] for uid in results_f]) for idx, results_f in enumerate(results)])\n",
    "    else:\n",
    "        return np.mean([np.mean([results_f[uid] for uid in group if uid in results_f]) for idx, results_f in enumerate(results)])\n",
    "\n",
    "def recgap(x, y):\n",
    "    return np.abs(np.array(x) - np.array(y))\n",
    "\n",
    "def _gap(recommendation_list, item_popularity, user_profile_popularity):\n",
    "    arp = np.mean([item_popularity.loc[str(iid)] for iid in recommendation_list])\n",
    "    return (arp - user_profile_popularity) / user_profile_popularity\n",
    "\n",
    "def _compute_gap(dirpath, item_popularity, user_profile_popularity, impacted_users=None):\n",
    "    files = sort_files(dirpath)\n",
    "    gaps = []\n",
    "    for idx, file in enumerate(files):\n",
    "        with open(dirpath + \"/\" + file, \"rb\") as f:\n",
    "            recommendation_list = pl.load(f)\n",
    "        if impacted_users is not None:\n",
    "            gap = dict()\n",
    "            for uid, recs in recommendation_list.items():\n",
    "                if uid not in impacted_users[idx]:\n",
    "                    continue\n",
    "                gap[uid] = _gap(recommendation_list=recs, item_popularity=item_popularity, user_profile_popularity=user_profile_popularity[uid])\n",
    "            gaps.append(gap)\n",
    "        else:\n",
    "            gap = dict()\n",
    "            for uid, recs in recommendation_list.items():\n",
    "                gap[uid] = _gap(recommendation_list=recs, item_popularity=item_popularity, user_profile_popularity=user_profile_popularity[uid])\n",
    "            gaps.append(gap)\n",
    "\n",
    "    return gaps\n",
    "\n",
    "def sort_files(path):\n",
    "    base, dataset_name, model_name, eps = path.split(sep=\"/\")\n",
    "    files = []\n",
    "    for file in os.listdir(path):\n",
    "        if file.endswith(\".pkl\"):\n",
    "            files.append(file)\n",
    "\n",
    "    LEN_PREFIX = len(model_name)+1\n",
    "    LEN_SUFFIX = len(\".pkl\")\n",
    "    timestamps = [filename[LEN_PREFIX:-LEN_SUFFIX] for filename in files]\n",
    "    sorted_timestamps = sorted(timestamps)\n",
    "    sorted_files = [model_name + \"-\" + timestamp + \".pkl\" for timestamp in sorted_timestamps]\n",
    "\n",
    "    return sorted_files\n",
    "\n",
    "def _compute_metrics(recommendation_list, item_popularity, groundtruth, impacted_users=None):\n",
    "    cut = int(len(item_popularity) * 0.8)\n",
    "    tail_items = set(item_popularity.sort_values(ascending=True).iloc[:cut].index.tolist())\n",
    "\n",
    "    recall, ndcg, arp, aft = dict(), dict(), dict(), dict()\n",
    "    for uid, recs in recommendation_list.items():\n",
    "        if impacted_users is not None:\n",
    "            if uid not in impacted_users:\n",
    "                continue\n",
    "\n",
    "        recall[uid] = len(groundtruth.loc[uid].intersection([str(iid) for iid in recs])) / len(groundtruth.loc[uid])\n",
    "\n",
    "        dcg = 0.0\n",
    "        idcg = 0.0\n",
    "        for pos in range(1, len(recs)+1):\n",
    "            item_at_i = str(recs[pos-1])\n",
    "            rel_i = item_at_i in groundtruth.loc[uid]\n",
    "            dcg += rel_i / np.log2(pos + 1)\n",
    "            idcg += 1 / np.log2(pos + 1)\n",
    "        ndcg[uid] = dcg / idcg\n",
    "        arp[uid] = np.mean([item_popularity.loc[str(item_id)] for item_id in recs])\n",
    "        aft[uid] = len(tail_items.intersection([str(iid) for iid in recs])) / len(recs)\n",
    "\n",
    "\n",
    "    return recall, ndcg, arp, aft\n",
    "\n",
    "\n",
    "def _analyze_recommendations(dirpath, item_popularity, groundtruth, impacted_users=None):\n",
    "    files = sort_files(dirpath)\n",
    "    recalls, ndcgs, arps, afts = [], [], [], []\n",
    "    for idx, file in enumerate(files):\n",
    "        with open(dirpath + \"/\" + file, \"rb\") as f:\n",
    "            recommendation_list = pl.load(f)\n",
    "        if impacted_users is not None:\n",
    "            recall, ndcg, arp, aft = _compute_metrics(recommendation_list, item_popularity, groundtruth, impacted_users=impacted_users[idx])\n",
    "        else:\n",
    "            recall, ndcg, arp, aft = _compute_metrics(recommendation_list, item_popularity, groundtruth)\n",
    "\n",
    "        recalls.append(recall)\n",
    "        ndcgs.append(ndcg)\n",
    "        arps.append(arp)\n",
    "        afts.append(aft)\n",
    "\n",
    "    return recalls, ndcgs, arps, afts\n",
    "\n",
    "def _get_impacted_users(dirpath_nodp, dirpath_dp):\n",
    "    files_nodp = sort_files(dirpath_nodp)\n",
    "    files_dp = sort_files(dirpath_dp)\n",
    "\n",
    "    impacted_users, frac_impacted_users, avg_dist = [], [], []\n",
    "    for file_nodp, file_dp in zip(files_nodp, files_dp):\n",
    "        with open(dirpath_nodp + \"/\" + file_nodp, \"rb\") as f:\n",
    "            recommendation_list_nodp = pl.load(f)\n",
    "\n",
    "        with open(dirpath_dp + \"/\" + file_dp, \"rb\") as f:\n",
    "            recommendation_list_dp = pl.load(f)\n",
    "\n",
    "        impacted_users_f, dist_f = [], []\n",
    "        for uid, recs_dp in recommendation_list_dp.items():\n",
    "            recs_nodp = recommendation_list_nodp[uid]\n",
    "\n",
    "            dist = jaccard_distance(recs_nodp, recs_dp)\n",
    "            if dist > 0:\n",
    "                impacted_users_f.append(uid)\n",
    "                dist_f.append(dist)\n",
    "\n",
    "        frac_impacted_users.append(len(impacted_users_f) / len(recommendation_list_dp))\n",
    "        impacted_users.append(impacted_users_f)\n",
    "        dist_f = dist_f if len(dist_f) > 0 else 0\n",
    "        avg_dist.append(np.mean(np.nanmean(dist_f)))\n",
    "    return impacted_users, np.mean(frac_impacted_users), np.mean(avg_dist)\n",
    "\n",
    "\n"
   ],
   "metadata": {
    "collapsed": false,
    "ExecuteTime": {
     "end_time": "2023-10-09T10:47:28.339581700Z",
     "start_time": "2023-10-09T10:47:28.330549500Z"
    }
   }
  },
  {
   "cell_type": "code",
   "execution_count": 347,
   "outputs": [],
   "source": [
    "def analyze(dataset_name, model_name, groundtruth, item_popularity):\n",
    "    dir = \"saved/\" + dataset_name + \"/\" + model_name + \"/\"\n",
    "    results_nodp = _analyze_recommendations(dirpath=dir + \"nodp\", item_popularity=item_popularity, groundtruth=groundtruth)\n",
    "    recall_nodp, ndcg_nodp, arp_nodp, aft_nodp = results_nodp\n",
    "\n",
    "    print(\"No DP: %.4f (recall), %.4f (ndcg), %.4f (arp), %.4f (aft)\" % (results_per_group(recall_nodp), results_per_group(ndcg_nodp), results_per_group(arp_nodp), results_per_group(aft_nodp)))\n",
    "\n",
    "\n",
    "    delta_recall, delta_ndcg, delta_arp, delta_aft = [], [], [], []\n",
    "    percentage_impacted_users, average_jaccard_distance = [], []\n",
    "    for eps in [0.001, 0.005, 0.01, 0.05, 0.1, 0.5, 1, 2, 3, 4, 5, 10][::-1]:\n",
    "    #for eps in [0.001, 0.005, 0.01, 0.05, 0.1, 0.5, 1][::-1]:\n",
    "        users, frac_impacted, jacc = _get_impacted_users(dirpath_nodp=dir + \"nodp\", dirpath_dp=dir + \"e\" + str(eps))\n",
    "\n",
    "        results_eps = _analyze_recommendations(dirpath=dir + \"e\" + str(eps), item_popularity=item_popularity, groundtruth=groundtruth, impacted_users=users)\n",
    "        recall_eps, ndcg_eps, arp_eps, aft_eps = results_eps\n",
    "\n",
    "        delta_recall_eps, delta_ndcg_eps, delta_arp_eps, delta_aft_eps = [], [], [], []\n",
    "        for file_idx in range(len(users)):\n",
    "            intersection = set(recall_nodp[file_idx].keys()).intersection(recall_eps[file_idx].keys())\n",
    "            delta_recall_eps_f, delta_ndcg_eps_f, delta_arp_eps_f, delta_aft_eps_f = [], [], [], []\n",
    "            \"\"\"for uid in intersection:\n",
    "                delta_recall_eps_f.append((recall_eps[file_idx][uid]))\n",
    "                delta_ndcg_eps_f.append((ndcg_eps[file_idx][uid]))\n",
    "                delta_arp_eps_f.append((arp_eps[file_idx][uid]))\n",
    "                delta_aft_eps_f.append((aft_eps[file_idx][uid]))\n",
    "            delta_recall_eps.append(np.nanmean(delta_recall_eps_f))\n",
    "            delta_ndcg_eps.append(np.nanmean(delta_ndcg_eps_f))\n",
    "            delta_arp_eps.append(np.nanmean(delta_arp_eps_f))\n",
    "            delta_aft_eps.append(np.nanmean(delta_aft_eps_f))\"\"\"\n",
    "            for uid in intersection:\n",
    "                delta_recall_eps_f.append((recall_eps[file_idx][uid] - recall_nodp[file_idx][uid]) / recall_nodp[file_idx][uid] if recall_nodp[file_idx][uid] != 0 else np.nan)\n",
    "                delta_ndcg_eps_f.append((ndcg_eps[file_idx][uid] - ndcg_nodp[file_idx][uid]) / ndcg_nodp[file_idx][uid] if ndcg_nodp[file_idx][uid] != 0 else np.nan)\n",
    "                delta_arp_eps_f.append((arp_eps[file_idx][uid] - arp_nodp[file_idx][uid]) / arp_nodp[file_idx][uid] if arp_nodp[file_idx][uid] != 0 else np.nan)\n",
    "                delta_aft_eps_f.append((aft_eps[file_idx][uid] - aft_nodp[file_idx][uid]) / aft_nodp[file_idx][uid] if aft_nodp[file_idx][uid] != 0 else np.nan)\n",
    "            delta_recall_eps.append(100 * np.nanmean(delta_recall_eps_f))\n",
    "            delta_ndcg_eps.append(100 * np.nanmean(delta_ndcg_eps_f))\n",
    "            delta_arp_eps.append(100 * np.nanmean(delta_arp_eps_f))\n",
    "            delta_aft_eps.append(100 * np.nanmean(delta_aft_eps_f))\n",
    "\n",
    "        delta_recall.append(np.mean(delta_recall_eps))\n",
    "        delta_ndcg.append(np.mean(delta_ndcg_eps))\n",
    "        delta_arp.append(np.mean(delta_arp_eps))\n",
    "        delta_aft.append(np.mean(delta_aft_eps))\n",
    "\n",
    "        percentage_impacted_users.append(100 * frac_impacted)\n",
    "        average_jaccard_distance.append(jacc)\n",
    "\n",
    "        print(\"eps: %f -> %f%% (recall), %f%% (ndcg), %f%% (arp), %f%% (aft), %f (No. Users), %f (Jacc)\" % (\n",
    "            eps, delta_recall[-1], delta_ndcg[-1], delta_arp[-1], delta_aft[-1], percentage_impacted_users[-1], average_jaccard_distance[-1]))\n",
    "    print()\n",
    "    return delta_recall, delta_ndcg, delta_arp, delta_aft, percentage_impacted_users, average_jaccard_distance"
   ],
   "metadata": {
    "collapsed": false,
    "ExecuteTime": {
     "end_time": "2023-10-09T10:47:31.256356800Z",
     "start_time": "2023-10-09T10:47:31.246538500Z"
    }
   }
  },
  {
   "cell_type": "code",
   "execution_count": 348,
   "outputs": [],
   "source": [
    "dataset_name = \"ml-1m\"\n",
    "\n",
    "test_df = pd.read_csv(\"dataset/\" + dataset_name + \"/\" + dataset_name + \".test.inter\", sep=\"\\t\")\n",
    "test_df.rename(columns={\"user_id:token\": \"user_id\", \"item_id:token\": \"item_id\"}, inplace=True)\n",
    "test_df[\"user_id\"] = test_df[\"user_id\"].astype(str)\n",
    "test_df[\"item_id\"] = test_df[\"item_id\"].astype(str)\n",
    "\n",
    "groundtruth = test_df.groupby(\"user_id\")[\"item_id\"].apply(set)\n",
    "\n",
    "df = pd.read_csv(\"dataset/\" + dataset_name + \"/\" + dataset_name + \".inter\", sep=\"\\t\")\n",
    "df.rename(columns={\"user_id:token\": \"user_id\", \"item_id:token\": \"item_id\"}, inplace=True)\n",
    "df[\"user_id\"] = df[\"user_id\"].astype(str)\n",
    "df[\"item_id\"] = df[\"item_id\"].astype(str)\n",
    "item_popularity = df.groupby(\"item_id\").size() / df[\"user_id\"].nunique()"
   ],
   "metadata": {
    "collapsed": false,
    "ExecuteTime": {
     "end_time": "2023-10-09T10:47:33.311849800Z",
     "start_time": "2023-10-09T10:47:31.601770500Z"
    }
   }
  },
  {
   "cell_type": "code",
   "execution_count": 250,
   "outputs": [],
   "source": [],
   "metadata": {
    "collapsed": false,
    "ExecuteTime": {
     "end_time": "2023-10-06T07:03:45.330075400Z",
     "start_time": "2023-10-06T07:03:45.316908100Z"
    }
   }
  },
  {
   "cell_type": "code",
   "execution_count": 349,
   "outputs": [
    {
     "name": "stdout",
     "output_type": "stream",
     "text": [
      "No DP: 0.0829 (recall), 0.1046 (ndcg), 0.3604 (arp), 0.0184 (aft)\n",
      "eps: 10.000000 -> -3.631199% (recall), -0.428589% (ndcg), -8.088923% (arp), 24.401606% (aft), 97.100249 (No. Users), 0.485687 (Jacc)\n",
      "eps: 5.000000 -> -3.460489% (recall), 0.616504% (ndcg), -5.153766% (arp), 12.799995% (aft), 97.507871 (No. Users), 0.477427 (Jacc)\n",
      "eps: 4.000000 -> -8.528152% (recall), -3.729028% (ndcg), 11.924313% (arp), -30.709787% (aft), 97.948633 (No. Users), 0.556831 (Jacc)\n",
      "eps: 3.000000 -> -11.777509% (recall), -9.270416% (ndcg), 14.078174% (arp), -25.235965% (aft), 95.383596 (No. Users), 0.480277 (Jacc)\n",
      "eps: 2.000000 -> -8.450776% (recall), -4.571917% (ndcg), 1.085685% (arp), -37.886951% (aft), 99.048882 (No. Users), 0.552953 (Jacc)\n",
      "eps: 1.000000 -> -15.545203% (recall), -10.900215% (ndcg), 27.536806% (arp), -76.998883% (aft), 99.728252 (No. Users), 0.661263 (Jacc)\n",
      "eps: 0.500000 -> -19.766536% (recall), -15.264939% (ndcg), 27.085856% (arp), -85.377380% (aft), 99.864126 (No. Users), 0.676949 (Jacc)\n",
      "eps: 0.100000 -> -23.326152% (recall), -19.242249% (ndcg), 36.997462% (arp), -79.222209% (aft), 99.937034 (No. Users), 0.704969 (Jacc)\n",
      "eps: 0.050000 -> -24.133213% (recall), -20.439252% (ndcg), 37.927179% (arp), -89.447084% (aft), 99.151616 (No. Users), 0.673250 (Jacc)\n",
      "eps: 0.010000 -> -24.015004% (recall), -19.327847% (ndcg), 38.823574% (arp), -77.672463% (aft), 99.960232 (No. Users), 0.715238 (Jacc)\n",
      "eps: 0.005000 -> -24.486603% (recall), -20.201342% (ndcg), 38.459897% (arp), -90.403916% (aft), 99.893952 (No. Users), 0.698250 (Jacc)\n",
      "eps: 0.001000 -> -23.323350% (recall), -19.112011% (ndcg), 39.774534% (arp), -86.787869% (aft), 99.893952 (No. Users), 0.687178 (Jacc)\n",
      "\n",
      "No DP: 0.0886 (recall), 0.1079 (ndcg), 0.2971 (arp), 0.0342 (aft)\n",
      "eps: 10.000000 -> -4.528412% (recall), -1.399034% (ndcg), 1.986348% (arp), -13.164209% (aft), 98.637945 (No. Users), 0.455638 (Jacc)\n",
      "eps: 5.000000 -> -5.141515% (recall), -1.398983% (ndcg), 3.497633% (arp), -23.298547% (aft), 98.671085 (No. Users), 0.459728 (Jacc)\n",
      "eps: 4.000000 -> -5.035714% (recall), -0.764730% (ndcg), 9.542596% (arp), -38.699139% (aft), 98.942833 (No. Users), 0.479831 (Jacc)\n",
      "eps: 3.000000 -> -7.540429% (recall), -3.393356% (ndcg), 6.153795% (arp), -28.662403% (aft), 99.400166 (No. Users), 0.513853 (Jacc)\n",
      "eps: 2.000000 -> -10.617668% (recall), -5.307657% (ndcg), 18.557577% (arp), -65.746435% (aft), 99.758078 (No. Users), 0.586618 (Jacc)\n",
      "eps: 1.000000 -> -16.627107% (recall), -9.334463% (ndcg), 36.185501% (arp), -79.405211% (aft), 99.946976 (No. Users), 0.699024 (Jacc)\n",
      "eps: 0.500000 -> -20.603188% (recall), -12.883770% (ndcg), 57.667833% (arp), -95.845914% (aft), 99.976802 (No. Users), 0.769134 (Jacc)\n",
      "eps: 0.100000 -> -27.052638% (recall), -18.611963% (ndcg), 59.904598% (arp), -92.286391% (aft), 99.996686 (No. Users), 0.806653 (Jacc)\n",
      "eps: 0.050000 -> -30.090808% (recall), -22.851660% (ndcg), 71.029621% (arp), -94.571988% (aft), 100.000000 (No. Users), 0.833124 (Jacc)\n",
      "eps: 0.010000 -> -28.328423% (recall), -20.813940% (ndcg), 72.281057% (arp), -96.526168% (aft), 100.000000 (No. Users), 0.832757 (Jacc)\n",
      "eps: 0.005000 -> -29.698302% (recall), -22.336572% (ndcg), 70.312622% (arp), -94.446896% (aft), 99.990058 (No. Users), 0.828183 (Jacc)\n",
      "eps: 0.001000 -> -29.449910% (recall), -21.595923% (ndcg), 74.635872% (arp), -98.599970% (aft), 100.000000 (No. Users), 0.838005 (Jacc)\n",
      "\n",
      "No DP: 0.0947 (recall), 0.1143 (ndcg), 0.2891 (arp), 0.0444 (aft)\n",
      "eps: 10.000000 -> -3.733651% (recall), -2.179860% (ndcg), 4.772398% (arp), -26.376768% (aft), 94.458989 (No. Users), 0.366500 (Jacc)\n",
      "eps: 5.000000 -> -4.211436% (recall), -1.620154% (ndcg), 3.476433% (arp), -12.030891% (aft), 97.650373 (No. Users), 0.451640 (Jacc)\n",
      "eps: 4.000000 -> -5.148052% (recall), -1.274701% (ndcg), 9.668111% (arp), -36.137038% (aft), 98.376139 (No. Users), 0.500320 (Jacc)\n",
      "eps: 3.000000 -> -5.999582% (recall), -2.192071% (ndcg), 13.657815% (arp), -56.419211% (aft), 98.425849 (No. Users), 0.510727 (Jacc)\n",
      "eps: 2.000000 -> -14.299881% (recall), -9.234755% (ndcg), 31.053522% (arp), -70.688572% (aft), 99.284176 (No. Users), 0.609008 (Jacc)\n",
      "eps: 1.000000 -> -11.997048% (recall), -6.272781% (ndcg), 24.906491% (arp), -81.074709% (aft), 99.771334 (No. Users), 0.649796 (Jacc)\n",
      "eps: 0.500000 -> -23.102351% (recall), -16.063145% (ndcg), 60.761618% (arp), -94.888731% (aft), 99.903894 (No. Users), 0.761567 (Jacc)\n",
      "eps: 0.100000 -> -32.643638% (recall), -25.578153% (ndcg), 86.485038% (arp), -98.121060% (aft), 99.963546 (No. Users), 0.834486 (Jacc)\n",
      "eps: 0.050000 -> -30.392181% (recall), -23.410921% (ndcg), 76.885791% (arp), -96.761722% (aft), 99.983430 (No. Users), 0.817596 (Jacc)\n",
      "eps: 0.010000 -> -26.442212% (recall), -18.989222% (ndcg), 68.803509% (arp), -96.522206% (aft), 99.963546 (No. Users), 0.802449 (Jacc)\n",
      "eps: 0.005000 -> -35.626685% (recall), -28.336680% (ndcg), 95.270852% (arp), -99.738747% (aft), 99.996686 (No. Users), 0.860870 (Jacc)\n",
      "eps: 0.001000 -> -29.546626% (recall), -22.164870% (ndcg), 80.149655% (arp), -97.487234% (aft), 99.973488 (No. Users), 0.823656 (Jacc)\n",
      "\n",
      "No DP: 0.0939 (recall), 0.1053 (ndcg), 0.2930 (arp), 0.0346 (aft)\n",
      "eps: 10.000000 -> -3.985920% (recall), -0.796720% (ndcg), 3.904068% (arp), -22.508882% (aft), 97.189727 (No. Users), 0.438524 (Jacc)\n",
      "eps: 5.000000 -> -3.629960% (recall), -0.353081% (ndcg), 5.321374% (arp), -28.689414% (aft), 96.752278 (No. Users), 0.425609 (Jacc)\n",
      "eps: 4.000000 -> -4.509070% (recall), -0.867869% (ndcg), 5.694353% (arp), -32.850960% (aft), 97.587407 (No. Users), 0.448734 (Jacc)\n",
      "eps: 3.000000 -> -3.769558% (recall), -0.089143% (ndcg), 10.705469% (arp), -51.533141% (aft), 97.782933 (No. Users), 0.458579 (Jacc)\n",
      "eps: 2.000000 -> -6.031117% (recall), -0.948904% (ndcg), 17.653525% (arp), -70.209013% (aft), 98.767191 (No. Users), 0.502304 (Jacc)\n",
      "eps: 1.000000 -> -9.816560% (recall), -3.493086% (ndcg), 30.999011% (arp), -90.369664% (aft), 99.582436 (No. Users), 0.595301 (Jacc)\n",
      "eps: 0.500000 -> -13.930275% (recall), -6.377224% (ndcg), 37.595062% (arp), -94.437223% (aft), 99.880696 (No. Users), 0.657517 (Jacc)\n",
      "eps: 0.100000 -> -18.514342% (recall), -9.611068% (ndcg), 48.153412% (arp), -98.440351% (aft), 99.943662 (No. Users), 0.737356 (Jacc)\n",
      "eps: 0.050000 -> -21.586397% (recall), -13.933022% (ndcg), 47.781716% (arp), -97.872785% (aft), 99.946976 (No. Users), 0.737919 (Jacc)\n",
      "eps: 0.010000 -> -19.925904% (recall), -10.520321% (ndcg), 51.688684% (arp), -98.275451% (aft), 99.956918 (No. Users), 0.755629 (Jacc)\n",
      "eps: 0.005000 -> -20.587852% (recall), -11.716412% (ndcg), 51.464196% (arp), -98.513280% (aft), 99.963546 (No. Users), 0.754125 (Jacc)\n",
      "eps: 0.001000 -> -21.625360% (recall), -13.066730% (ndcg), 40.365776% (arp), -96.858895% (aft), 99.976802 (No. Users), 0.747874 (Jacc)\n",
      "\n"
     ]
    }
   ],
   "source": [
    "delta_recall, delta_ndcg, delta_arp, delta_aft = dict(), dict(), dict(), dict()\n",
    "no_users, jacc_dist = dict(), dict()\n",
    "\n",
    "recall, ndcg, arp, aft, impacted_users, jacc = analyze(dataset_name=dataset_name, model_name=\"BPR\", groundtruth=groundtruth, item_popularity=item_popularity)\n",
    "delta_recall[\"BPR\"] = recall\n",
    "delta_ndcg[\"BPR\"] = ndcg\n",
    "delta_arp[\"BPR\"] = arp\n",
    "delta_aft[\"BPR\"] = aft\n",
    "no_users[\"BPR\"] = impacted_users\n",
    "jacc_dist[\"BPR\"] = jacc\n",
    "\n",
    "recall, ndcg, arp, aft, impacted_users, jacc = analyze(dataset_name=dataset_name, model_name=\"NeuMF\", groundtruth=groundtruth, item_popularity=item_popularity)\n",
    "delta_recall[\"NeuMF\"] = recall\n",
    "delta_ndcg[\"NeuMF\"] = ndcg\n",
    "delta_arp[\"NeuMF\"] = arp\n",
    "delta_aft[\"NeuMF\"] = aft\n",
    "no_users[\"NeuMF\"] = impacted_users\n",
    "jacc_dist[\"NeuMF\"] = jacc\n",
    "\n",
    "recall, ndcg, arp, aft, impacted_users, jacc = analyze(dataset_name=dataset_name, model_name=\"LightGCN\", groundtruth=groundtruth, item_popularity=item_popularity)\n",
    "delta_recall[\"LightGCN\"] = recall\n",
    "delta_ndcg[\"LightGCN\"] = ndcg\n",
    "delta_arp[\"LightGCN\"] = arp\n",
    "delta_aft[\"LightGCN\"] = aft\n",
    "no_users[\"LightGCN\"] = impacted_users\n",
    "jacc_dist[\"LightGCN\"] = jacc\n",
    "\n",
    "recall, ndcg, arp, aft, impacted_users, jacc = analyze(dataset_name=dataset_name, model_name=\"MultiVAE\", groundtruth=groundtruth, item_popularity=item_popularity)\n",
    "delta_recall[\"MultiVAE\"] = recall\n",
    "delta_ndcg[\"MultiVAE\"] = ndcg\n",
    "delta_arp[\"MultiVAE\"] = arp\n",
    "delta_aft[\"MultiVAE\"] = aft\n",
    "no_users[\"MultiVAE\"] = impacted_users\n",
    "jacc_dist[\"MultiVAE\"] = jacc"
   ],
   "metadata": {
    "collapsed": false,
    "ExecuteTime": {
     "end_time": "2023-10-09T10:56:03.224888500Z",
     "start_time": "2023-10-09T10:47:36.517608Z"
    }
   }
  },
  {
   "cell_type": "code",
   "execution_count": 162,
   "outputs": [],
   "source": [
    "%matplotlib qt\n",
    "all_eps = [0.001, 0.005, 0.01, 0.05, 0.1, 0.5, 1, 2, 3, 4, 5, 10][::-1]\n",
    "#all_eps = [0.001, 0.005, 0.01, 0.05, 0.1, 0.5, 1][::-1]"
   ],
   "metadata": {
    "collapsed": false,
    "ExecuteTime": {
     "end_time": "2023-10-05T13:52:26.851881100Z",
     "start_time": "2023-10-05T13:52:26.044445200Z"
    }
   }
  },
  {
   "cell_type": "code",
   "execution_count": 166,
   "outputs": [
    {
     "data": {
      "text/plain": "<matplotlib.legend.Legend at 0x1f5016f8d90>"
     },
     "execution_count": 166,
     "metadata": {},
     "output_type": "execute_result"
    }
   ],
   "source": [
    "plt.plot(all_eps, delta_recall[\"BPR\"], label=\"BPR\")\n",
    "plt.plot(all_eps, delta_recall[\"NeuMF\"], label=\"NeuMF\")\n",
    "plt.plot(all_eps, delta_recall[\"MultiVAE\"], label=\"MultiVAE\")\n",
    "plt.plot(all_eps, delta_recall[\"LightGCN\"], label=\"LightGCN\")\n",
    "#plt.plot(all_eps, delta_recall[\"Pop\"], label=\"Pop\")\n",
    "plt.xlabel(r\"Privacy Budget $\\epsilon$\")\n",
    "plt.ylabel(r\"$\\Delta Recall$ in %\")\n",
    "plt.axhline(y=0, linestyle=\"dashed\", c=\"gray\")\n",
    "plt.gca().invert_xaxis()\n",
    "plt.legend()"
   ],
   "metadata": {
    "collapsed": false,
    "ExecuteTime": {
     "end_time": "2023-10-05T13:54:11.074613100Z",
     "start_time": "2023-10-05T13:54:10.972865300Z"
    }
   }
  },
  {
   "cell_type": "code",
   "execution_count": 206,
   "outputs": [
    {
     "ename": "KeyError",
     "evalue": "'BPR'",
     "output_type": "error",
     "traceback": [
      "\u001B[1;31m---------------------------------------------------------------------------\u001B[0m",
      "\u001B[1;31mKeyError\u001B[0m                                  Traceback (most recent call last)",
      "Cell \u001B[1;32mIn[206], line 1\u001B[0m\n\u001B[1;32m----> 1\u001B[0m plt\u001B[38;5;241m.\u001B[39mplot(all_eps, \u001B[43mdelta_ndcg\u001B[49m\u001B[43m[\u001B[49m\u001B[38;5;124;43m\"\u001B[39;49m\u001B[38;5;124;43mBPR\u001B[39;49m\u001B[38;5;124;43m\"\u001B[39;49m\u001B[43m]\u001B[49m, label\u001B[38;5;241m=\u001B[39m\u001B[38;5;124m\"\u001B[39m\u001B[38;5;124mBPR\u001B[39m\u001B[38;5;124m\"\u001B[39m)\n\u001B[0;32m      2\u001B[0m plt\u001B[38;5;241m.\u001B[39mplot(all_eps, delta_ndcg[\u001B[38;5;124m\"\u001B[39m\u001B[38;5;124mNeuMF\u001B[39m\u001B[38;5;124m\"\u001B[39m], label\u001B[38;5;241m=\u001B[39m\u001B[38;5;124m\"\u001B[39m\u001B[38;5;124mNeuMF\u001B[39m\u001B[38;5;124m\"\u001B[39m)\n\u001B[0;32m      3\u001B[0m plt\u001B[38;5;241m.\u001B[39mplot(all_eps, delta_ndcg[\u001B[38;5;124m\"\u001B[39m\u001B[38;5;124mMultiVAE\u001B[39m\u001B[38;5;124m\"\u001B[39m], label\u001B[38;5;241m=\u001B[39m\u001B[38;5;124m\"\u001B[39m\u001B[38;5;124mMultiVAE\u001B[39m\u001B[38;5;124m\"\u001B[39m)\n",
      "\u001B[1;31mKeyError\u001B[0m: 'BPR'"
     ]
    }
   ],
   "source": [
    "plt.plot(all_eps, delta_ndcg[\"BPR\"], label=\"BPR\")\n",
    "plt.plot(all_eps, delta_ndcg[\"NeuMF\"], label=\"NeuMF\")\n",
    "plt.plot(all_eps, delta_ndcg[\"MultiVAE\"], label=\"MultiVAE\")\n",
    "plt.plot(all_eps, delta_ndcg[\"LightGCN\"], label=\"LightGCN\")\n",
    "#plt.plot(all_eps, delta_ndcg[\"Pop\"], label=\"Pop\")\n",
    "plt.xlabel(r\"Privacy Budget $\\epsilon$\")\n",
    "plt.ylabel(r\"$\\Delta nDCG$ in %\")\n",
    "plt.axhline(y=0, linestyle=\"dashed\", c=\"gray\")\n",
    "plt.gca().invert_xaxis()\n",
    "plt.legend()"
   ],
   "metadata": {
    "collapsed": false,
    "ExecuteTime": {
     "end_time": "2023-10-05T14:15:24.251270900Z",
     "start_time": "2023-10-05T14:15:24.132271300Z"
    }
   }
  },
  {
   "cell_type": "code",
   "execution_count": 168,
   "outputs": [
    {
     "data": {
      "text/plain": "<matplotlib.legend.Legend at 0x1f5018f7400>"
     },
     "execution_count": 168,
     "metadata": {},
     "output_type": "execute_result"
    }
   ],
   "source": [
    "plt.plot(all_eps, delta_arp[\"BPR\"], label=\"BPR\")\n",
    "plt.plot(all_eps, delta_arp[\"NeuMF\"], label=\"NeuMF\")\n",
    "plt.plot(all_eps, delta_arp[\"MultiVAE\"], label=\"MultiVAE\")\n",
    "plt.plot(all_eps, delta_arp[\"LightGCN\"], label=\"LightGCN\")\n",
    "#plt.plot(all_eps, delta_arp[\"Pop\"], label=\"Pop\")\n",
    "plt.xlabel(r\"Privacy Budget $\\epsilon$\")\n",
    "plt.ylabel(r\"$\\Delta$ ARP in %\")\n",
    "plt.axhline(y=0, linestyle=\"dashed\", c=\"gray\")\n",
    "plt.gca().invert_xaxis()\n",
    "plt.legend()"
   ],
   "metadata": {
    "collapsed": false,
    "ExecuteTime": {
     "end_time": "2023-10-05T13:54:24.974948200Z",
     "start_time": "2023-10-05T13:54:24.894091700Z"
    }
   }
  },
  {
   "cell_type": "code",
   "execution_count": 169,
   "outputs": [
    {
     "data": {
      "text/plain": "<matplotlib.legend.Legend at 0x1f509cf6760>"
     },
     "execution_count": 169,
     "metadata": {},
     "output_type": "execute_result"
    }
   ],
   "source": [
    "plt.plot(all_eps, delta_aft[\"BPR\"], label=\"BPR\")\n",
    "plt.plot(all_eps, delta_aft[\"NeuMF\"], label=\"NeuMF\")\n",
    "plt.plot(all_eps, delta_aft[\"MultiVAE\"], label=\"MultiVAE\")\n",
    "plt.plot(all_eps, delta_aft[\"LightGCN\"], label=\"LightGCN\")\n",
    "#plt.plot(all_eps, delta_aft[\"Pop\"], label=\"Pop\")\n",
    "plt.xlabel(r\"Privacy Budget $\\epsilon$\")\n",
    "plt.ylabel(r\"$\\Delta$ AFT in %\")\n",
    "plt.axhline(y=0, linestyle=\"dashed\", c=\"gray\")\n",
    "plt.gca().invert_xaxis()\n",
    "plt.legend()"
   ],
   "metadata": {
    "collapsed": false,
    "ExecuteTime": {
     "end_time": "2023-10-05T13:54:35.335914Z",
     "start_time": "2023-10-05T13:54:35.265885300Z"
    }
   }
  },
  {
   "cell_type": "code",
   "execution_count": 170,
   "outputs": [
    {
     "data": {
      "text/plain": "<matplotlib.legend.Legend at 0x1f51a1a3d30>"
     },
     "execution_count": 170,
     "metadata": {},
     "output_type": "execute_result"
    }
   ],
   "source": [
    "plt.plot(all_eps, no_users[\"BPR\"], label=\"BPR\")\n",
    "plt.plot(all_eps, no_users[\"NeuMF\"], label=\"NeuMF\")\n",
    "plt.plot(all_eps, no_users[\"MultiVAE\"], label=\"MultiVAE\")\n",
    "plt.plot(all_eps, no_users[\"LightGCN\"], label=\"LightGCN\")\n",
    "#plt.plot(all_eps, no_users[\"Pop\"], label=\"Pop\")\n",
    "plt.xlabel(r\"Privacy Budget $\\epsilon$\")\n",
    "plt.ylabel(\"No. Users in %\")\n",
    "plt.gca().invert_xaxis()\n",
    "plt.legend()"
   ],
   "metadata": {
    "collapsed": false,
    "ExecuteTime": {
     "end_time": "2023-10-05T13:54:47.888622100Z",
     "start_time": "2023-10-05T13:54:47.794469700Z"
    }
   }
  },
  {
   "cell_type": "code",
   "execution_count": 171,
   "outputs": [
    {
     "data": {
      "text/plain": "<matplotlib.legend.Legend at 0x1f509c6c520>"
     },
     "execution_count": 171,
     "metadata": {},
     "output_type": "execute_result"
    }
   ],
   "source": [
    "plt.plot(all_eps, jacc_dist[\"BPR\"], label=\"BPR\")\n",
    "plt.plot(all_eps, jacc_dist[\"NeuMF\"], label=\"NeuMF\")\n",
    "plt.plot(all_eps, jacc_dist[\"MultiVAE\"], label=\"MultiVAE\")\n",
    "plt.plot(all_eps, jacc_dist[\"LightGCN\"], label=\"LightGCN\")\n",
    "#plt.plot(all_eps, jacc_dist[\"Pop\"], label=\"Pop\")\n",
    "plt.xlabel(r\"Privacy Budget $\\epsilon$\")\n",
    "plt.ylabel(\"Avg. Jaccard Distance\")\n",
    "plt.gca().invert_xaxis()\n",
    "plt.legend()"
   ],
   "metadata": {
    "collapsed": false,
    "ExecuteTime": {
     "end_time": "2023-10-05T13:55:02.136571100Z",
     "start_time": "2023-10-05T13:55:02.064482500Z"
    }
   }
  },
  {
   "cell_type": "code",
   "execution_count": null,
   "outputs": [],
   "source": [],
   "metadata": {
    "collapsed": false
   }
  },
  {
   "cell_type": "code",
   "execution_count": 382,
   "outputs": [
    {
     "name": "stdout",
     "output_type": "stream",
     "text": [
      "No DP: 0.0886 (recall), 0.1079 (ndcg), 0.2971 (arp), 0.0342 (aft)\n",
      "eps: 10.000000 -> -4.528412% (recall), -1.399034% (ndcg), 1.986348% (arp), -13.164209% (aft), 98.637945 (No. Users), 0.455638 (Jacc)\n",
      "eps: 5.000000 -> -5.141515% (recall), -1.398983% (ndcg), 3.497633% (arp), -23.298547% (aft), 98.671085 (No. Users), 0.459728 (Jacc)\n",
      "eps: 4.000000 -> -5.035714% (recall), -0.764730% (ndcg), 9.542596% (arp), -38.699139% (aft), 98.942833 (No. Users), 0.479831 (Jacc)\n",
      "eps: 3.000000 -> -7.540429% (recall), -3.393356% (ndcg), 6.153795% (arp), -28.662403% (aft), 99.400166 (No. Users), 0.513853 (Jacc)\n",
      "eps: 2.000000 -> -10.617668% (recall), -5.307657% (ndcg), 18.557577% (arp), -65.746435% (aft), 99.758078 (No. Users), 0.586618 (Jacc)\n",
      "eps: 1.000000 -> -16.627107% (recall), -9.334463% (ndcg), 36.185501% (arp), -79.405211% (aft), 99.946976 (No. Users), 0.699024 (Jacc)\n",
      "eps: 0.500000 -> -20.603188% (recall), -12.883770% (ndcg), 57.667833% (arp), -95.845914% (aft), 99.976802 (No. Users), 0.769134 (Jacc)\n",
      "eps: 0.100000 -> -27.052638% (recall), -18.611963% (ndcg), 59.904598% (arp), -92.286391% (aft), 99.996686 (No. Users), 0.806653 (Jacc)\n",
      "eps: 0.050000 -> -30.090808% (recall), -22.851660% (ndcg), 71.029621% (arp), -94.571988% (aft), 100.000000 (No. Users), 0.833124 (Jacc)\n",
      "eps: 0.010000 -> -28.328423% (recall), -20.813940% (ndcg), 72.281057% (arp), -96.526168% (aft), 100.000000 (No. Users), 0.832757 (Jacc)\n",
      "eps: 0.005000 -> -29.698302% (recall), -22.336572% (ndcg), 70.312622% (arp), -94.446896% (aft), 99.990058 (No. Users), 0.828183 (Jacc)\n",
      "eps: 0.001000 -> -29.449910% (recall), -21.595923% (ndcg), 74.635872% (arp), -98.599970% (aft), 100.000000 (No. Users), 0.838005 (Jacc)\n",
      "\n",
      "No DP: 0.0947 (recall), 0.1143 (ndcg), 0.2891 (arp), 0.0444 (aft)\n",
      "eps: 10.000000 -> -3.733651% (recall), -2.179860% (ndcg), 4.772398% (arp), -26.376768% (aft), 94.458989 (No. Users), 0.366500 (Jacc)\n",
      "eps: 5.000000 -> -4.211436% (recall), -1.620154% (ndcg), 3.476433% (arp), -12.030891% (aft), 97.650373 (No. Users), 0.451640 (Jacc)\n",
      "eps: 4.000000 -> -5.148052% (recall), -1.274701% (ndcg), 9.668111% (arp), -36.137038% (aft), 98.376139 (No. Users), 0.500320 (Jacc)\n",
      "eps: 3.000000 -> -5.999582% (recall), -2.192071% (ndcg), 13.657815% (arp), -56.419211% (aft), 98.425849 (No. Users), 0.510727 (Jacc)\n",
      "eps: 2.000000 -> -14.299881% (recall), -9.234755% (ndcg), 31.053522% (arp), -70.688572% (aft), 99.284176 (No. Users), 0.609008 (Jacc)\n",
      "eps: 1.000000 -> -11.997048% (recall), -6.272781% (ndcg), 24.906491% (arp), -81.074709% (aft), 99.771334 (No. Users), 0.649796 (Jacc)\n",
      "eps: 0.500000 -> -23.102351% (recall), -16.063145% (ndcg), 60.761618% (arp), -94.888731% (aft), 99.903894 (No. Users), 0.761567 (Jacc)\n",
      "eps: 0.100000 -> -32.643638% (recall), -25.578153% (ndcg), 86.485038% (arp), -98.121060% (aft), 99.963546 (No. Users), 0.834486 (Jacc)\n",
      "eps: 0.050000 -> -30.392181% (recall), -23.410921% (ndcg), 76.885791% (arp), -96.761722% (aft), 99.983430 (No. Users), 0.817596 (Jacc)\n",
      "eps: 0.010000 -> -26.442212% (recall), -18.989222% (ndcg), 68.803509% (arp), -96.522206% (aft), 99.963546 (No. Users), 0.802449 (Jacc)\n",
      "eps: 0.005000 -> -35.626685% (recall), -28.336680% (ndcg), 95.270852% (arp), -99.738747% (aft), 99.996686 (No. Users), 0.860870 (Jacc)\n",
      "eps: 0.001000 -> -29.546626% (recall), -22.164870% (ndcg), 80.149655% (arp), -97.487234% (aft), 99.973488 (No. Users), 0.823656 (Jacc)\n",
      "\n",
      "No DP: 0.0939 (recall), 0.1053 (ndcg), 0.2930 (arp), 0.0346 (aft)\n",
      "eps: 10.000000 -> -3.985920% (recall), -0.796720% (ndcg), 3.904068% (arp), -22.508882% (aft), 97.189727 (No. Users), 0.438524 (Jacc)\n",
      "eps: 5.000000 -> -3.629960% (recall), -0.353081% (ndcg), 5.321374% (arp), -28.689414% (aft), 96.752278 (No. Users), 0.425609 (Jacc)\n",
      "eps: 4.000000 -> -4.509070% (recall), -0.867869% (ndcg), 5.694353% (arp), -32.850960% (aft), 97.587407 (No. Users), 0.448734 (Jacc)\n",
      "eps: 3.000000 -> -3.769558% (recall), -0.089143% (ndcg), 10.705469% (arp), -51.533141% (aft), 97.782933 (No. Users), 0.458579 (Jacc)\n",
      "eps: 2.000000 -> -6.031117% (recall), -0.948904% (ndcg), 17.653525% (arp), -70.209013% (aft), 98.767191 (No. Users), 0.502304 (Jacc)\n",
      "eps: 1.000000 -> -9.816560% (recall), -3.493086% (ndcg), 30.999011% (arp), -90.369664% (aft), 99.582436 (No. Users), 0.595301 (Jacc)\n",
      "eps: 0.500000 -> -13.930275% (recall), -6.377224% (ndcg), 37.595062% (arp), -94.437223% (aft), 99.880696 (No. Users), 0.657517 (Jacc)\n",
      "eps: 0.100000 -> -18.514342% (recall), -9.611068% (ndcg), 48.153412% (arp), -98.440351% (aft), 99.943662 (No. Users), 0.737356 (Jacc)\n",
      "eps: 0.050000 -> -21.586397% (recall), -13.933022% (ndcg), 47.781716% (arp), -97.872785% (aft), 99.946976 (No. Users), 0.737919 (Jacc)\n",
      "eps: 0.010000 -> -19.925904% (recall), -10.520321% (ndcg), 51.688684% (arp), -98.275451% (aft), 99.956918 (No. Users), 0.755629 (Jacc)\n",
      "eps: 0.005000 -> -20.587852% (recall), -11.716412% (ndcg), 51.464196% (arp), -98.513280% (aft), 99.963546 (No. Users), 0.754125 (Jacc)\n",
      "eps: 0.001000 -> -21.625360% (recall), -13.066730% (ndcg), 40.365776% (arp), -96.858895% (aft), 99.976802 (No. Users), 0.747874 (Jacc)\n",
      "\n",
      "No DP: 0.0469 (recall), 0.0288 (ndcg), 0.0509 (arp), 0.1103 (aft)\n",
      "eps: 10.000000 -> -38.623606% (recall), -31.249031% (ndcg), 50.073650% (arp), 2.135774% (aft), 100.000000 (No. Users), 0.797627 (Jacc)\n",
      "eps: 5.000000 -> -38.781963% (recall), -31.825247% (ndcg), 35.843232% (arp), 13.826448% (aft), 99.986496 (No. Users), 0.794647 (Jacc)\n",
      "eps: 4.000000 -> -36.735623% (recall), -30.768667% (ndcg), 51.269850% (arp), -4.157764% (aft), 99.993248 (No. Users), 0.793038 (Jacc)\n",
      "eps: 3.000000 -> -38.750261% (recall), -33.017256% (ndcg), 114.671200% (arp), -13.371433% (aft), 100.000000 (No. Users), 0.795054 (Jacc)\n",
      "eps: 2.000000 -> -47.152984% (recall), -42.756395% (ndcg), 156.638083% (arp), -29.455523% (aft), 99.993248 (No. Users), 0.812285 (Jacc)\n",
      "eps: 1.000000 -> -51.642994% (recall), -46.991699% (ndcg), 889.303766% (arp), -94.501223% (aft), 100.000000 (No. Users), 0.844667 (Jacc)\n",
      "eps: 0.500000 -> -54.108029% (recall), -50.101371% (ndcg), 821.356790% (arp), -92.581943% (aft), 100.000000 (No. Users), 0.847622 (Jacc)\n",
      "eps: 0.100000 -> -53.489668% (recall), -48.414427% (ndcg), 1034.953471% (arp), -100.000000% (aft), 99.993248 (No. Users), 0.845312 (Jacc)\n",
      "eps: 0.050000 -> -51.425690% (recall), -46.442253% (ndcg), 1043.826264% (arp), -100.000000% (aft), 100.000000 (No. Users), 0.838728 (Jacc)\n",
      "eps: 0.010000 -> -53.238755% (recall), -49.728849% (ndcg), 1020.425520% (arp), -100.000000% (aft), 100.000000 (No. Users), 0.851193 (Jacc)\n",
      "eps: 0.005000 -> -52.776465% (recall), -48.986442% (ndcg), 956.581473% (arp), -95.082969% (aft), 100.000000 (No. Users), 0.842921 (Jacc)\n",
      "eps: 0.001000 -> -51.447572% (recall), -47.266007% (ndcg), 1052.737693% (arp), -100.000000% (aft), 99.986496 (No. Users), 0.836556 (Jacc)\n",
      "\n",
      "No DP: 0.0750 (recall), 0.0486 (ndcg), 0.0497 (arp), 0.1003 (aft)\n",
      "eps: 10.000000 -> -8.520985% (recall), -7.546655% (ndcg), 16.505519% (arp), -4.622562% (aft), 91.870358 (No. Users), 0.352747 (Jacc)\n",
      "eps: 5.000000 -> -8.887779% (recall), -6.921797% (ndcg), 4.662791% (arp), 14.474799% (aft), 94.240378 (No. Users), 0.374598 (Jacc)\n",
      "eps: 4.000000 -> -11.007244% (recall), -10.563178% (ndcg), 12.437337% (arp), 14.412022% (aft), 94.881837 (No. Users), 0.389411 (Jacc)\n",
      "eps: 3.000000 -> -13.618512% (recall), -12.551107% (ndcg), 17.605172% (arp), 34.527282% (aft), 97.083052 (No. Users), 0.443306 (Jacc)\n",
      "eps: 2.000000 -> -22.486203% (recall), -22.033728% (ndcg), 38.448797% (arp), 48.244107% (aft), 98.460500 (No. Users), 0.519075 (Jacc)\n",
      "eps: 1.000000 -> -48.340286% (recall), -50.014365% (ndcg), 752.951215% (arp), -14.208737% (aft), 99.898717 (No. Users), 0.735634 (Jacc)\n",
      "eps: 0.500000 -> -58.469011% (recall), -59.524625% (ndcg), 1131.677429% (arp), -58.306283% (aft), 99.952735 (No. Users), 0.793649 (Jacc)\n",
      "eps: 0.100000 -> -64.090303% (recall), -64.823619% (ndcg), 1570.947183% (arp), -94.258132% (aft), 99.966239 (No. Users), 0.839280 (Jacc)\n",
      "eps: 0.050000 -> -63.343470% (recall), -64.881478% (ndcg), 1562.207340% (arp), -94.851903% (aft), 100.000000 (No. Users), 0.831580 (Jacc)\n",
      "eps: 0.010000 -> -64.290010% (recall), -65.252523% (ndcg), 1541.881741% (arp), -94.805054% (aft), 100.000000 (No. Users), 0.841356 (Jacc)\n",
      "eps: 0.005000 -> -63.317785% (recall), -65.072230% (ndcg), 1554.834561% (arp), -92.335967% (aft), 99.993248 (No. Users), 0.830655 (Jacc)\n",
      "eps: 0.001000 -> -63.496588% (recall), -64.847096% (ndcg), 1424.460161% (arp), -85.370222% (aft), 99.979743 (No. Users), 0.830821 (Jacc)\n",
      "\n",
      "No DP: 0.0706 (recall), 0.0428 (ndcg), 0.0388 (arp), 0.1025 (aft)\n",
      "eps: 10.000000 -> -20.014084% (recall), -16.385944% (ndcg), 12.177884% (arp), 24.116765% (aft), 99.020932 (No. Users), 0.607880 (Jacc)\n",
      "eps: 5.000000 -> -17.730607% (recall), -13.745891% (ndcg), 13.145224% (arp), 12.131457% (aft), 99.115463 (No. Users), 0.595812 (Jacc)\n",
      "eps: 4.000000 -> -18.407652% (recall), -13.734776% (ndcg), 30.551018% (arp), -2.468611% (aft), 99.169480 (No. Users), 0.595719 (Jacc)\n",
      "eps: 3.000000 -> -20.855782% (recall), -16.073138% (ndcg), 35.924513% (arp), -0.780972% (aft), 99.547603 (No. Users), 0.612546 (Jacc)\n",
      "eps: 2.000000 -> -26.226626% (recall), -21.748282% (ndcg), 38.334651% (arp), 9.152776% (aft), 99.743417 (No. Users), 0.667806 (Jacc)\n",
      "eps: 1.000000 -> -42.342881% (recall), -38.038253% (ndcg), 155.074062% (arp), -10.088775% (aft), 99.979743 (No. Users), 0.780939 (Jacc)\n",
      "eps: 0.500000 -> -53.038850% (recall), -49.497478% (ndcg), 427.595705% (arp), -35.691771% (aft), 100.000000 (No. Users), 0.849407 (Jacc)\n",
      "eps: 0.100000 -> -63.765750% (recall), -60.625531% (ndcg), 1305.348748% (arp), -77.458271% (aft), 100.000000 (No. Users), 0.898118 (Jacc)\n",
      "eps: 0.050000 -> -61.827882% (recall), -57.718126% (ndcg), 1359.235863% (arp), -82.106220% (aft), 100.000000 (No. Users), 0.897215 (Jacc)\n",
      "eps: 0.010000 -> -64.486004% (recall), -61.121449% (ndcg), 1367.806289% (arp), -69.726096% (aft), 100.000000 (No. Users), 0.898087 (Jacc)\n",
      "eps: 0.005000 -> -63.872790% (recall), -60.542996% (ndcg), 1687.566635% (arp), -84.403675% (aft), 100.000000 (No. Users), 0.901427 (Jacc)\n",
      "eps: 0.001000 -> -62.942367% (recall), -59.608630% (ndcg), 1070.808849% (arp), -63.758972% (aft), 100.000000 (No. Users), 0.896190 (Jacc)\n",
      "\n",
      "No DP: 0.0063 (recall), 0.0038 (ndcg), 0.0197 (arp), 0.0000 (aft)\n"
     ]
    },
    {
     "name": "stderr",
     "output_type": "stream",
     "text": [
      "C:\\Users\\pmuellner\\AppData\\Local\\Temp\\ipykernel_3556\\645581896.py:39: RuntimeWarning: Mean of empty slice\n",
      "  delta_aft_eps.append(100 * np.nanmean(delta_aft_eps_f))\n"
     ]
    },
    {
     "name": "stdout",
     "output_type": "stream",
     "text": [
      "eps: 10.000000 -> -19.583333% (recall), -1.973722% (ndcg), -2.082651% (arp), nan% (aft), 100.000000 (No. Users), 0.480906 (Jacc)\n",
      "eps: 5.000000 -> -20.476190% (recall), -14.506403% (ndcg), -2.806606% (arp), nan% (aft), 100.000000 (No. Users), 0.492637 (Jacc)\n",
      "eps: 4.000000 -> -6.547619% (recall), 3.609085% (ndcg), -1.656009% (arp), nan% (aft), 100.000000 (No. Users), 0.431675 (Jacc)\n",
      "eps: 3.000000 -> -16.785714% (recall), -3.139365% (ndcg), -3.117840% (arp), nan% (aft), 100.000000 (No. Users), 0.455090 (Jacc)\n",
      "eps: 2.000000 -> -9.047619% (recall), 3.068969% (ndcg), -2.646061% (arp), nan% (aft), 100.000000 (No. Users), 0.402271 (Jacc)\n",
      "eps: 1.000000 -> -39.523810% (recall), -29.700826% (ndcg), -3.638071% (arp), nan% (aft), 100.000000 (No. Users), 0.492212 (Jacc)\n",
      "eps: 0.500000 -> -13.928571% (recall), -5.187992% (ndcg), 0.540855% (arp), nan% (aft), 100.000000 (No. Users), 0.420733 (Jacc)\n",
      "eps: 0.100000 -> -44.166667% (recall), -37.643796% (ndcg), -0.484881% (arp), nan% (aft), 100.000000 (No. Users), 0.516612 (Jacc)\n",
      "eps: 0.050000 -> -33.690476% (recall), -28.201417% (ndcg), -3.873702% (arp), nan% (aft), 100.000000 (No. Users), 0.505841 (Jacc)\n",
      "eps: 0.010000 -> -35.059524% (recall), -26.197235% (ndcg), -5.599276% (arp), nan% (aft), 100.000000 (No. Users), 0.561570 (Jacc)\n",
      "eps: 0.005000 -> -12.976190% (recall), -8.993900% (ndcg), -2.503259% (arp), nan% (aft), 100.000000 (No. Users), 0.400835 (Jacc)\n",
      "eps: 0.001000 -> -22.440476% (recall), -12.030036% (ndcg), 0.871713% (arp), nan% (aft), 100.000000 (No. Users), 0.410256 (Jacc)\n",
      "\n",
      "No DP: 0.0163 (recall), 0.0096 (ndcg), 0.0075 (arp), 0.1696 (aft)\n",
      "eps: 10.000000 -> -23.132412% (recall), -19.807728% (ndcg), 49.233370% (arp), -14.318063% (aft), 97.294439 (No. Users), 0.509275 (Jacc)\n",
      "eps: 5.000000 -> -24.008091% (recall), -20.851565% (ndcg), 47.039455% (arp), -10.115684% (aft), 97.633736 (No. Users), 0.520962 (Jacc)\n",
      "eps: 4.000000 -> -24.954169% (recall), -21.768745% (ndcg), 49.449930% (arp), -6.510444% (aft), 98.068212 (No. Users), 0.529857 (Jacc)\n",
      "eps: 3.000000 -> -30.892032% (recall), -28.557631% (ndcg), 73.341791% (arp), -0.747113% (aft), 99.038512 (No. Users), 0.567948 (Jacc)\n",
      "eps: 2.000000 -> -41.044241% (recall), -39.735674% (ndcg), 110.637489% (arp), 11.047160% (aft), 99.773508 (No. Users), 0.628564 (Jacc)\n",
      "eps: 1.000000 -> -56.319369% (recall), -56.988792% (ndcg), 389.811261% (arp), -4.747329% (aft), 99.989425 (No. Users), 0.751274 (Jacc)\n",
      "eps: 0.500000 -> -65.908001% (recall), -67.622330% (ndcg), 743.365606% (arp), -25.204975% (aft), 99.992068 (No. Users), 0.823865 (Jacc)\n",
      "eps: 0.100000 -> -76.644569% (recall), -77.622975% (ndcg), 1964.266325% (arp), -90.329271% (aft), 100.000000 (No. Users), 0.901953 (Jacc)\n",
      "eps: 0.050000 -> -76.793339% (recall), -78.003593% (ndcg), 2120.674056% (arp), -95.004452% (aft), 100.000000 (No. Users), 0.904169 (Jacc)\n",
      "eps: 0.010000 -> -77.141255% (recall), -77.585818% (ndcg), 1841.456190% (arp), -85.257690% (aft), 100.000000 (No. Users), 0.901368 (Jacc)\n",
      "eps: 0.005000 -> -77.146914% (recall), -78.095452% (ndcg), 1760.588601% (arp), -78.478731% (aft), 99.999119 (No. Users), 0.901593 (Jacc)\n",
      "eps: 0.001000 -> -77.001786% (recall), -77.820249% (ndcg), 1975.703859% (arp), -89.144550% (aft), 99.999119 (No. Users), 0.903699 (Jacc)\n",
      "\n",
      "No DP: 0.0158 (recall), 0.0092 (ndcg), 0.0065 (arp), 0.0359 (aft)\n",
      "eps: 10.000000 -> -43.700605% (recall), -38.029217% (ndcg), 25.560803% (arp), -5.834426% (aft), 99.977086 (No. Users), 0.848853 (Jacc)\n",
      "eps: 5.000000 -> -45.899154% (recall), -40.258624% (ndcg), 5.014245% (arp), 45.892480% (aft), 99.988543 (No. Users), 0.869858 (Jacc)\n",
      "eps: 4.000000 -> -45.760749% (recall), -40.457679% (ndcg), 13.935422% (arp), 18.501930% (aft), 99.983255 (No. Users), 0.863782 (Jacc)\n",
      "eps: 3.000000 -> -48.877687% (recall), -44.433778% (ndcg), 25.353003% (arp), 15.481708% (aft), 99.979730 (No. Users), 0.872333 (Jacc)\n",
      "eps: 2.000000 -> -53.703327% (recall), -49.475692% (ndcg), 36.777375% (arp), -2.072224% (aft), 99.996475 (No. Users), 0.887013 (Jacc)\n",
      "eps: 1.000000 -> -67.819048% (recall), -65.828006% (ndcg), 132.366723% (arp), -42.747380% (aft), 99.995594 (No. Users), 0.922735 (Jacc)\n",
      "eps: 0.500000 -> -77.902981% (recall), -76.705794% (ndcg), 227.121197% (arp), -45.059648% (aft), 100.000000 (No. Users), 0.943957 (Jacc)\n",
      "eps: 0.100000 -> -81.971068% (recall), -81.172367% (ndcg), 683.234928% (arp), -99.080361% (aft), 100.000000 (No. Users), 0.948691 (Jacc)\n",
      "eps: 0.050000 -> -83.071789% (recall), -81.157602% (ndcg), 1071.825335% (arp), -99.854524% (aft), 100.000000 (No. Users), 0.950672 (Jacc)\n",
      "eps: 0.010000 -> -82.147346% (recall), -80.413615% (ndcg), 914.083741% (arp), -99.898305% (aft), 100.000000 (No. Users), 0.950202 (Jacc)\n",
      "eps: 0.005000 -> -82.794661% (recall), -80.945974% (ndcg), 1096.289109% (arp), -99.973026% (aft), 100.000000 (No. Users), 0.951891 (Jacc)\n",
      "eps: 0.001000 -> -83.907384% (recall), -81.630246% (ndcg), 1071.518949% (arp), -99.886866% (aft), 100.000000 (No. Users), 0.952136 (Jacc)\n",
      "\n"
     ]
    }
   ],
   "source": [
    "def get_results(dataset_name, algos):\n",
    "    test_df = pd.read_csv(\"dataset/\" + dataset_name + \"/\" + dataset_name + \".test.inter\", sep=\"\\t\")\n",
    "    test_df.rename(columns={\"user_id:token\": \"user_id\", \"item_id:token\": \"item_id\"}, inplace=True)\n",
    "    test_df[\"user_id\"] = test_df[\"user_id\"].astype(str)\n",
    "    test_df[\"item_id\"] = test_df[\"item_id\"].astype(str)\n",
    "    groundtruth = test_df.groupby(\"user_id\")[\"item_id\"].apply(set)\n",
    "\n",
    "    df = pd.read_csv(\"dataset/\" + dataset_name + \"/\" + dataset_name + \".inter\", sep=\"\\t\")\n",
    "    df.rename(columns={\"user_id:token\": \"user_id\", \"item_id:token\": \"item_id\"}, inplace=True)\n",
    "    df[\"user_id\"] = df[\"user_id\"].astype(str)\n",
    "    df[\"item_id\"] = df[\"item_id\"].astype(str)\n",
    "    item_popularity = df.groupby(\"item_id\").size() / df[\"user_id\"].nunique()\n",
    "\n",
    "\n",
    "    recall, arp, aft = dict(), dict(), dict()\n",
    "    for algo in algos:\n",
    "        recall_a, _, arp_a, aft_a, _, _ = analyze(dataset_name=dataset_name, model_name=algo, groundtruth=groundtruth, item_popularity=item_popularity)\n",
    "        recall[algo] = recall_a\n",
    "        arp[algo] = arp_a\n",
    "        aft[algo] = aft_a\n",
    "\n",
    "    return recall, arp, aft\n",
    "\n",
    "recall_ml1m, arp_ml1m, aft_ml1m = get_results(dataset_name=\"ml-1m\", algos=[\"NeuMF\", \"LightGCN\", \"MultiVAE\"])\n",
    "recall_lfm, arp_lfm, aft_lfm = get_results(dataset_name=\"LFM-3k\", algos=[\"NeuMF\", \"LightGCN\", \"MultiVAE\"])\n",
    "recall_amazon, arp_amazon, aft_amazon = get_results(dataset_name=\"sportsandoutdoors\", algos=[\"NeuMF\", \"LightGCN\", \"MultiVAE\"])"
   ],
   "metadata": {
    "collapsed": false,
    "ExecuteTime": {
     "end_time": "2023-10-09T11:54:14.122307100Z",
     "start_time": "2023-10-09T11:19:08.794196500Z"
    }
   }
  },
  {
   "cell_type": "code",
   "execution_count": 388,
   "outputs": [
    {
     "data": {
      "text/plain": "[5, 4, 3, 2, 1, 0.5, 0.1, 0.05, 0.01, 0.005, 0.001]"
     },
     "execution_count": 388,
     "metadata": {},
     "output_type": "execute_result"
    }
   ],
   "source": [],
   "metadata": {
    "collapsed": false,
    "ExecuteTime": {
     "end_time": "2023-10-09T11:56:18.248085200Z",
     "start_time": "2023-10-09T11:56:18.233087300Z"
    }
   }
  },
  {
   "cell_type": "code",
   "execution_count": 390,
   "outputs": [],
   "source": [
    "all_eps = [0.001, 0.005, 0.01, 0.05, 0.1, 0.5, 1, 2, 3, 4, 5]\n",
    "\n",
    "fig = plt.figure(figsize=(10, 4))\n",
    "ax1 = plt.subplot2grid(shape=(1,3), loc=(0,0), fig=fig)\n",
    "ax2 = plt.subplot2grid((1,3), (0,1))\n",
    "ax3 = plt.subplot2grid((1,3), (0,2))\n",
    "\n",
    "ax1.axhline(y=0, linestyle=\"dashed\", c=\"gray\")\n",
    "ax2.axhline(y=0, linestyle=\"dashed\", c=\"gray\")\n",
    "ax3.axhline(y=0, linestyle=\"dashed\", c=\"gray\")\n",
    "\n",
    "ax1.plot(all_eps, recall_ml1m[\"NeuMF\"][::-1][1:], color=\"C0\")\n",
    "ax1.plot(all_eps, recall_ml1m[\"LightGCN\"][::-1][1:], color=\"C1\")\n",
    "ax1.plot(all_eps, recall_ml1m[\"MultiVAE\"][::-1][1:], color=\"C2\")\n",
    "ax1.invert_xaxis()\n",
    "\n",
    "ax2.plot(all_eps, recall_lfm[\"NeuMF\"][::-1][1:], color=\"C0\")\n",
    "ax2.plot(all_eps, recall_lfm[\"LightGCN\"][::-1][1:], color=\"C1\")\n",
    "ax2.plot(all_eps, recall_lfm[\"MultiVAE\"][::-1][1:], color=\"C2\")\n",
    "ax2.invert_xaxis()\n",
    "\n",
    "ax3.plot(all_eps, recall_amazon[\"NeuMF\"][::-1][1:], color=\"C0\")\n",
    "ax3.plot(all_eps, recall_amazon[\"LightGCN\"][::-1][1:], color=\"C1\")\n",
    "ax3.plot(all_eps, recall_amazon[\"MultiVAE\"][::-1][1:], color=\"C2\")\n",
    "ax3.invert_xaxis()\n",
    "\n",
    "ax1.set_ylabel(r\"$\\Delta Recall$ in %\")\n",
    "ax1.set_xlabel(r\"Privacy Budget $\\epsilon$\")\n",
    "ax2.set_xlabel(r\"Privacy Budget $\\epsilon$\")\n",
    "ax3.set_xlabel(r\"Privacy Budget $\\epsilon$\")\n",
    "\n",
    "ax1.set_title(\"ML 1M\")\n",
    "ax2.set_title(\"LastFM\")\n",
    "ax3.set_title(\"Amazon\")\n",
    "\n",
    "lines = []\n",
    "lines.append(Line2D([0], [0], color=\"C0\", linestyle=\"solid\"))\n",
    "lines.append(Line2D([0], [0], color=\"C1\", linestyle=\"solid\"))\n",
    "lines.append(Line2D([0], [0], color=\"C2\", linestyle=\"solid\"))\n",
    "labels = [\"NeuMF\", \"LightGCN\", \"MultiVAE\"]\n",
    "\n",
    "fig.legend(lines, labels, ncol=3, loc='upper center', bbox_to_anchor=(0.5, .99), fontsize=\"large\")\n",
    "fig.tight_layout()\n",
    "fig.subplots_adjust(top=.8, bottom=0.15, hspace=0.45, wspace=0.45)\n",
    "fig.align_ylabels([ax1, ax2, ax3])"
   ],
   "metadata": {
    "collapsed": false,
    "ExecuteTime": {
     "end_time": "2023-10-09T12:08:42.673239900Z",
     "start_time": "2023-10-09T12:08:41.058904900Z"
    }
   }
  },
  {
   "cell_type": "code",
   "execution_count": null,
   "outputs": [],
   "source": [],
   "metadata": {
    "collapsed": false
   }
  },
  {
   "cell_type": "code",
   "execution_count": 161,
   "outputs": [],
   "source": [],
   "metadata": {
    "collapsed": false,
    "ExecuteTime": {
     "end_time": "2023-10-05T13:51:37.050206400Z",
     "start_time": "2023-10-05T13:51:37.046201800Z"
    }
   }
  },
  {
   "cell_type": "code",
   "execution_count": 161,
   "outputs": [],
   "source": [],
   "metadata": {
    "collapsed": false,
    "ExecuteTime": {
     "end_time": "2023-10-05T13:51:37.185310400Z",
     "start_time": "2023-10-05T13:51:37.165312700Z"
    }
   }
  },
  {
   "cell_type": "code",
   "execution_count": 304,
   "outputs": [],
   "source": [
    "dataset_name = \"sportsandoutdoors\"\n",
    "\n",
    "test_df = pd.read_csv(\"dataset/\" + dataset_name + \"/\" + dataset_name + \".test.inter\", sep=\"\\t\")\n",
    "test_df.rename(columns={\"user_id:token\": \"user_id\", \"item_id:token\": \"item_id\"}, inplace=True)\n",
    "test_df[\"user_id\"] = test_df[\"user_id\"].astype(str)\n",
    "test_df[\"item_id\"] = test_df[\"item_id\"].astype(str)\n",
    "\n",
    "groundtruth = test_df.groupby(\"user_id\")[\"item_id\"].apply(set)\n",
    "\n",
    "df = pd.read_csv(\"dataset/\" + dataset_name + \"/\" + dataset_name + \".inter\", sep=\"\\t\")\n",
    "df.rename(columns={\"user_id:token\": \"user_id\", \"item_id:token\": \"item_id\"}, inplace=True)\n",
    "df[\"user_id\"] = df[\"user_id\"].astype(str)\n",
    "df[\"item_id\"] = df[\"item_id\"].astype(str)\n",
    "item_popularity = df.groupby(\"item_id\").size() / df[\"user_id\"].nunique()\n",
    "\n",
    "cut = int(len(item_popularity) * 0.2)\n",
    "head_items = set(item_popularity.sort_values(ascending=False).iloc[:cut].index.tolist())\n",
    "\n",
    "frac_pop_items = df.groupby(\"user_id\")[\"item_id\"].apply(set).apply(lambda items: len(items.intersection(head_items)) / len(items))\n",
    "frac_pop_items.name = \"frac\"\n",
    "\n",
    "cut = int(len(frac_pop_items) * 0.2)\n",
    "low_users = frac_pop_items.sort_values().head(cut).index.tolist()\n",
    "high_users = frac_pop_items.sort_values().tail(cut).index.tolist()"
   ],
   "metadata": {
    "collapsed": false,
    "ExecuteTime": {
     "end_time": "2023-10-09T08:24:28.121579900Z",
     "start_time": "2023-10-09T08:24:25.327212Z"
    }
   }
  },
  {
   "cell_type": "code",
   "execution_count": 314,
   "outputs": [
    {
     "name": "stdout",
     "output_type": "stream",
     "text": [
      "\n",
      "NeuMF (sportsandoutdoors)\n",
      "No DP: 0.0008/0.0122 (recall), 0.0005/0.0072 (ndcg), 0.0197/0.0197 (arp), 0.0000/0.0000 (aft)\n",
      "[14, 14, 14, 14, 14]\n",
      "[22, 22, 22, 22, 22]\n",
      "[100, 100, 100, 100, 100]\n"
     ]
    },
    {
     "name": "stderr",
     "output_type": "stream",
     "text": [
      "C:\\Users\\pmuellner\\AppData\\Local\\Temp\\ipykernel_3556\\1576221862.py:24: RuntimeWarning: Mean of empty slice\n",
      "  delta_recall_eps.append(np.nanmean(delta_recall_eps_f))\n",
      "C:\\Users\\pmuellner\\AppData\\Local\\Temp\\ipykernel_3556\\1576221862.py:25: RuntimeWarning: Mean of empty slice\n",
      "  delta_ndcg_eps.append(np.nanmean(delta_ndcg_eps_f))\n",
      "C:\\Users\\pmuellner\\AppData\\Local\\Temp\\ipykernel_3556\\1576221862.py:27: RuntimeWarning: Mean of empty slice\n",
      "  delta_aft_eps.append(np.nanmean(delta_aft_eps_f))\n"
     ]
    },
    {
     "name": "stdout",
     "output_type": "stream",
     "text": [
      "eps: 5.000000 -> nan%/-40.00% (recall), nan%/-35.58% (ndcg), -2.84%/-2.89% (arp), nan%/nan% (aft)\n",
      "[14, 14, 14, 14, 14]\n",
      "[22, 22, 22, 22, 22]\n",
      "[100, 100, 100, 100, 100]\n",
      "eps: 2.000000 -> nan%/-40.00% (recall), nan%/-14.69% (ndcg), -2.62%/-2.72% (arp), nan%/nan% (aft)\n",
      "[14, 14, 14, 14, 14]\n",
      "[22, 22, 22, 22, 22]\n",
      "[100, 100, 100, 100, 100]\n",
      "eps: 1.000000 -> nan%/-30.00% (recall), nan%/-16.07% (ndcg), -3.63%/-3.71% (arp), nan%/nan% (aft)\n",
      "[14, 14, 14, 14, 14]\n",
      "[22, 22, 22, 22, 22]\n",
      "[100, 100, 100, 100, 100]\n",
      "eps: 0.100000 -> nan%/-30.00% (recall), nan%/-13.97% (ndcg), -0.57%/-0.57% (arp), nan%/nan% (aft)\n",
      "Diff Recall: [nan nan nan nan]\n",
      "Diff nDCG: [nan nan nan nan]\n",
      "Diff ARP: [0.05146785 0.09182142 0.07843342 0.00185151]\n",
      "Diff AFT: [nan nan nan nan]\n"
     ]
    },
    {
     "data": {
      "text/plain": "(([nan, nan, nan, nan],\n  [nan, nan, nan, nan],\n  [-2.8406386311855716,\n   -2.624832900627377,\n   -3.633108521171786,\n   -0.5684645830897085],\n  [nan, nan, nan, nan]),\n ([-40.0, -40.0, -30.0, -30.0],\n  [-35.584703040980415,\n   -14.68872539927197,\n   -16.072183730201452,\n   -13.969337350110473],\n  [-2.8921064780508816,\n   -2.716654321634772,\n   -3.711541939733677,\n   -0.5666130730875568],\n  [nan, nan, nan, nan]),\n (array([nan, nan, nan, nan]),\n  array([nan, nan, nan, nan]),\n  array([0.05146785, 0.09182142, 0.07843342, 0.00185151]),\n  array([nan, nan, nan, nan])))"
     },
     "execution_count": 314,
     "metadata": {},
     "output_type": "execute_result"
    }
   ],
   "source": [
    "def analyze_groups(dataset_name, model_name, groundtruth, item_popularity, group1, group2, absolute_values=False, compute_diff=True):\n",
    "    def recgap(x, y):\n",
    "        return np.abs(np.array(x) - np.array(y))\n",
    "\n",
    "    def get_deltas(results_nodp, results_dp, abs=False):\n",
    "        recall_nodp, ndcg_nodp, arp_nodp, aft_nodp = results_nodp\n",
    "        recall_eps, ndcg_eps, arp_eps, aft_eps = results_dp\n",
    "\n",
    "        delta_recall_eps, delta_ndcg_eps, delta_arp_eps, delta_aft_eps = [], [], [], []\n",
    "        for file_idx in range(5):\n",
    "            intersection = set(recall_nodp[file_idx].keys()).intersection(recall_eps[file_idx].keys())\n",
    "            delta_recall_eps_f, delta_ndcg_eps_f, delta_arp_eps_f, delta_aft_eps_f = [], [], [], []\n",
    "            for uid in intersection:\n",
    "                if abs:\n",
    "                    delta_recall_eps_f.append(recall_eps[file_idx][uid])\n",
    "                    delta_ndcg_eps_f.append(ndcg_eps[file_idx][uid])\n",
    "                    delta_arp_eps_f.append(arp_eps[file_idx][uid])\n",
    "                    delta_aft_eps_f.append(aft_eps[file_idx][uid])\n",
    "                else:\n",
    "                    delta_recall_eps_f.append(100 * (recall_eps[file_idx][uid] - recall_nodp[file_idx][uid]) / recall_nodp[file_idx][uid] if recall_nodp[file_idx][uid] != 0 else np.nan)\n",
    "                    delta_ndcg_eps_f.append(100 * (ndcg_eps[file_idx][uid] - ndcg_nodp[file_idx][uid]) / ndcg_nodp[file_idx][uid] if ndcg_nodp[file_idx][uid] != 0 else np.nan)\n",
    "                    delta_arp_eps_f.append(100 * (arp_eps[file_idx][uid] - arp_nodp[file_idx][uid]) / arp_nodp[file_idx][uid] if arp_nodp[file_idx][uid] != 0 else np.nan)\n",
    "                    delta_aft_eps_f.append(100 * (aft_eps[file_idx][uid] - aft_nodp[file_idx][uid]) / aft_nodp[file_idx][uid] if aft_nodp[file_idx][uid] != 0 else np.nan)\n",
    "            delta_recall_eps.append(np.nanmean(delta_recall_eps_f))\n",
    "            delta_ndcg_eps.append(np.nanmean(delta_ndcg_eps_f))\n",
    "            delta_arp_eps.append(np.nanmean(delta_arp_eps_f))\n",
    "            delta_aft_eps.append(np.nanmean(delta_aft_eps_f))\n",
    "\n",
    "        return np.mean(delta_recall_eps), np.mean(delta_ndcg_eps), np.mean(delta_arp_eps), np.mean(delta_aft_eps)\n",
    "\n",
    "    print()\n",
    "    print(model_name + \" (\" + dataset_name + \")\")\n",
    "\n",
    "    dir = \"saved/\" + dataset_name + \"/\" + model_name + \"/\"\n",
    "    results_nodp = _analyze_recommendations(dirpath=dir + \"nodp\", item_popularity=item_popularity, groundtruth=groundtruth)\n",
    "    recall_nodp, ndcg_nodp, arp_nodp, aft_nodp = results_nodp\n",
    "\n",
    "    print(\"No DP: %.4f/%.4f (recall), %.4f/%.4f (ndcg), %.4f/%.4f (arp), %.4f/%.4f (aft)\" % (results_per_group(recall_nodp, group1), results_per_group(recall_nodp, group2), results_per_group(ndcg_nodp, group1), results_per_group(ndcg_nodp, group2), results_per_group(arp_nodp, group1), results_per_group(arp_nodp, group2), results_per_group(aft_nodp, group1), results_per_group(aft_nodp, group2)))\n",
    "\n",
    "    delta_recall1, delta_ndcg1, delta_arp1, delta_aft1 = [], [], [], []\n",
    "    delta_recall2, delta_ndcg2, delta_arp2, delta_aft2 = [], [], [], []\n",
    "    for eps in [0.1, 1, 2, 5][::-1]:\n",
    "        users, frac, _ = _get_impacted_users(dirpath_nodp=dir + \"nodp\", dirpath_dp=dir + \"e\" + str(eps))\n",
    "        group1_and_impacted, group2_and_impacted = [], []\n",
    "        for users_s in users:\n",
    "            group1_and_impacted.append(set([uid for uid in users_s]).intersection(group1))\n",
    "            group2_and_impacted.append(set([uid for uid in users_s]).intersection(group2))\n",
    "\n",
    "        print([len(g) for g in group1_and_impacted])\n",
    "        print([len(g) for g in group2_and_impacted])\n",
    "        print([len(u) for u in users])\n",
    "\n",
    "        results1_eps = _analyze_recommendations(dirpath=dir + \"e\" + str(eps), item_popularity=item_popularity, groundtruth=groundtruth, impacted_users=group1_and_impacted)\n",
    "        results2_eps = _analyze_recommendations(dirpath=dir + \"e\" + str(eps), item_popularity=item_popularity, groundtruth=groundtruth, impacted_users=group2_and_impacted)\n",
    "\n",
    "        delta_recall1_eps, delta_ndcg1_eps, delta_arp1_eps, delta_aft1_eps = get_deltas(results_nodp=results_nodp, results_dp=results1_eps, abs=absolute_values)\n",
    "        delta_recall2_eps, delta_ndcg2_eps, delta_arp2_eps, delta_aft2_eps = get_deltas(results_nodp=results_nodp, results_dp=results2_eps, abs=absolute_values)\n",
    "\n",
    "        delta_recall1.append(delta_recall1_eps)\n",
    "        delta_ndcg1.append(delta_ndcg1_eps)\n",
    "        delta_arp1.append(delta_arp1_eps)\n",
    "        delta_aft1.append(delta_aft1_eps)\n",
    "\n",
    "        delta_recall2.append(delta_recall2_eps)\n",
    "        delta_ndcg2.append(delta_ndcg2_eps)\n",
    "        delta_arp2.append(delta_arp2_eps)\n",
    "        delta_aft2.append(delta_aft2_eps)\n",
    "\n",
    "        if absolute_values:\n",
    "            print(\"eps: %f -> %.2f/%.2f (recall), %.2f/%.2f (ndcg), %.2f/%.2f (arp), %.2f/%.2f (aft)\" % (eps, delta_recall1[-1], delta_recall2[-1], delta_ndcg1[-1], delta_ndcg2[-1], delta_arp1[-1], delta_arp2[-1], delta_aft1[-1], delta_aft2[-1]))\n",
    "        else:\n",
    "            print(\"eps: %f -> %.2f%%/%.2f%% (recall), %.2f%%/%.2f%% (ndcg), %.2f%%/%.2f%% (arp), %.2f%%/%.2f%% (aft)\" % (eps, delta_recall1[-1], delta_recall2[-1], delta_ndcg1[-1], delta_ndcg2[-1], delta_arp1[-1], delta_arp2[-1], delta_aft1[-1], delta_aft2[-1]))\n",
    "\n",
    "    if compute_diff:\n",
    "        print(\"Diff Recall: %s\" % recgap(delta_recall1, delta_recall2))\n",
    "        print(\"Diff nDCG: %s\" % recgap(delta_ndcg1, delta_ndcg2))\n",
    "        print(\"Diff ARP: %s\" % recgap(delta_arp1, delta_arp2))\n",
    "        print(\"Diff AFT: %s\" % recgap(delta_aft1, delta_aft2))\n",
    "\n",
    "        return (delta_recall1, delta_ndcg1, delta_arp1, delta_aft1), (delta_recall2, delta_ndcg2, delta_arp2, delta_aft2), (recgap(delta_recall1, delta_recall2), recgap(delta_ndcg1, delta_ndcg2), recgap(delta_arp1, delta_arp2), recgap(delta_aft1, delta_aft2))\n",
    "    else:\n",
    "        return (delta_recall1, delta_ndcg1, delta_arp1, delta_aft1), (delta_recall2, delta_ndcg2, delta_arp2, delta_aft2)\n",
    "\n",
    "#analyze_groups(dataset_name=dataset_name, model_name=\"BPR\", groundtruth=groundtruth, item_popularity=item_popularity, group1=low_users, group2=high_users, compute_diff=True)\n",
    "analyze_groups(dataset_name=dataset_name, model_name=\"NeuMF\", groundtruth=groundtruth, item_popularity=item_popularity, group1=low_users, group2=high_users, compute_diff=True)\n",
    "#analyze_groups(dataset_name=dataset_name, model_name=\"LightGCN\", groundtruth=groundtruth, item_popularity=item_popularity, group1=low_users, group2=high_users,compute_diff=True)\n",
    "#analyze_groups(dataset_name=dataset_name, model_name=\"MultiVAE\", groundtruth=groundtruth, item_popularity=item_popularity, group1=low_users, group2=high_users, compute_diff=True)"
   ],
   "metadata": {
    "collapsed": false,
    "ExecuteTime": {
     "end_time": "2023-10-09T08:41:09.473173400Z",
     "start_time": "2023-10-09T08:40:34.759684700Z"
    }
   }
  },
  {
   "cell_type": "code",
   "execution_count": null,
   "outputs": [],
   "source": [],
   "metadata": {
    "collapsed": false
   }
  },
  {
   "cell_type": "code",
   "execution_count": 31,
   "outputs": [],
   "source": [],
   "metadata": {
    "collapsed": false,
    "ExecuteTime": {
     "end_time": "2023-10-04T13:32:56.528312300Z",
     "start_time": "2023-10-04T13:32:56.509959800Z"
    }
   }
  },
  {
   "cell_type": "code",
   "execution_count": 298,
   "outputs": [
    {
     "name": "stdout",
     "output_type": "stream",
     "text": [
      "\n",
      "NeuMF (sportsandoutdoors)\n",
      "No DP: 62.9210/11.1584 (delta gap)\n",
      "eps: 5.000000 -> 39.3405/11.6624 (delta gap)\n",
      "eps: 2.000000 -> 39.5045/11.6715 (delta gap)\n",
      "eps: 1.000000 -> 39.1408/11.5606 (delta gap)\n",
      "eps: 0.100000 -> 40.3775/11.9626 (delta gap)\n",
      "Diff Delta GAP: [27.67810554 27.83300941 27.58015785 28.41492809]\n",
      "\n",
      "LightGCN (sportsandoutdoors)\n",
      "No DP: 1.9228/5.3492 (delta gap)\n",
      "eps: 5.000000 -> 2.5299/5.5525 (delta gap)\n",
      "eps: 2.000000 -> 3.1854/5.8881 (delta gap)\n",
      "eps: 1.000000 -> 9.2014/6.9982 (delta gap)\n",
      "eps: 0.100000 -> 55.8470/11.0775 (delta gap)\n",
      "Diff Delta GAP: [ 3.02266437  2.70264499  2.20323596 44.76949316]\n",
      "\n",
      "MultiVAE (sportsandoutdoors)\n",
      "No DP: 4.2542/3.8908 (delta gap)\n",
      "eps: 5.000000 -> 3.1354/3.5306 (delta gap)\n",
      "eps: 2.000000 -> 5.1459/3.7726 (delta gap)\n",
      "eps: 1.000000 -> 9.9723/4.5140 (delta gap)\n",
      "eps: 0.100000 -> 40.8284/9.1145 (delta gap)\n",
      "Diff Delta GAP: [ 0.39525932  1.37329421  5.45829293 31.7138488 ]\n"
     ]
    },
    {
     "data": {
      "text/plain": "([3.1353851876254, 5.145857819830042, 9.972301651712936, 40.82839557148465],\n [3.5306445087550253,\n  3.7725636108939065,\n  4.5140087239258575,\n  9.11454676717415],\n array([ 0.39525932,  1.37329421,  5.45829293, 31.7138488 ]))"
     },
     "execution_count": 298,
     "metadata": {},
     "output_type": "execute_result"
    }
   ],
   "source": [
    "def analyze_groups_gap(dataset_name, model_name, user_profile_pop, item_popularity, group1, group2, absolute_values=False, compute_diff=True):\n",
    "    def get_deltas(gaps_nodp, gaps_eps, abs=False):\n",
    "        delta_gap_eps = []\n",
    "        for file_idx in range(5):\n",
    "            intersection = set(gaps_nodp[file_idx].keys()).intersection(gaps_eps[file_idx].keys())\n",
    "            delta_gap_eps_f = []\n",
    "            for uid in intersection:\n",
    "                if abs:\n",
    "                    delta_gap_eps_f.append(gaps_eps[file_idx][uid])\n",
    "                else:\n",
    "                    delta_gap_eps_f.append(100 * np.abs(gaps_eps[file_idx][uid] - gaps_nodp[file_idx][uid]) / gaps_nodp[file_idx][uid] if gaps_nodp[file_idx][uid] != 0 else np.nan)\n",
    "            delta_gap_eps.append(np.nanmean(delta_gap_eps_f))\n",
    "\n",
    "        return np.mean(delta_gap_eps)\n",
    "    print()\n",
    "    print(model_name + \" (\" + dataset_name + \")\")\n",
    "    dir = \"saved/\" + dataset_name + \"/\" + model_name + \"/\"\n",
    "\n",
    "    gaps_nodp = _compute_gap(dirpath=dir + \"nodp\", item_popularity=item_popularity, user_profile_popularity=user_profile_pop)\n",
    "    print(\"No DP: %.4f/%.4f (delta gap)\" % (results_per_group(gaps_nodp, group1), results_per_group(gaps_nodp, group2)))\n",
    "\n",
    "\n",
    "    delta_gap1, delta_gap2 = [], []\n",
    "    for eps in [0.1, 1, 2, 5][::-1]:\n",
    "        users, _, _ = _get_impacted_users(dirpath_nodp=dir + \"nodp\", dirpath_dp=dir + \"e\" + str(eps))\n",
    "        group1_and_impacted, group2_and_impacted = [], []\n",
    "        for users_s in users:\n",
    "            group1_and_impacted.append(set([uid for uid in users_s]).intersection(group1))\n",
    "            group2_and_impacted.append(set([uid for uid in users_s]).intersection(group2))\n",
    "\n",
    "        gaps1_eps = _compute_gap(dirpath=dir + \"e\" + str(eps), item_popularity=item_popularity, user_profile_popularity=user_profile_pop, impacted_users=group1_and_impacted)\n",
    "        gaps2_eps = _compute_gap(dirpath=dir + \"e\" + str(eps), item_popularity=item_popularity, user_profile_popularity=user_profile_pop, impacted_users=group2_and_impacted)\n",
    "        delta_gap1_eps = get_deltas(gaps_nodp=gaps_nodp, gaps_eps=gaps1_eps, abs=absolute_values)\n",
    "        delta_gap2_eps = get_deltas(gaps_nodp=gaps_nodp, gaps_eps=gaps2_eps, abs=absolute_values)\n",
    "\n",
    "        delta_gap1.append(delta_gap1_eps)\n",
    "        delta_gap2.append(delta_gap2_eps)\n",
    "\n",
    "        if absolute_values:\n",
    "            print(\"eps: %f -> %.4f/%.4f (delta gap)\" % (eps, delta_gap1[-1], delta_gap2[-1]))\n",
    "        else:\n",
    "            print(\"eps: %f -> %.4f%%/%.4f%% (delta gap)\" % (eps, delta_gap1[-1], delta_gap2[-1]))\n",
    "    #print()\n",
    "    if compute_diff:\n",
    "        print(\"Diff Delta GAP: %s\" % recgap(delta_gap1, delta_gap2))\n",
    "        return delta_gap1, delta_gap2, recgap(delta_gap1, delta_gap2)\n",
    "    else:\n",
    "        return delta_gap1, delta_gap2\n",
    "\n",
    "\n",
    "dataset_name = \"sportsandoutdoors\"\n",
    "\n",
    "df = pd.read_csv(\"dataset/\" + dataset_name + \"/\" + dataset_name + \".inter\", sep=\"\\t\")\n",
    "df.rename(columns={\"user_id:token\": \"user_id\", \"item_id:token\": \"item_id\"}, inplace=True)\n",
    "df[\"user_id\"] = df[\"user_id\"].astype(str)\n",
    "df[\"item_id\"] = df[\"item_id\"].astype(str)\n",
    "item_popularity = df.groupby(\"item_id\").size() / df[\"user_id\"].nunique()\n",
    "\n",
    "user_profile_pop = df.groupby(\"user_id\")[\"item_id\"].apply(list).apply(lambda iids: np.mean([item_popularity.loc[iid] for iid in iids]))\n",
    "\n",
    "cut = int(len(item_popularity) * 0.2)\n",
    "head_items = set(item_popularity.sort_values(ascending=False).iloc[:cut].index.tolist())\n",
    "\n",
    "frac_pop_items = df.groupby(\"user_id\")[\"item_id\"].apply(set).apply(lambda items: len(items.intersection(head_items)) / len(items))\n",
    "frac_pop_items.name = \"frac\"\n",
    "\n",
    "cut = int(len(frac_pop_items) * 0.2)\n",
    "low_users = frac_pop_items.sort_values().head(cut).index.tolist()\n",
    "high_users = frac_pop_items.sort_values().tail(cut).index.tolist()\n",
    "\n",
    "#analyze_groups_gap(dataset_name=dataset_name, model_name=\"BPR\", user_profile_pop=user_profile_pop, item_popularity=item_popularity, group1=low_users, group2=high_users, absolute_values=True, compute_diff=True)\n",
    "analyze_groups_gap(dataset_name=dataset_name, model_name=\"NeuMF\", user_profile_pop=user_profile_pop, item_popularity=item_popularity, group1=low_users, group2=high_users, absolute_values=True, compute_diff=True)\n",
    "analyze_groups_gap(dataset_name=dataset_name, model_name=\"LightGCN\", user_profile_pop=user_profile_pop, item_popularity=item_popularity, group1=low_users, group2=high_users, absolute_values=True, compute_diff=True)\n",
    "analyze_groups_gap(dataset_name=dataset_name, model_name=\"MultiVAE\", user_profile_pop=user_profile_pop, item_popularity=item_popularity, group1=low_users, group2=high_users, absolute_values=True, compute_diff=True)"
   ],
   "metadata": {
    "collapsed": false,
    "ExecuteTime": {
     "end_time": "2023-10-09T07:59:58.966963800Z",
     "start_time": "2023-10-09T07:58:11.401604900Z"
    }
   }
  },
  {
   "cell_type": "code",
   "execution_count": 37,
   "outputs": [],
   "source": [],
   "metadata": {
    "collapsed": false,
    "ExecuteTime": {
     "end_time": "2023-10-04T13:37:59.373137400Z",
     "start_time": "2023-10-04T13:37:58.170481Z"
    }
   }
  },
  {
   "cell_type": "code",
   "execution_count": null,
   "outputs": [],
   "source": [],
   "metadata": {
    "collapsed": false
   }
  }
 ],
 "metadata": {
  "kernelspec": {
   "display_name": "Python 3",
   "language": "python",
   "name": "python3"
  },
  "language_info": {
   "codemirror_mode": {
    "name": "ipython",
    "version": 2
   },
   "file_extension": ".py",
   "mimetype": "text/x-python",
   "name": "python",
   "nbconvert_exporter": "python",
   "pygments_lexer": "ipython2",
   "version": "2.7.6"
  }
 },
 "nbformat": 4,
 "nbformat_minor": 0
}
