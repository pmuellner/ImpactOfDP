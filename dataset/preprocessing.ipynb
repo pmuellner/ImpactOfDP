{
 "cells": [
  {
   "cell_type": "code",
   "execution_count": 168,
   "metadata": {
    "collapsed": true,
    "ExecuteTime": {
     "end_time": "2023-09-28T11:40:28.044455700Z",
     "start_time": "2023-09-28T11:40:28.017319900Z"
    }
   },
   "outputs": [],
   "source": [
    "import pandas as pd\n",
    "import numpy as np\n",
    "from sklearn.preprocessing import MinMaxScaler"
   ]
  },
  {
   "cell_type": "code",
   "execution_count": 169,
   "outputs": [],
   "source": [
    "def preprocessing(df, user_core=20, threshold=3.5):\n",
    "    profile_size = df.groupby(\"user_id\").size()\n",
    "    uids = profile_size[profile_size >= user_core].index\n",
    "    modified_df = df[df[\"user_id\"].isin(uids)].copy()\n",
    "    modified_df = modified_df[modified_df[\"rating\"].astype(float) >= threshold]\n",
    "    return modified_df"
   ],
   "metadata": {
    "collapsed": false,
    "ExecuteTime": {
     "end_time": "2023-09-28T11:40:28.650230300Z",
     "start_time": "2023-09-28T11:40:28.625759500Z"
    }
   }
  },
  {
   "cell_type": "markdown",
   "source": [
    "# LFM 100k"
   ],
   "metadata": {
    "collapsed": false
   }
  },
  {
   "cell_type": "code",
   "execution_count": 102,
   "outputs": [
    {
     "data": {
      "text/plain": "   user_id  item_id  listening_count\n0        0        0                2\n1        0       55                3\n2        0       54                3\n3        0       53               19\n4        0       52               20",
      "text/html": "<div>\n<style scoped>\n    .dataframe tbody tr th:only-of-type {\n        vertical-align: middle;\n    }\n\n    .dataframe tbody tr th {\n        vertical-align: top;\n    }\n\n    .dataframe thead th {\n        text-align: right;\n    }\n</style>\n<table border=\"1\" class=\"dataframe\">\n  <thead>\n    <tr style=\"text-align: right;\">\n      <th></th>\n      <th>user_id</th>\n      <th>item_id</th>\n      <th>listening_count</th>\n    </tr>\n  </thead>\n  <tbody>\n    <tr>\n      <th>0</th>\n      <td>0</td>\n      <td>0</td>\n      <td>2</td>\n    </tr>\n    <tr>\n      <th>1</th>\n      <td>0</td>\n      <td>55</td>\n      <td>3</td>\n    </tr>\n    <tr>\n      <th>2</th>\n      <td>0</td>\n      <td>54</td>\n      <td>3</td>\n    </tr>\n    <tr>\n      <th>3</th>\n      <td>0</td>\n      <td>53</td>\n      <td>19</td>\n    </tr>\n    <tr>\n      <th>4</th>\n      <td>0</td>\n      <td>52</td>\n      <td>20</td>\n    </tr>\n  </tbody>\n</table>\n</div>"
     },
     "execution_count": 102,
     "metadata": {},
     "output_type": "execute_result"
    }
   ],
   "source": [
    "df = pd.read_csv(\"LFM2b-100k-subset/sampled_100000_items_inter.txt\", sep=\"\\t\", header=None, names=[\"user_id\", \"item_id\", \"listening_count\"])\n",
    "df.head()"
   ],
   "metadata": {
    "collapsed": false,
    "ExecuteTime": {
     "end_time": "2023-09-22T06:44:50.020181Z",
     "start_time": "2023-09-22T06:44:49.391016300Z"
    }
   }
  },
  {
   "cell_type": "code",
   "execution_count": 103,
   "outputs": [
    {
     "name": "stdout",
     "output_type": "stream",
     "text": [
      "19972 99831 2830541 141.72546565191269\n"
     ]
    },
    {
     "data": {
      "text/plain": "(16427, 23050, 57241, 3.4845680891215682)"
     },
     "execution_count": 103,
     "metadata": {},
     "output_type": "execute_result"
    }
   ],
   "source": [
    "ratings_df = pd.DataFrame()\n",
    "for user_id, data in df.groupby(\"user_id\"):\n",
    "    ratings = MinMaxScaler(feature_range=(1, 5)).fit_transform(data[\"listening_count\"].values.reshape(-1, 1).astype(float))\n",
    "    new_rows = data[[\"user_id\", \"item_id\"]].copy()\n",
    "    new_rows[\"rating\"] = ratings\n",
    "    ratings_df = pd.concat([ratings_df, new_rows])\n",
    "ratings_df.columns = [\"user_id\", \"item_id\", \"rating\"]\n",
    "\n",
    "print(ratings_df[\"user_id\"].nunique(), ratings_df[\"item_id\"].nunique(), len(ratings_df), ratings_df.groupby(\"user_id\").size().mean())\n",
    "\n",
    "\n",
    "\n",
    "final_df = preprocessing(ratings_df, user_core=20, threshold=3.5)\n",
    "print(final_df[\"user_id\"].nunique(), final_df[\"item_id\"].nunique(), len(final_df), final_df.groupby(\"user_id\").size().mean())"
   ],
   "metadata": {
    "collapsed": false,
    "ExecuteTime": {
     "end_time": "2023-09-22T06:50:52.520162Z",
     "start_time": "2023-09-22T06:44:50.618274400Z"
    }
   }
  },
  {
   "cell_type": "markdown",
   "source": [
    "# Amazon Sports and Outdoors"
   ],
   "metadata": {
    "collapsed": false
   }
  },
  {
   "cell_type": "code",
   "execution_count": 172,
   "outputs": [
    {
     "data": {
      "text/plain": "   user_id  item_id  rating\n0        0        0     5.0\n1        1        0     4.0\n2        2        0     1.0\n3        3        0     5.0\n4        4        0     1.0",
      "text/html": "<div>\n<style scoped>\n    .dataframe tbody tr th:only-of-type {\n        vertical-align: middle;\n    }\n\n    .dataframe tbody tr th {\n        vertical-align: top;\n    }\n\n    .dataframe thead th {\n        text-align: right;\n    }\n</style>\n<table border=\"1\" class=\"dataframe\">\n  <thead>\n    <tr style=\"text-align: right;\">\n      <th></th>\n      <th>user_id</th>\n      <th>item_id</th>\n      <th>rating</th>\n    </tr>\n  </thead>\n  <tbody>\n    <tr>\n      <th>0</th>\n      <td>0</td>\n      <td>0</td>\n      <td>5.0</td>\n    </tr>\n    <tr>\n      <th>1</th>\n      <td>1</td>\n      <td>0</td>\n      <td>4.0</td>\n    </tr>\n    <tr>\n      <th>2</th>\n      <td>2</td>\n      <td>0</td>\n      <td>1.0</td>\n    </tr>\n    <tr>\n      <th>3</th>\n      <td>3</td>\n      <td>0</td>\n      <td>5.0</td>\n    </tr>\n    <tr>\n      <th>4</th>\n      <td>4</td>\n      <td>0</td>\n      <td>1.0</td>\n    </tr>\n  </tbody>\n</table>\n</div>"
     },
     "execution_count": 172,
     "metadata": {},
     "output_type": "execute_result"
    }
   ],
   "source": [
    "df = pd.read_csv(\"amazon/Sports_and_Outdoors.csv\", sep=\",\", header=None, names=[\"item_id\", \"user_id\", \"rating\", \"timestamp\"])\n",
    "df = df[[\"user_id\", \"item_id\", \"rating\"]]\n",
    "df[\"user_id\"] = df[\"user_id\"].map({b: a for a, b in enumerate(df[\"user_id\"].unique())})\n",
    "df[\"item_id\"] = df[\"item_id\"].map({b: a for a, b in enumerate(df[\"item_id\"].unique())})\n",
    "df.head()"
   ],
   "metadata": {
    "collapsed": false,
    "ExecuteTime": {
     "end_time": "2023-09-28T11:43:15.738714700Z",
     "start_time": "2023-09-28T11:42:28.521579100Z"
    }
   }
  },
  {
   "cell_type": "code",
   "execution_count": 173,
   "outputs": [
    {
     "name": "stdout",
     "output_type": "stream",
     "text": [
      "6703391 957764 12980837 1.9364582791008311\n",
      "22703 172060 602952 26.558252213363872\n"
     ]
    }
   ],
   "source": [
    "ratings_df = df\n",
    "print(ratings_df[\"user_id\"].nunique(), ratings_df[\"item_id\"].nunique(), len(ratings_df), ratings_df.groupby(\"user_id\").size().mean())\n",
    "\n",
    "final_df = preprocessing(ratings_df, user_core=20, threshold=3.5)\n",
    "print(final_df[\"user_id\"].nunique(), final_df[\"item_id\"].nunique(), len(final_df), final_df.groupby(\"user_id\").size().mean())"
   ],
   "metadata": {
    "collapsed": false,
    "ExecuteTime": {
     "end_time": "2023-09-28T11:43:20.685576100Z",
     "start_time": "2023-09-28T11:43:15.771103300Z"
    }
   }
  },
  {
   "cell_type": "code",
   "execution_count": 174,
   "outputs": [
    {
     "data": {
      "text/plain": "71609"
     },
     "execution_count": 174,
     "metadata": {},
     "output_type": "execute_result"
    }
   ],
   "source": [
    "(final_df.groupby(\"item_id\").size() > 1).sum()"
   ],
   "metadata": {
    "collapsed": false,
    "ExecuteTime": {
     "end_time": "2023-09-28T11:44:15.097212Z",
     "start_time": "2023-09-28T11:44:15.050541400Z"
    }
   }
  },
  {
   "cell_type": "code",
   "execution_count": 175,
   "outputs": [],
   "source": [
    "final_df[[\"user_id\", \"item_id\"]].to_csv(\"sportsoutdoors_preprocessed.csv\", index=False, header=None)"
   ],
   "metadata": {
    "collapsed": false,
    "ExecuteTime": {
     "end_time": "2023-09-28T11:44:21.278030900Z",
     "start_time": "2023-09-28T11:44:20.657247800Z"
    }
   }
  },
  {
   "cell_type": "markdown",
   "source": [
    "# LFM 3k User Groups"
   ],
   "metadata": {
    "collapsed": false
   }
  },
  {
   "cell_type": "code",
   "execution_count": 164,
   "outputs": [
    {
     "name": "stderr",
     "output_type": "stream",
     "text": [
      "C:\\Users\\pmuellner\\AppData\\Local\\Temp\\ipykernel_14880\\3753643500.py:1: ParserWarning: Falling back to the 'python' engine because the 'c' engine does not support regex separators (separators > 1 char and different from '\\s+' are interpreted as regex); you can avoid this warning by specifying engine='python'.\n",
      "  df = pd.read_csv(\"LFM-3k/artist_ratings.csv\", sep=\"\\;\", header=None, names=[\"user_id\", \"item_id\", \"listening_count\"])\n"
     ]
    },
    {
     "data": {
      "text/plain": "   user_id  item_id  listening_count\n0  1021445       12       184.222707\n1  1021445       16         1.000000\n2  1021445       28        27.174672\n3  1021445       29         1.000000\n4  1021445       46         1.000000",
      "text/html": "<div>\n<style scoped>\n    .dataframe tbody tr th:only-of-type {\n        vertical-align: middle;\n    }\n\n    .dataframe tbody tr th {\n        vertical-align: top;\n    }\n\n    .dataframe thead th {\n        text-align: right;\n    }\n</style>\n<table border=\"1\" class=\"dataframe\">\n  <thead>\n    <tr style=\"text-align: right;\">\n      <th></th>\n      <th>user_id</th>\n      <th>item_id</th>\n      <th>listening_count</th>\n    </tr>\n  </thead>\n  <tbody>\n    <tr>\n      <th>0</th>\n      <td>1021445</td>\n      <td>12</td>\n      <td>184.222707</td>\n    </tr>\n    <tr>\n      <th>1</th>\n      <td>1021445</td>\n      <td>16</td>\n      <td>1.000000</td>\n    </tr>\n    <tr>\n      <th>2</th>\n      <td>1021445</td>\n      <td>28</td>\n      <td>27.174672</td>\n    </tr>\n    <tr>\n      <th>3</th>\n      <td>1021445</td>\n      <td>29</td>\n      <td>1.000000</td>\n    </tr>\n    <tr>\n      <th>4</th>\n      <td>1021445</td>\n      <td>46</td>\n      <td>1.000000</td>\n    </tr>\n  </tbody>\n</table>\n</div>"
     },
     "execution_count": 164,
     "metadata": {},
     "output_type": "execute_result"
    }
   ],
   "source": [
    "df = pd.read_csv(\"LFM-3k/artist_ratings.csv\", sep=\"\\;\", header=None, names=[\"user_id\", \"item_id\", \"listening_count\"])\n",
    "df.head()"
   ],
   "metadata": {
    "collapsed": false,
    "ExecuteTime": {
     "end_time": "2023-09-25T14:44:05.176236600Z",
     "start_time": "2023-09-25T14:43:57.233130700Z"
    }
   }
  },
  {
   "cell_type": "code",
   "execution_count": 165,
   "outputs": [
    {
     "name": "stdout",
     "output_type": "stream",
     "text": [
      "3000 352805 1755361 585.1203333333333\n",
      "2999 32129 116108 38.71557185728576 3.6138068411715274 0.12050039483733001\n"
     ]
    }
   ],
   "source": [
    "ratings_df = pd.DataFrame()\n",
    "for user_id, data in df.groupby(\"user_id\"):\n",
    "    ratings = MinMaxScaler(feature_range=(1, 5)).fit_transform(data[\"listening_count\"].values.reshape(-1, 1).astype(float))\n",
    "    new_rows = data[[\"user_id\", \"item_id\"]].copy()\n",
    "    new_rows[\"rating\"] = ratings\n",
    "    ratings_df = pd.concat([ratings_df, new_rows])\n",
    "ratings_df.columns = [\"user_id\", \"item_id\", \"rating\"]\n",
    "\n",
    "print(ratings_df[\"user_id\"].nunique(), ratings_df[\"item_id\"].nunique(), len(ratings_df), ratings_df.groupby(\"user_id\").size().mean())\n",
    "\n",
    "final_df = preprocessing(ratings_df, user_core=20, threshold=1.5)\n",
    "print(final_df[\"user_id\"].nunique(), final_df[\"item_id\"].nunique(), len(final_df), final_df.groupby(\"user_id\").size().mean(), final_df.groupby(\"item_id\").size().mean(), 100 * (len(final_df) / (final_df[\"user_id\"].nunique() * final_df[\"item_id\"].nunique())))"
   ],
   "metadata": {
    "collapsed": false,
    "ExecuteTime": {
     "end_time": "2023-09-25T14:44:43.783340Z",
     "start_time": "2023-09-25T14:44:05.182277600Z"
    }
   }
  },
  {
   "cell_type": "code",
   "execution_count": 146,
   "outputs": [
    {
     "data": {
      "text/plain": "12311"
     },
     "execution_count": 146,
     "metadata": {},
     "output_type": "execute_result"
    }
   ],
   "source": [
    "(final_df.groupby(\"item_id\").size() > 1).sum()"
   ],
   "metadata": {
    "collapsed": false,
    "ExecuteTime": {
     "end_time": "2023-09-25T08:48:53.657712400Z",
     "start_time": "2023-09-25T08:48:53.605675300Z"
    }
   }
  },
  {
   "cell_type": "code",
   "execution_count": 147,
   "outputs": [],
   "source": [
    "final_df[[\"user_id\", \"item_id\"]].to_csv(\"lfm3k_preprocessed.csv\", index=False, header=None)"
   ],
   "metadata": {
    "collapsed": false,
    "ExecuteTime": {
     "end_time": "2023-09-25T08:48:53.743518Z",
     "start_time": "2023-09-25T08:48:53.647891600Z"
    }
   }
  },
  {
   "cell_type": "markdown",
   "source": [
    "# ML 1M"
   ],
   "metadata": {
    "collapsed": false
   }
  },
  {
   "cell_type": "code",
   "execution_count": 157,
   "outputs": [
    {
     "data": {
      "text/plain": "   user_id  item_id  rating  timestamp\n0        1     1193       5  978300760\n1        1      661       3  978302109\n2        1      914       3  978301968\n3        1     3408       4  978300275\n4        1     2355       5  978824291",
      "text/html": "<div>\n<style scoped>\n    .dataframe tbody tr th:only-of-type {\n        vertical-align: middle;\n    }\n\n    .dataframe tbody tr th {\n        vertical-align: top;\n    }\n\n    .dataframe thead th {\n        text-align: right;\n    }\n</style>\n<table border=\"1\" class=\"dataframe\">\n  <thead>\n    <tr style=\"text-align: right;\">\n      <th></th>\n      <th>user_id</th>\n      <th>item_id</th>\n      <th>rating</th>\n      <th>timestamp</th>\n    </tr>\n  </thead>\n  <tbody>\n    <tr>\n      <th>0</th>\n      <td>1</td>\n      <td>1193</td>\n      <td>5</td>\n      <td>978300760</td>\n    </tr>\n    <tr>\n      <th>1</th>\n      <td>1</td>\n      <td>661</td>\n      <td>3</td>\n      <td>978302109</td>\n    </tr>\n    <tr>\n      <th>2</th>\n      <td>1</td>\n      <td>914</td>\n      <td>3</td>\n      <td>978301968</td>\n    </tr>\n    <tr>\n      <th>3</th>\n      <td>1</td>\n      <td>3408</td>\n      <td>4</td>\n      <td>978300275</td>\n    </tr>\n    <tr>\n      <th>4</th>\n      <td>1</td>\n      <td>2355</td>\n      <td>5</td>\n      <td>978824291</td>\n    </tr>\n  </tbody>\n</table>\n</div>"
     },
     "execution_count": 157,
     "metadata": {},
     "output_type": "execute_result"
    }
   ],
   "source": [
    "df = pd.read_csv(\"ml-1m/ml-1m.inter\", sep=\"\\t\")\n",
    "df.columns = [\"user_id\", \"item_id\", \"rating\", \"timestamp\"]\n",
    "df.head()"
   ],
   "metadata": {
    "collapsed": false,
    "ExecuteTime": {
     "end_time": "2023-09-25T13:03:00.848997100Z",
     "start_time": "2023-09-25T13:03:00.602410700Z"
    }
   }
  },
  {
   "cell_type": "code",
   "execution_count": 163,
   "outputs": [
    {
     "name": "stdout",
     "output_type": "stream",
     "text": [
      "6040 3706 1000209 165.5975165562914 269.88909875876953 4.468362562231285\n",
      "6038 3533 575281 95.27674726730706 162.8307387489386 2.6967661270112386\n"
     ]
    }
   ],
   "source": [
    "ratings_df = df\n",
    "print(ratings_df[\"user_id\"].nunique(), ratings_df[\"item_id\"].nunique(), len(ratings_df), ratings_df.groupby(\"user_id\").size().mean(), ratings_df.groupby(\"item_id\").size().mean(), 100 * (len(ratings_df) / (ratings_df[\"user_id\"].nunique() * ratings_df[\"item_id\"].nunique())))\n",
    "\n",
    "final_df = preprocessing(ratings_df, user_core=20, threshold=3.5)\n",
    "print(final_df[\"user_id\"].nunique(), final_df[\"item_id\"].nunique(), len(final_df), final_df.groupby(\"user_id\").size().mean(), final_df.groupby(\"item_id\").size().mean(), 100 * (len(final_df) / (final_df[\"user_id\"].nunique() * final_df[\"item_id\"].nunique())))"
   ],
   "metadata": {
    "collapsed": false,
    "ExecuteTime": {
     "end_time": "2023-09-25T14:42:10.502916100Z",
     "start_time": "2023-09-25T14:42:10.218761400Z"
    }
   }
  },
  {
   "cell_type": "code",
   "execution_count": 142,
   "outputs": [
    {
     "data": {
      "text/plain": "5974"
     },
     "execution_count": 142,
     "metadata": {},
     "output_type": "execute_result"
    }
   ],
   "source": [
    "(final_df.groupby(\"item_id\").size() > 1).sum()"
   ],
   "metadata": {
    "collapsed": false,
    "ExecuteTime": {
     "end_time": "2023-09-25T08:47:34.907711500Z",
     "start_time": "2023-09-25T08:47:34.841266300Z"
    }
   }
  },
  {
   "cell_type": "code",
   "execution_count": 127,
   "outputs": [],
   "source": [
    "final_df[[\"user_id\", \"item_id\"]].to_csv(\"ml1m_preprocessed.csv\", index=False, header=None)"
   ],
   "metadata": {
    "collapsed": false,
    "ExecuteTime": {
     "end_time": "2023-09-25T06:37:27.170336300Z",
     "start_time": "2023-09-25T06:37:26.320418Z"
    }
   }
  },
  {
   "cell_type": "code",
   "execution_count": null,
   "outputs": [],
   "source": [],
   "metadata": {
    "collapsed": false
   }
  }
 ],
 "metadata": {
  "kernelspec": {
   "display_name": "Python 3",
   "language": "python",
   "name": "python3"
  },
  "language_info": {
   "codemirror_mode": {
    "name": "ipython",
    "version": 2
   },
   "file_extension": ".py",
   "mimetype": "text/x-python",
   "name": "python",
   "nbconvert_exporter": "python",
   "pygments_lexer": "ipython2",
   "version": "2.7.6"
  }
 },
 "nbformat": 4,
 "nbformat_minor": 0
}
