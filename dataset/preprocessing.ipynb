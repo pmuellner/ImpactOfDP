{
 "cells": [
  {
   "cell_type": "code",
   "execution_count": 31,
   "metadata": {
    "collapsed": true,
    "ExecuteTime": {
     "end_time": "2023-10-16T10:14:04.045896700Z",
     "start_time": "2023-10-16T10:14:04.026687200Z"
    }
   },
   "outputs": [],
   "source": [
    "import pandas as pd\n",
    "import numpy as np\n",
    "from sklearn.preprocessing import MinMaxScaler"
   ]
  },
  {
   "cell_type": "code",
   "execution_count": 32,
   "outputs": [],
   "source": [
    "def preprocessing(df, user_core=20, threshold=3.5):\n",
    "    profile_size = df.groupby(\"user_id\").size()\n",
    "    uids = profile_size[profile_size >= user_core].index\n",
    "    modified_df = df[df[\"user_id\"].isin(uids)].copy()\n",
    "    modified_df = modified_df[modified_df[\"rating\"].astype(float) >= threshold]\n",
    "    return modified_df"
   ],
   "metadata": {
    "collapsed": false,
    "ExecuteTime": {
     "end_time": "2023-10-16T10:14:04.206017600Z",
     "start_time": "2023-10-16T10:14:04.179925200Z"
    }
   }
  },
  {
   "cell_type": "markdown",
   "source": [
    "# Amazon"
   ],
   "metadata": {
    "collapsed": false
   }
  },
  {
   "cell_type": "code",
   "execution_count": 275,
   "outputs": [
    {
     "data": {
      "text/plain": "   user_id  item_id  rating\n0        0        0     5.0\n1        1        0     4.0\n2        2        0     4.0\n3        3        0     5.0\n4        4        0     4.0",
      "text/html": "<div>\n<style scoped>\n    .dataframe tbody tr th:only-of-type {\n        vertical-align: middle;\n    }\n\n    .dataframe tbody tr th {\n        vertical-align: top;\n    }\n\n    .dataframe thead th {\n        text-align: right;\n    }\n</style>\n<table border=\"1\" class=\"dataframe\">\n  <thead>\n    <tr style=\"text-align: right;\">\n      <th></th>\n      <th>user_id</th>\n      <th>item_id</th>\n      <th>rating</th>\n    </tr>\n  </thead>\n  <tbody>\n    <tr>\n      <th>0</th>\n      <td>0</td>\n      <td>0</td>\n      <td>5.0</td>\n    </tr>\n    <tr>\n      <th>1</th>\n      <td>1</td>\n      <td>0</td>\n      <td>4.0</td>\n    </tr>\n    <tr>\n      <th>2</th>\n      <td>2</td>\n      <td>0</td>\n      <td>4.0</td>\n    </tr>\n    <tr>\n      <th>3</th>\n      <td>3</td>\n      <td>0</td>\n      <td>5.0</td>\n    </tr>\n    <tr>\n      <th>4</th>\n      <td>4</td>\n      <td>0</td>\n      <td>4.0</td>\n    </tr>\n  </tbody>\n</table>\n</div>"
     },
     "execution_count": 275,
     "metadata": {},
     "output_type": "execute_result"
    }
   ],
   "source": [
    "df = pd.read_csv(\"Grocery_and_Gourmet_Food.csv\", sep=\",\", header=None, names=[\"item_id\", \"user_id\", \"rating\", \"timestamp\"])\n",
    "df = df[[\"user_id\", \"item_id\", \"rating\"]]\n",
    "df[\"user_id\"] = df[\"user_id\"].map({b: a for a, b in enumerate(df[\"user_id\"].unique())})\n",
    "df[\"item_id\"] = df[\"item_id\"].map({b: a for a, b in enumerate(df[\"item_id\"].unique())})\n",
    "df.head()"
   ],
   "metadata": {
    "collapsed": false,
    "ExecuteTime": {
     "end_time": "2023-10-17T20:37:54.838317Z",
     "start_time": "2023-10-17T20:37:44.504034900Z"
    }
   }
  },
  {
   "cell_type": "code",
   "execution_count": 276,
   "outputs": [
    {
     "name": "stdout",
     "output_type": "stream",
     "text": [
      "8454 58532 288374 34.11095339484268 4.926775097382628 0.05827744378261922\n",
      "4482 12658 147676 32.94868362338242 11.666613999051982 0.2602992860118693\n",
      "3672 8565 120435 32.798202614379086 14.061295971978984 0.3829328968403863\n",
      "3412 7503 111681 32.73182883939039 14.88484606157537 0.4362498845713766\n",
      "3318 7131 108496 32.69921639541893 15.21469639601739 0.4585502229058887\n",
      "3276 6994 107161 32.71092796092796 15.321847297683728 0.4676998564616523\n",
      "3260 6945 106666 32.71963190184049 15.358675305975522 0.4711250093857522\n",
      "3255 6921 106476 32.71152073732719 15.384482011270048 0.47264153644454826\n",
      "3252 6908 106367 32.70817958179582 15.397654892877823 0.4734826227822209\n",
      "3250 6905 106319 32.71353846153846 15.39739319333816 0.4737659444104049\n",
      "3249 6899 106276 32.71037242228378 15.404551384258589 0.47413208323356687\n",
      "3247 6895 106222 32.71388974437943 15.405656272661348 0.47445815437823674\n",
      "3244 6890 106145 32.72040690505548 15.40566037735849 0.47489705232301144\n",
      "3244 6885 106125 32.714241676942045 15.413943355119825 0.4751523845597973\n",
      "\n",
      "Converged ... apply rating threshold\n",
      "3222 6839 72176 22.400993171942893 10.553589706097382 0.32754778727800693\n"
     ]
    }
   ],
   "source": [
    "thresh = df[\"rating\"].mean()\n",
    "item_core = 5\n",
    "user_core = 20\n",
    "modified_df = df.copy()\n",
    "n_prev_interactions = -1\n",
    "stop = False\n",
    "while stop is False:\n",
    "    # item core\n",
    "    item_profile_size = modified_df.groupby(\"item_id\").size()\n",
    "    iids = item_profile_size[item_profile_size >= item_core].index\n",
    "    modified_df = modified_df[modified_df[\"item_id\"].isin(iids)].copy()\n",
    "\n",
    "    # user core\n",
    "    profile_size = modified_df.groupby(\"user_id\").size()\n",
    "    uids = profile_size[profile_size >= user_core].index\n",
    "    modified_df = modified_df[modified_df[\"user_id\"].isin(uids)].copy()\n",
    "    #modified_df = modified_df[modified_df[\"rating\"].astype(float) >= thresh].copy()\n",
    "\n",
    "    if n_prev_interactions == len(modified_df):\n",
    "        stop = True\n",
    "        print()\n",
    "        print(\"Converged ... apply rating threshold\")\n",
    "        modified_df = modified_df[modified_df[\"rating\"].astype(float) >= thresh].copy()\n",
    "        print(modified_df[\"user_id\"].nunique(), modified_df[\"item_id\"].nunique(), len(modified_df), modified_df.groupby(\"user_id\").size().mean(), modified_df.groupby(\"item_id\").size().mean(), 100 * (len(modified_df) / (modified_df[\"user_id\"].nunique() * modified_df[\"item_id\"].nunique())))\n",
    "\n",
    "    else:\n",
    "        n_prev_interactions = len(modified_df)\n",
    "        print(modified_df[\"user_id\"].nunique(), modified_df[\"item_id\"].nunique(), len(modified_df), modified_df.groupby(\"user_id\").size().mean(), modified_df.groupby(\"item_id\").size().mean(), 100 * (len(modified_df) / (modified_df[\"user_id\"].nunique() * modified_df[\"item_id\"].nunique())))\n",
    "\n",
    "final_df = modified_df.copy()"
   ],
   "metadata": {
    "collapsed": false,
    "ExecuteTime": {
     "end_time": "2023-10-17T20:37:56.293308100Z",
     "start_time": "2023-10-17T20:37:54.844346800Z"
    }
   }
  },
  {
   "cell_type": "code",
   "execution_count": 277,
   "outputs": [
    {
     "data": {
      "text/plain": "count    3222.000000\nmean       22.400993\nstd        15.411482\nmin         1.000000\n25%        15.000000\n50%        20.000000\n75%        26.000000\nmax       230.000000\ndtype: float64"
     },
     "execution_count": 277,
     "metadata": {},
     "output_type": "execute_result"
    }
   ],
   "source": [
    "final_df.groupby(\"user_id\").size().describe()"
   ],
   "metadata": {
    "collapsed": false,
    "ExecuteTime": {
     "end_time": "2023-10-17T20:38:07.227370500Z",
     "start_time": "2023-10-17T20:38:07.212352700Z"
    }
   }
  },
  {
   "cell_type": "code",
   "execution_count": 278,
   "outputs": [
    {
     "data": {
      "text/plain": "3222"
     },
     "execution_count": 278,
     "metadata": {},
     "output_type": "execute_result"
    }
   ],
   "source": [
    "final_df[\"user_id\"].nunique()"
   ],
   "metadata": {
    "collapsed": false,
    "ExecuteTime": {
     "end_time": "2023-10-17T20:38:12.669893500Z",
     "start_time": "2023-10-17T20:38:12.656710600Z"
    }
   }
  },
  {
   "cell_type": "code",
   "execution_count": 279,
   "outputs": [],
   "source": [
    "final_df[[\"user_id\", \"item_id\"]].to_csv(\"grocery_preprocessed.csv\", index=False, header=None)"
   ],
   "metadata": {
    "collapsed": false,
    "ExecuteTime": {
     "end_time": "2023-10-17T20:38:18.785785100Z",
     "start_time": "2023-10-17T20:38:18.702782400Z"
    }
   }
  },
  {
   "cell_type": "markdown",
   "source": [
    "# Amazon Sports and Outdoors"
   ],
   "metadata": {
    "collapsed": false
   }
  },
  {
   "cell_type": "code",
   "execution_count": 37,
   "outputs": [
    {
     "data": {
      "text/plain": "   user_id  item_id  rating\n0        0        0     5.0\n1        1        0     4.0\n2        2        0     1.0\n3        3        0     5.0\n4        4        0     1.0",
      "text/html": "<div>\n<style scoped>\n    .dataframe tbody tr th:only-of-type {\n        vertical-align: middle;\n    }\n\n    .dataframe tbody tr th {\n        vertical-align: top;\n    }\n\n    .dataframe thead th {\n        text-align: right;\n    }\n</style>\n<table border=\"1\" class=\"dataframe\">\n  <thead>\n    <tr style=\"text-align: right;\">\n      <th></th>\n      <th>user_id</th>\n      <th>item_id</th>\n      <th>rating</th>\n    </tr>\n  </thead>\n  <tbody>\n    <tr>\n      <th>0</th>\n      <td>0</td>\n      <td>0</td>\n      <td>5.0</td>\n    </tr>\n    <tr>\n      <th>1</th>\n      <td>1</td>\n      <td>0</td>\n      <td>4.0</td>\n    </tr>\n    <tr>\n      <th>2</th>\n      <td>2</td>\n      <td>0</td>\n      <td>1.0</td>\n    </tr>\n    <tr>\n      <th>3</th>\n      <td>3</td>\n      <td>0</td>\n      <td>5.0</td>\n    </tr>\n    <tr>\n      <th>4</th>\n      <td>4</td>\n      <td>0</td>\n      <td>1.0</td>\n    </tr>\n  </tbody>\n</table>\n</div>"
     },
     "execution_count": 37,
     "metadata": {},
     "output_type": "execute_result"
    }
   ],
   "source": [
    "df = pd.read_csv(\"sportsandoutdoors/Sports_and_Outdoors.csv\", sep=\",\", header=None, names=[\"item_id\", \"user_id\", \"rating\", \"timestamp\"])\n",
    "df = df[[\"user_id\", \"item_id\", \"rating\"]]\n",
    "df[\"user_id\"] = df[\"user_id\"].map({b: a for a, b in enumerate(df[\"user_id\"].unique())})\n",
    "df[\"item_id\"] = df[\"item_id\"].map({b: a for a, b in enumerate(df[\"item_id\"].unique())})\n",
    "df.head()"
   ],
   "metadata": {
    "collapsed": false,
    "ExecuteTime": {
     "end_time": "2023-10-16T11:18:07.530781700Z",
     "start_time": "2023-10-16T11:17:37.181976600Z"
    }
   }
  },
  {
   "cell_type": "code",
   "execution_count": 57,
   "outputs": [
    {
     "name": "stdout",
     "output_type": "stream",
     "text": [
      "6703391 957764 12980837 1.9364582791008311\n",
      "4.243398403354114\n",
      "22703 172060 602952 26.558252213363872 3.504312449145647 0.015435459847357825\n"
     ]
    }
   ],
   "source": [
    "ratings_df = df\n",
    "print(ratings_df[\"user_id\"].nunique(), ratings_df[\"item_id\"].nunique(), len(ratings_df), ratings_df.groupby(\"user_id\").size().mean())\n",
    "print(ratings_df[\"rating\"].mean())\n",
    "final_df = preprocessing(ratings_df, user_core=20, threshold=3.5)\n",
    "#final_df = preprocessing(ratings_df, user_core=20, threshold=ratings_df[\"rating\"].mean())\n",
    "print(final_df[\"user_id\"].nunique(), final_df[\"item_id\"].nunique(), len(final_df), final_df.groupby(\"user_id\").size().mean(), final_df.groupby(\"item_id\").size().mean(), 100 * (len(final_df) / (final_df[\"user_id\"].nunique() * final_df[\"item_id\"].nunique())))"
   ],
   "metadata": {
    "collapsed": false,
    "ExecuteTime": {
     "end_time": "2023-10-16T11:34:45.640164Z",
     "start_time": "2023-10-16T11:34:41.567493700Z"
    }
   }
  },
  {
   "cell_type": "code",
   "execution_count": 121,
   "outputs": [
    {
     "name": "stdout",
     "output_type": "stream",
     "text": [
      "11959 48398 242643 20.289572706748057 5.0134922930699615 0.041922337093987475\n"
     ]
    }
   ],
   "source": [
    "# filter items\n",
    "item_core = 25\n",
    "item_profile_size = df.groupby(\"item_id\").size()\n",
    "iids = item_profile_size[item_profile_size >= item_core].index\n",
    "modified_df = df[df[\"item_id\"].isin(iids)].copy()\n",
    "\n",
    "final_df = preprocessing(modified_df, user_core=20, threshold=modified_df[\"rating\"].mean())\n",
    "print(final_df[\"user_id\"].nunique(), final_df[\"item_id\"].nunique(), len(final_df), final_df.groupby(\"user_id\").size().mean(), final_df.groupby(\"item_id\").size().mean(), 100 * (len(final_df) / (final_df[\"user_id\"].nunique() * final_df[\"item_id\"].nunique())))"
   ],
   "metadata": {
    "collapsed": false,
    "ExecuteTime": {
     "end_time": "2023-10-16T12:32:53.550459600Z",
     "start_time": "2023-10-16T12:32:51.464085700Z"
    }
   }
  },
  {
   "cell_type": "code",
   "execution_count": 162,
   "outputs": [
    {
     "data": {
      "text/plain": "4.243398403354114"
     },
     "execution_count": 162,
     "metadata": {},
     "output_type": "execute_result"
    }
   ],
   "source": [
    "df[\"rating\"].mean()"
   ],
   "metadata": {
    "collapsed": false,
    "ExecuteTime": {
     "end_time": "2023-10-17T09:26:02.038461500Z",
     "start_time": "2023-10-17T09:26:01.978460Z"
    }
   }
  },
  {
   "cell_type": "code",
   "execution_count": 177,
   "outputs": [
    {
     "name": "stdout",
     "output_type": "stream",
     "text": [
      "21374 168017 657044 30.740338729297278 3.9105804769755443 0.018295969294355497\n",
      "15031 75630 460248 30.61991883440889 6.085521618405394 0.04048647208040313\n",
      "14079 63659 430703 30.591874422899355 6.765783314221085 0.048055851368854915\n",
      "13862 61165 424141 30.597388544221612 6.934374233630344 0.05002434160749058\n",
      "13807 60585 422522 30.602013471427536 6.974036477675992 0.05051087475683344\n",
      "13796 60419 422147 30.599231661351116 6.986990847250037 0.05064504818244446\n",
      "13793 60392 422065 30.599941999564997 6.988756788978673 0.050668866736595895\n",
      "13793 60388 422061 30.59965199738998 6.989153474200172 0.05067174272602169\n",
      "\n",
      "Converged ... apply rating threshold\n",
      "13736 56446 287237 20.911255096097847 5.088704248308117 0.037046478220064925\n"
     ]
    }
   ],
   "source": [
    "thresh = df[\"rating\"].mean()\n",
    "item_core = 2\n",
    "user_core = 20\n",
    "modified_df = df.copy()\n",
    "n_prev_interactions = -1\n",
    "stop = False\n",
    "while stop is False:\n",
    "    # item core\n",
    "    item_profile_size = modified_df.groupby(\"item_id\").size()\n",
    "    iids = item_profile_size[item_profile_size >= item_core].index\n",
    "    modified_df = modified_df[modified_df[\"item_id\"].isin(iids)].copy()\n",
    "\n",
    "    # user core\n",
    "    profile_size = modified_df.groupby(\"user_id\").size()\n",
    "    uids = profile_size[profile_size >= user_core].index\n",
    "    modified_df = modified_df[modified_df[\"user_id\"].isin(uids)].copy()\n",
    "    #modified_df = modified_df[modified_df[\"rating\"].astype(float) >= thresh].copy()\n",
    "\n",
    "    if n_prev_interactions == len(modified_df):\n",
    "        stop = True\n",
    "        print()\n",
    "        print(\"Converged ... apply rating threshold\")\n",
    "        modified_df = modified_df[modified_df[\"rating\"].astype(float) >= thresh].copy()\n",
    "        print(modified_df[\"user_id\"].nunique(), modified_df[\"item_id\"].nunique(), len(modified_df), modified_df.groupby(\"user_id\").size().mean(), modified_df.groupby(\"item_id\").size().mean(), 100 * (len(modified_df) / (modified_df[\"user_id\"].nunique() * modified_df[\"item_id\"].nunique())))\n",
    "\n",
    "    else:\n",
    "        n_prev_interactions = len(modified_df)\n",
    "        print(modified_df[\"user_id\"].nunique(), modified_df[\"item_id\"].nunique(), len(modified_df), modified_df.groupby(\"user_id\").size().mean(), modified_df.groupby(\"item_id\").size().mean(), 100 * (len(modified_df) / (modified_df[\"user_id\"].nunique() * modified_df[\"item_id\"].nunique())))\n",
    "\n",
    "final_df = modified_df.copy()"
   ],
   "metadata": {
    "collapsed": false,
    "ExecuteTime": {
     "end_time": "2023-10-17T10:14:55.738862100Z",
     "start_time": "2023-10-17T10:14:51.832886600Z"
    }
   }
  },
  {
   "cell_type": "code",
   "execution_count": 178,
   "outputs": [
    {
     "data": {
      "text/plain": "count    13736.000000\nmean        20.911255\nstd         12.597689\nmin          1.000000\n25%         14.000000\n50%         19.000000\n75%         25.000000\nmax        247.000000\ndtype: float64"
     },
     "execution_count": 178,
     "metadata": {},
     "output_type": "execute_result"
    }
   ],
   "source": [
    "final_df.groupby(\"user_id\").size().describe()"
   ],
   "metadata": {
    "collapsed": false,
    "ExecuteTime": {
     "end_time": "2023-10-17T10:14:55.783877800Z",
     "start_time": "2023-10-17T10:14:55.739862200Z"
    }
   }
  },
  {
   "cell_type": "code",
   "execution_count": null,
   "outputs": [],
   "source": [],
   "metadata": {
    "collapsed": false
   }
  },
  {
   "cell_type": "code",
   "execution_count": 155,
   "outputs": [],
   "source": [
    "final_df[[\"user_id\", \"item_id\"]].to_csv(\"sportsoutdoors_preprocessed.csv\", index=False, header=None)"
   ],
   "metadata": {
    "collapsed": false,
    "ExecuteTime": {
     "end_time": "2023-10-16T14:14:54.817612900Z",
     "start_time": "2023-10-16T14:14:54.709404700Z"
    }
   }
  },
  {
   "cell_type": "markdown",
   "source": [
    "# LFM 3k User Groups"
   ],
   "metadata": {
    "collapsed": false
   }
  },
  {
   "cell_type": "code",
   "execution_count": 22,
   "outputs": [
    {
     "name": "stderr",
     "output_type": "stream",
     "text": [
      "C:\\Users\\pmuellner\\AppData\\Local\\Temp\\ipykernel_5436\\3753643500.py:1: ParserWarning: Falling back to the 'python' engine because the 'c' engine does not support regex separators (separators > 1 char and different from '\\s+' are interpreted as regex); you can avoid this warning by specifying engine='python'.\n",
      "  df = pd.read_csv(\"LFM-3k/artist_ratings.csv\", sep=\"\\;\", header=None, names=[\"user_id\", \"item_id\", \"listening_count\"])\n"
     ]
    },
    {
     "data": {
      "text/plain": "   user_id  item_id  listening_count\n0  1021445       12       184.222707\n1  1021445       16         1.000000\n2  1021445       28        27.174672\n3  1021445       29         1.000000\n4  1021445       46         1.000000",
      "text/html": "<div>\n<style scoped>\n    .dataframe tbody tr th:only-of-type {\n        vertical-align: middle;\n    }\n\n    .dataframe tbody tr th {\n        vertical-align: top;\n    }\n\n    .dataframe thead th {\n        text-align: right;\n    }\n</style>\n<table border=\"1\" class=\"dataframe\">\n  <thead>\n    <tr style=\"text-align: right;\">\n      <th></th>\n      <th>user_id</th>\n      <th>item_id</th>\n      <th>listening_count</th>\n    </tr>\n  </thead>\n  <tbody>\n    <tr>\n      <th>0</th>\n      <td>1021445</td>\n      <td>12</td>\n      <td>184.222707</td>\n    </tr>\n    <tr>\n      <th>1</th>\n      <td>1021445</td>\n      <td>16</td>\n      <td>1.000000</td>\n    </tr>\n    <tr>\n      <th>2</th>\n      <td>1021445</td>\n      <td>28</td>\n      <td>27.174672</td>\n    </tr>\n    <tr>\n      <th>3</th>\n      <td>1021445</td>\n      <td>29</td>\n      <td>1.000000</td>\n    </tr>\n    <tr>\n      <th>4</th>\n      <td>1021445</td>\n      <td>46</td>\n      <td>1.000000</td>\n    </tr>\n  </tbody>\n</table>\n</div>"
     },
     "execution_count": 22,
     "metadata": {},
     "output_type": "execute_result"
    }
   ],
   "source": [
    "df = pd.read_csv(\"LFM-3k/artist_ratings.csv\", sep=\"\\;\", header=None, names=[\"user_id\", \"item_id\", \"listening_count\"])\n",
    "df.head()"
   ],
   "metadata": {
    "collapsed": false,
    "ExecuteTime": {
     "end_time": "2023-10-13T13:45:32.560849900Z",
     "start_time": "2023-10-13T13:45:25.230689200Z"
    }
   }
  },
  {
   "cell_type": "code",
   "execution_count": 23,
   "outputs": [
    {
     "name": "stdout",
     "output_type": "stream",
     "text": [
      "3000 352805 1755361 585.1203333333333\n",
      "1.1292309186701142\n",
      "2999 78799 348437 116.18439479826608 4.421845454891559 0.14744399649521706\n"
     ]
    }
   ],
   "source": [
    "ratings_df = pd.DataFrame()\n",
    "for user_id, data in df.groupby(\"user_id\"):\n",
    "    ratings = MinMaxScaler(feature_range=(1, 5)).fit_transform(data[\"listening_count\"].values.reshape(-1, 1).astype(float))\n",
    "    new_rows = data[[\"user_id\", \"item_id\"]].copy()\n",
    "    new_rows[\"rating\"] = ratings\n",
    "    ratings_df = pd.concat([ratings_df, new_rows])\n",
    "ratings_df.columns = [\"user_id\", \"item_id\", \"rating\"]\n",
    "\n",
    "print(ratings_df[\"user_id\"].nunique(), ratings_df[\"item_id\"].nunique(), len(ratings_df), ratings_df.groupby(\"user_id\").size().mean())\n",
    "print(ratings_df[\"rating\"].mean())\n",
    "\n",
    "final_df = preprocessing(ratings_df, user_core=20, threshold=ratings_df[\"rating\"].mean())\n",
    "print(final_df[\"user_id\"].nunique(), final_df[\"item_id\"].nunique(), len(final_df), final_df.groupby(\"user_id\").size().mean(), final_df.groupby(\"item_id\").size().mean(), 100 * (len(final_df) / (final_df[\"user_id\"].nunique() * final_df[\"item_id\"].nunique())))"
   ],
   "metadata": {
    "collapsed": false,
    "ExecuteTime": {
     "end_time": "2023-10-13T13:46:19.032735600Z",
     "start_time": "2023-10-13T13:45:43.786000600Z"
    }
   }
  },
  {
   "cell_type": "code",
   "execution_count": 24,
   "outputs": [],
   "source": [
    "final_df[[\"user_id\", \"item_id\"]].to_csv(\"lfm3k_preprocessed.csv\", index=False, header=None)"
   ],
   "metadata": {
    "collapsed": false,
    "ExecuteTime": {
     "end_time": "2023-10-13T13:48:02.899791Z",
     "start_time": "2023-10-13T13:48:02.501913100Z"
    }
   }
  },
  {
   "cell_type": "markdown",
   "source": [
    "# ML 1M"
   ],
   "metadata": {
    "collapsed": false
   }
  },
  {
   "cell_type": "code",
   "execution_count": 265,
   "outputs": [
    {
     "name": "stderr",
     "output_type": "stream",
     "text": [
      "C:\\Users\\pmuellner\\AppData\\Local\\Temp\\ipykernel_5436\\3472538835.py:1: ParserWarning: Falling back to the 'python' engine because the 'c' engine does not support regex separators (separators > 1 char and different from '\\s+' are interpreted as regex); you can avoid this warning by specifying engine='python'.\n",
      "  df = pd.read_csv(\"ml-1m/ratings.dat\", sep=\"::\", header=None)\n"
     ]
    },
    {
     "data": {
      "text/plain": "   user_id  item_id  rating  timestamp\n0        1     1193       5  978300760\n1        1      661       3  978302109\n2        1      914       3  978301968\n3        1     3408       4  978300275\n4        1     2355       5  978824291",
      "text/html": "<div>\n<style scoped>\n    .dataframe tbody tr th:only-of-type {\n        vertical-align: middle;\n    }\n\n    .dataframe tbody tr th {\n        vertical-align: top;\n    }\n\n    .dataframe thead th {\n        text-align: right;\n    }\n</style>\n<table border=\"1\" class=\"dataframe\">\n  <thead>\n    <tr style=\"text-align: right;\">\n      <th></th>\n      <th>user_id</th>\n      <th>item_id</th>\n      <th>rating</th>\n      <th>timestamp</th>\n    </tr>\n  </thead>\n  <tbody>\n    <tr>\n      <th>0</th>\n      <td>1</td>\n      <td>1193</td>\n      <td>5</td>\n      <td>978300760</td>\n    </tr>\n    <tr>\n      <th>1</th>\n      <td>1</td>\n      <td>661</td>\n      <td>3</td>\n      <td>978302109</td>\n    </tr>\n    <tr>\n      <th>2</th>\n      <td>1</td>\n      <td>914</td>\n      <td>3</td>\n      <td>978301968</td>\n    </tr>\n    <tr>\n      <th>3</th>\n      <td>1</td>\n      <td>3408</td>\n      <td>4</td>\n      <td>978300275</td>\n    </tr>\n    <tr>\n      <th>4</th>\n      <td>1</td>\n      <td>2355</td>\n      <td>5</td>\n      <td>978824291</td>\n    </tr>\n  </tbody>\n</table>\n</div>"
     },
     "execution_count": 265,
     "metadata": {},
     "output_type": "execute_result"
    }
   ],
   "source": [
    "df = pd.read_csv(\"ml-1m/ratings.dat\", sep=\"::\", header=None)\n",
    "df.columns = [\"user_id\", \"item_id\", \"rating\", \"timestamp\"]\n",
    "df.head()"
   ],
   "metadata": {
    "collapsed": false,
    "ExecuteTime": {
     "end_time": "2023-10-17T11:23:15.033433200Z",
     "start_time": "2023-10-17T11:23:09.294142500Z"
    }
   }
  },
  {
   "cell_type": "code",
   "execution_count": 266,
   "outputs": [
    {
     "name": "stdout",
     "output_type": "stream",
     "text": [
      "6040 3706 1000209 165.5975165562914 269.88909875876953 4.468362562231285\n",
      "3.581564453029317\n",
      "6038 3533 575281 95.27674726730706 162.8307387489386 2.6967661270112386\n"
     ]
    }
   ],
   "source": [
    "ratings_df = df\n",
    "print(ratings_df[\"user_id\"].nunique(), ratings_df[\"item_id\"].nunique(), len(ratings_df), ratings_df.groupby(\"user_id\").size().mean(), ratings_df.groupby(\"item_id\").size().mean(), 100 * (len(ratings_df) / (ratings_df[\"user_id\"].nunique() * ratings_df[\"item_id\"].nunique())))\n",
    "print(ratings_df[\"rating\"].mean())\n",
    "\n",
    "final_df = preprocessing(ratings_df, user_core=20, threshold=ratings_df[\"rating\"].mean())\n",
    "print(final_df[\"user_id\"].nunique(), final_df[\"item_id\"].nunique(), len(final_df), final_df.groupby(\"user_id\").size().mean(), final_df.groupby(\"item_id\").size().mean(), 100 * (len(final_df) / (final_df[\"user_id\"].nunique() * final_df[\"item_id\"].nunique())))"
   ],
   "metadata": {
    "collapsed": false,
    "ExecuteTime": {
     "end_time": "2023-10-17T11:23:15.300376200Z",
     "start_time": "2023-10-17T11:23:15.045448400Z"
    }
   }
  },
  {
   "cell_type": "code",
   "execution_count": 267,
   "outputs": [
    {
     "data": {
      "text/plain": "count    6038.000000\nmean       95.276747\nstd       105.005005\nmin         1.000000\n25%        27.000000\n50%        58.000000\n75%       124.000000\nmax      1435.000000\ndtype: float64"
     },
     "execution_count": 267,
     "metadata": {},
     "output_type": "execute_result"
    }
   ],
   "source": [
    "final_df.groupby(\"user_id\").size().describe()"
   ],
   "metadata": {
    "collapsed": false,
    "ExecuteTime": {
     "end_time": "2023-10-17T11:23:15.353052400Z",
     "start_time": "2023-10-17T11:23:15.303406200Z"
    }
   }
  },
  {
   "cell_type": "code",
   "execution_count": 30,
   "outputs": [],
   "source": [
    "final_df[[\"user_id\", \"item_id\"]].to_csv(\"ml1m_preprocessed.csv\", index=False, header=None)"
   ],
   "metadata": {
    "collapsed": false,
    "ExecuteTime": {
     "end_time": "2023-10-13T13:49:39.311721300Z",
     "start_time": "2023-10-13T13:49:38.769766300Z"
    }
   }
  },
  {
   "cell_type": "code",
   "execution_count": null,
   "outputs": [],
   "source": [],
   "metadata": {
    "collapsed": false
   }
  }
 ],
 "metadata": {
  "kernelspec": {
   "display_name": "Python 3",
   "language": "python",
   "name": "python3"
  },
  "language_info": {
   "codemirror_mode": {
    "name": "ipython",
    "version": 2
   },
   "file_extension": ".py",
   "mimetype": "text/x-python",
   "name": "python",
   "nbconvert_exporter": "python",
   "pygments_lexer": "ipython2",
   "version": "2.7.6"
  }
 },
 "nbformat": 4,
 "nbformat_minor": 0
}
